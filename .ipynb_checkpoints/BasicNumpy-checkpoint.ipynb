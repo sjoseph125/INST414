{
  "nbformat": 4,
  "nbformat_minor": 0,
  "metadata": {
    "kernelspec": {
      "display_name": "Python 3",
      "language": "python",
      "name": "python3"
    },
    "language_info": {
      "codemirror_mode": {
        "name": "ipython",
        "version": 3
      },
      "file_extension": ".py",
      "mimetype": "text/x-python",
      "name": "python",
      "nbconvert_exporter": "python",
      "pygments_lexer": "ipython3",
      "version": "3.7.0"
    },
    "colab": {
      "name": "BasicNumpy.ipynb",
      "provenance": []
    }
  },
  "cells": [
    {
      "cell_type": "code",
      "metadata": {
        "id": "Nojv5Dn97kIR",
        "colab_type": "code",
        "colab": {
          "base_uri": "https://localhost:8080/",
          "height": 37
        },
        "outputId": "c2119c1c-8376-4fc6-ddfa-4779f3ccb8b4"
      },
      "source": [
        "import numpy\n",
        "numpy.__version__"
      ],
      "execution_count": 1,
      "outputs": [
        {
          "output_type": "execute_result",
          "data": {
            "application/vnd.google.colaboratory.intrinsic+json": {
              "type": "string"
            },
            "text/plain": [
              "'1.18.5'"
            ]
          },
          "metadata": {
            "tags": []
          },
          "execution_count": 1
        }
      ]
    },
    {
      "cell_type": "code",
      "metadata": {
        "id": "eBL3iL-C7kIb",
        "colab_type": "code",
        "colab": {}
      },
      "source": [
        "import numpy as np"
      ],
      "execution_count": 2,
      "outputs": []
    },
    {
      "cell_type": "markdown",
      "metadata": {
        "id": "5NhIU06P7kIi",
        "colab_type": "text"
      },
      "source": [
        "NumPy arrays contain values of a single type."
      ]
    },
    {
      "cell_type": "markdown",
      "metadata": {
        "id": "wDd7Cxp37kIj",
        "colab_type": "text"
      },
      "source": [
        "### Arrays\n",
        "The Numpy array is fixed-type data container."
      ]
    },
    {
      "cell_type": "code",
      "metadata": {
        "id": "NuA168GcPXyH",
        "colab_type": "code",
        "colab": {
          "base_uri": "https://localhost:8080/",
          "height": 395
        },
        "outputId": "8fca6f23-ecd8-44ff-9951-08b982c2f81d"
      },
      "source": [
        "from IPython.display import display, Image\n",
        "i = Image(url = 'https://raw.githubusercontent.com/adhiraiyan/DeepLearningWithTF2.0/master/notebooks/figures/fig0201a.png')\n",
        "display(i)"
      ],
      "execution_count": 3,
      "outputs": [
        {
          "output_type": "display_data",
          "data": {
            "text/html": [
              "<img src=\"https://raw.githubusercontent.com/adhiraiyan/DeepLearningWithTF2.0/master/notebooks/figures/fig0201a.png\"/>"
            ],
            "text/plain": [
              "<IPython.core.display.Image object>"
            ]
          },
          "metadata": {
            "tags": []
          }
        }
      ]
    },
    {
      "cell_type": "code",
      "metadata": {
        "id": "279REFar7kIk",
        "colab_type": "code",
        "colab": {
          "base_uri": "https://localhost:8080/",
          "height": 34
        },
        "outputId": "360086e5-22a9-43e3-9b94-fd42672891de"
      },
      "source": [
        "# Arrays can be created from lists\n",
        "np.array([9, 7, 8, 5])"
      ],
      "execution_count": 3,
      "outputs": [
        {
          "output_type": "execute_result",
          "data": {
            "text/plain": [
              "array([9, 7, 8, 5])"
            ]
          },
          "metadata": {
            "tags": []
          },
          "execution_count": 3
        }
      ]
    },
    {
      "cell_type": "code",
      "metadata": {
        "id": "AjfUyG9c7kIp",
        "colab_type": "code",
        "colab": {
          "base_uri": "https://localhost:8080/",
          "height": 34
        },
        "outputId": "d6c77420-aad6-4651-d168-ae601c5c75e4"
      },
      "source": [
        "# If there are different types in the list, Numpy upcasts\n",
        "np.array([1, 7.89, 5])"
      ],
      "execution_count": 4,
      "outputs": [
        {
          "output_type": "execute_result",
          "data": {
            "text/plain": [
              "array([1.  , 7.89, 5.  ])"
            ]
          },
          "metadata": {
            "tags": []
          },
          "execution_count": 4
        }
      ]
    },
    {
      "cell_type": "code",
      "metadata": {
        "id": "LWD3NPFU7kIt",
        "colab_type": "code",
        "colab": {
          "base_uri": "https://localhost:8080/",
          "height": 34
        },
        "outputId": "1fd0135d-05ef-4cc3-9513-a4ff6d31ea0e"
      },
      "source": [
        "# setting the data type explicitly\n",
        "np.array([9,7,8,5], dtype='float64')"
      ],
      "execution_count": 5,
      "outputs": [
        {
          "output_type": "execute_result",
          "data": {
            "text/plain": [
              "array([9., 7., 8., 5.])"
            ]
          },
          "metadata": {
            "tags": []
          },
          "execution_count": 5
        }
      ]
    },
    {
      "cell_type": "code",
      "metadata": {
        "id": "loG_tK217kIx",
        "colab_type": "code",
        "colab": {
          "base_uri": "https://localhost:8080/",
          "height": 34
        },
        "outputId": "19c4ff64-4bbb-4eea-c725-eb4a03c4eef9"
      },
      "source": [
        "# one-dimensional array containing only ones\n",
        "np.ones(5)"
      ],
      "execution_count": 6,
      "outputs": [
        {
          "output_type": "execute_result",
          "data": {
            "text/plain": [
              "array([1., 1., 1., 1., 1.])"
            ]
          },
          "metadata": {
            "tags": []
          },
          "execution_count": 6
        }
      ]
    },
    {
      "cell_type": "code",
      "metadata": {
        "id": "eHuvtxg_7kI4",
        "colab_type": "code",
        "colab": {
          "base_uri": "https://localhost:8080/",
          "height": 51
        },
        "outputId": "4b524827-d9ed-4eb6-e7f7-5600fddb45da"
      },
      "source": [
        "# Two-dimensional array containing only zeros\n",
        "np.zeros((2, 3), dtype=float)"
      ],
      "execution_count": 7,
      "outputs": [
        {
          "output_type": "execute_result",
          "data": {
            "text/plain": [
              "array([[0., 0., 0.],\n",
              "       [0., 0., 0.]])"
            ]
          },
          "metadata": {
            "tags": []
          },
          "execution_count": 7
        }
      ]
    },
    {
      "cell_type": "code",
      "metadata": {
        "id": "C3VtCDd67kI9",
        "colab_type": "code",
        "colab": {
          "base_uri": "https://localhost:8080/",
          "height": 51
        },
        "outputId": "18d64249-d4d3-44ff-92d3-c1f7b00b15bf"
      },
      "source": [
        "# Fill a two-dimensional array with a specific number\n",
        "np.full((2, 3), 7.89)"
      ],
      "execution_count": 8,
      "outputs": [
        {
          "output_type": "execute_result",
          "data": {
            "text/plain": [
              "array([[7.89, 7.89, 7.89],\n",
              "       [7.89, 7.89, 7.89]])"
            ]
          },
          "metadata": {
            "tags": []
          },
          "execution_count": 8
        }
      ]
    },
    {
      "cell_type": "code",
      "metadata": {
        "id": "0Ms7WkCG7kJB",
        "colab_type": "code",
        "colab": {
          "base_uri": "https://localhost:8080/",
          "height": 34
        },
        "outputId": "c283e9d7-1d44-4dc6-f724-6dc8147b515f"
      },
      "source": [
        "# A sequence starting from 0 to 12 with increment of 3\n",
        "np.arange(0, 12, 3)"
      ],
      "execution_count": 9,
      "outputs": [
        {
          "output_type": "execute_result",
          "data": {
            "text/plain": [
              "array([0, 3, 6, 9])"
            ]
          },
          "metadata": {
            "tags": []
          },
          "execution_count": 9
        }
      ]
    },
    {
      "cell_type": "code",
      "metadata": {
        "id": "frHTBlR17kJF",
        "colab_type": "code",
        "colab": {
          "base_uri": "https://localhost:8080/",
          "height": 34
        },
        "outputId": "961cb327-f495-446d-8456-85f53dbf0325"
      },
      "source": [
        "# Equally spaced values of 6 numbers between 0 and 1\n",
        "np.linspace(0, 1, 6) # (b-a) / (n-1) = (1-0) / (6-1) = 0.2"
      ],
      "execution_count": 10,
      "outputs": [
        {
          "output_type": "execute_result",
          "data": {
            "text/plain": [
              "array([0. , 0.2, 0.4, 0.6, 0.8, 1. ])"
            ]
          },
          "metadata": {
            "tags": []
          },
          "execution_count": 10
        }
      ]
    },
    {
      "cell_type": "code",
      "metadata": {
        "id": "4BAqOM4G7kJJ",
        "colab_type": "code",
        "colab": {
          "base_uri": "https://localhost:8080/",
          "height": 51
        },
        "outputId": "3fb7e7c8-345f-433b-aae7-8940202011c1"
      },
      "source": [
        "# Two-dimensional array of random numbers from a uniform distribution on [0,1]\n",
        "np.random.random((2, 3))  # R runif()"
      ],
      "execution_count": 11,
      "outputs": [
        {
          "output_type": "execute_result",
          "data": {
            "text/plain": [
              "array([[0.37322514, 0.15916974, 0.84114763],\n",
              "       [0.05664326, 0.78105842, 0.56467042]])"
            ]
          },
          "metadata": {
            "tags": []
          },
          "execution_count": 11
        }
      ]
    },
    {
      "cell_type": "code",
      "metadata": {
        "id": "hD726Q_x7kJM",
        "colab_type": "code",
        "colab": {
          "base_uri": "https://localhost:8080/",
          "height": 51
        },
        "outputId": "4838d87d-d431-46d8-91ba-65f55c7b3586"
      },
      "source": [
        "# Two-dimensional array of random numbers from  a normal distribution with mean=0 and standard deviation = 1\n",
        "np.random.normal(0, 1, (2, 3))"
      ],
      "execution_count": 12,
      "outputs": [
        {
          "output_type": "execute_result",
          "data": {
            "text/plain": [
              "array([[ 0.06471908, -0.45623021,  0.50578749],\n",
              "       [-0.24896054, -0.5787993 , -0.5531046 ]])"
            ]
          },
          "metadata": {
            "tags": []
          },
          "execution_count": 12
        }
      ]
    },
    {
      "cell_type": "code",
      "metadata": {
        "id": "q6wCflc17kJT",
        "colab_type": "code",
        "colab": {
          "base_uri": "https://localhost:8080/",
          "height": 51
        },
        "outputId": "93645578-539d-4871-c93d-1a4c222c9571"
      },
      "source": [
        "# Two-dimensional array of random integers in the interval [0, 20)\n",
        "np.random.randint(0, 20, (2, 3))"
      ],
      "execution_count": 13,
      "outputs": [
        {
          "output_type": "execute_result",
          "data": {
            "text/plain": [
              "array([[ 7,  5, 13],\n",
              "       [ 4, 17,  7]])"
            ]
          },
          "metadata": {
            "tags": []
          },
          "execution_count": 13
        }
      ]
    },
    {
      "cell_type": "code",
      "metadata": {
        "id": "TY2wYhH57kJY",
        "colab_type": "code",
        "colab": {
          "base_uri": "https://localhost:8080/",
          "height": 85
        },
        "outputId": "522cf3df-bb65-4f85-e03a-5be6d32bda0a"
      },
      "source": [
        "# The 4x4 identity matrix \n",
        "np.eye(4)  # eye means I, i.e, Identity. Matrix A multiplied by I -> np.matmul(A,I) = A"
      ],
      "execution_count": 14,
      "outputs": [
        {
          "output_type": "execute_result",
          "data": {
            "text/plain": [
              "array([[1., 0., 0., 0.],\n",
              "       [0., 1., 0., 0.],\n",
              "       [0., 0., 1., 0.],\n",
              "       [0., 0., 0., 1.]])"
            ]
          },
          "metadata": {
            "tags": []
          },
          "execution_count": 14
        }
      ]
    },
    {
      "cell_type": "code",
      "metadata": {
        "id": "8lrowFk_7kJb",
        "colab_type": "code",
        "colab": {
          "base_uri": "https://localhost:8080/",
          "height": 85
        },
        "outputId": "79f40c78-d47c-49f8-d402-7a9cb97bc187"
      },
      "source": [
        "np.ones((4,4))"
      ],
      "execution_count": 15,
      "outputs": [
        {
          "output_type": "execute_result",
          "data": {
            "text/plain": [
              "array([[1., 1., 1., 1.],\n",
              "       [1., 1., 1., 1.],\n",
              "       [1., 1., 1., 1.],\n",
              "       [1., 1., 1., 1.]])"
            ]
          },
          "metadata": {
            "tags": []
          },
          "execution_count": 15
        }
      ]
    },
    {
      "cell_type": "markdown",
      "metadata": {
        "id": "0naq9a_x7kJf",
        "colab_type": "text"
      },
      "source": [
        "### Array attributes"
      ]
    },
    {
      "cell_type": "code",
      "metadata": {
        "id": "R1zBmHzw7kJg",
        "colab_type": "code",
        "colab": {
          "base_uri": "https://localhost:8080/",
          "height": 34
        },
        "outputId": "5350b2f9-e018-4e31-bf36-8cbb85f8123a"
      },
      "source": [
        " # Reproducibility\n",
        "np.random.seed(0) \n",
        "a1 = np.random.randint(10, size=5) \n",
        "a1"
      ],
      "execution_count": 16,
      "outputs": [
        {
          "output_type": "execute_result",
          "data": {
            "text/plain": [
              "array([5, 0, 3, 3, 7])"
            ]
          },
          "metadata": {
            "tags": []
          },
          "execution_count": 16
        }
      ]
    },
    {
      "cell_type": "code",
      "metadata": {
        "id": "5yuvvkYc7kJi",
        "colab_type": "code",
        "colab": {
          "base_uri": "https://localhost:8080/",
          "height": 34
        },
        "outputId": "35a14511-ba67-4f74-f9c4-edccd08c413c"
      },
      "source": [
        "np.random.seed(0)\n",
        "a2 = np.random.randint(0, 10, 5)\n",
        "a2"
      ],
      "execution_count": 17,
      "outputs": [
        {
          "output_type": "execute_result",
          "data": {
            "text/plain": [
              "array([5, 0, 3, 3, 7])"
            ]
          },
          "metadata": {
            "tags": []
          },
          "execution_count": 17
        }
      ]
    },
    {
      "cell_type": "code",
      "metadata": {
        "id": "q7avc0xH7kJl",
        "colab_type": "code",
        "colab": {
          "base_uri": "https://localhost:8080/",
          "height": 153
        },
        "outputId": "a48274da-79fd-41a9-8a79-de18e560443c"
      },
      "source": [
        "# A three-dimensional array ----> Tensor\n",
        "a3 = np.random.randint(10, size=(3, 2, 5))\n",
        "a3\n"
      ],
      "execution_count": 18,
      "outputs": [
        {
          "output_type": "execute_result",
          "data": {
            "text/plain": [
              "array([[[9, 3, 5, 2, 4],\n",
              "        [7, 6, 8, 8, 1]],\n",
              "\n",
              "       [[6, 7, 7, 8, 1],\n",
              "        [5, 9, 8, 9, 4]],\n",
              "\n",
              "       [[3, 0, 3, 5, 0],\n",
              "        [2, 3, 8, 1, 3]]])"
            ]
          },
          "metadata": {
            "tags": []
          },
          "execution_count": 18
        }
      ]
    },
    {
      "cell_type": "code",
      "metadata": {
        "id": "LLXjowfR7LYc",
        "colab_type": "code",
        "colab": {
          "base_uri": "https://localhost:8080/",
          "height": 214
        },
        "outputId": "0ecb1df6-f398-4e89-b39f-a17cca233df1"
      },
      "source": [
        "i = Image(url = 'https://www.tensorflow.org/guide/images/tensor/3-axis_front.png')\n",
        "display(i)"
      ],
      "execution_count": 19,
      "outputs": [
        {
          "output_type": "display_data",
          "data": {
            "text/html": [
              "<img src=\"https://www.tensorflow.org/guide/images/tensor/3-axis_front.png\"/>"
            ],
            "text/plain": [
              "<IPython.core.display.Image object>"
            ]
          },
          "metadata": {
            "tags": []
          }
        }
      ]
    },
    {
      "cell_type": "code",
      "metadata": {
        "id": "6roKSRVk7kJr",
        "colab_type": "code",
        "colab": {
          "base_uri": "https://localhost:8080/",
          "height": 68
        },
        "outputId": "7f826abc-ec97-42c2-acb5-a144cc86ff21"
      },
      "source": [
        "# The attributes of the 3-dim array a3\n",
        "print(\"a3 ndim: \", a3.ndim)\n",
        "print(\"a3 shape:\", a3.shape)\n",
        "print(\"a3 size: \", a3.size)"
      ],
      "execution_count": 20,
      "outputs": [
        {
          "output_type": "stream",
          "text": [
            "a3 ndim:  3\n",
            "a3 shape: (3, 2, 5)\n",
            "a3 size:  30\n"
          ],
          "name": "stdout"
        }
      ]
    },
    {
      "cell_type": "code",
      "metadata": {
        "id": "-Fgapqi27kJu",
        "colab_type": "code",
        "colab": {
          "base_uri": "https://localhost:8080/",
          "height": 34
        },
        "outputId": "00d91f22-4f3d-40bd-ce4b-55e9dd628306"
      },
      "source": [
        "# The dat type of the content\n",
        "a3.dtype"
      ],
      "execution_count": 21,
      "outputs": [
        {
          "output_type": "execute_result",
          "data": {
            "text/plain": [
              "dtype('int64')"
            ]
          },
          "metadata": {
            "tags": []
          },
          "execution_count": 21
        }
      ]
    },
    {
      "cell_type": "code",
      "metadata": {
        "id": "vRzzIgrL7kJx",
        "colab_type": "code",
        "colab": {
          "base_uri": "https://localhost:8080/",
          "height": 51
        },
        "outputId": "10585988-1100-4386-93cb-cd01bda4658e"
      },
      "source": [
        "# The bytes of each item(element) and the total bytes of the array\n",
        "print(\"itemsize:\", a3.itemsize, \"bytes\")\n",
        "print(\"totalbytes:\", a3.nbytes, \"bytes\")"
      ],
      "execution_count": 22,
      "outputs": [
        {
          "output_type": "stream",
          "text": [
            "itemsize: 8 bytes\n",
            "totalbytes: 240 bytes\n"
          ],
          "name": "stdout"
        }
      ]
    },
    {
      "cell_type": "markdown",
      "metadata": {
        "id": "WCtIa1GK7kJ0",
        "colab_type": "text"
      },
      "source": [
        "### Indices of arrays"
      ]
    },
    {
      "cell_type": "code",
      "metadata": {
        "id": "8Upkk8th7kJ1",
        "colab_type": "code",
        "colab": {
          "base_uri": "https://localhost:8080/",
          "height": 34
        },
        "outputId": "825b5696-a7d7-479b-9f7f-f3ea7db22aa1"
      },
      "source": [
        "# Similar to indices of lists. counting starts from zero\n",
        "a1\n",
        "\n"
      ],
      "execution_count": 23,
      "outputs": [
        {
          "output_type": "execute_result",
          "data": {
            "text/plain": [
              "array([5, 0, 3, 3, 7])"
            ]
          },
          "metadata": {
            "tags": []
          },
          "execution_count": 23
        }
      ]
    },
    {
      "cell_type": "code",
      "metadata": {
        "id": "K5tfM-wU7kJ3",
        "colab_type": "code",
        "colab": {
          "base_uri": "https://localhost:8080/",
          "height": 34
        },
        "outputId": "6e870415-4968-4a3b-ca5a-d1beb6519847"
      },
      "source": [
        "a1[0]"
      ],
      "execution_count": 24,
      "outputs": [
        {
          "output_type": "execute_result",
          "data": {
            "text/plain": [
              "5"
            ]
          },
          "metadata": {
            "tags": []
          },
          "execution_count": 24
        }
      ]
    },
    {
      "cell_type": "code",
      "metadata": {
        "id": "hjKaQxz07kJ5",
        "colab_type": "code",
        "colab": {
          "base_uri": "https://localhost:8080/",
          "height": 34
        },
        "outputId": "f0fc06e1-afe9-4143-9035-6020b4f43c2c"
      },
      "source": [
        "a1[4]"
      ],
      "execution_count": 25,
      "outputs": [
        {
          "output_type": "execute_result",
          "data": {
            "text/plain": [
              "7"
            ]
          },
          "metadata": {
            "tags": []
          },
          "execution_count": 25
        }
      ]
    },
    {
      "cell_type": "code",
      "metadata": {
        "id": "Me8ire477kJ7",
        "colab_type": "code",
        "colab": {
          "base_uri": "https://localhost:8080/",
          "height": 34
        },
        "outputId": "974bd41d-96b3-43c5-c496-e52dd87c590c"
      },
      "source": [
        "a1[-1]"
      ],
      "execution_count": 26,
      "outputs": [
        {
          "output_type": "execute_result",
          "data": {
            "text/plain": [
              "7"
            ]
          },
          "metadata": {
            "tags": []
          },
          "execution_count": 26
        }
      ]
    },
    {
      "cell_type": "code",
      "metadata": {
        "id": "unTsw1k57kJ-",
        "colab_type": "code",
        "colab": {
          "base_uri": "https://localhost:8080/",
          "height": 51
        },
        "outputId": "8beda443-5dc3-4add-e243-f85436e12b7b"
      },
      "source": [
        "# Indices of a two-dimensional array\n",
        "a2 = np.random.randint(10, size=(2, 3))  \n",
        "a2"
      ],
      "execution_count": 27,
      "outputs": [
        {
          "output_type": "execute_result",
          "data": {
            "text/plain": [
              "array([[3, 3, 7],\n",
              "       [0, 1, 9]])"
            ]
          },
          "metadata": {
            "tags": []
          },
          "execution_count": 27
        }
      ]
    },
    {
      "cell_type": "code",
      "metadata": {
        "id": "v1eVfLtX7kKB",
        "colab_type": "code",
        "colab": {
          "base_uri": "https://localhost:8080/",
          "height": 34
        },
        "outputId": "0009e6e8-5405-4fea-ee39-363d14d6ac3b"
      },
      "source": [
        "a2[0,0]"
      ],
      "execution_count": 28,
      "outputs": [
        {
          "output_type": "execute_result",
          "data": {
            "text/plain": [
              "3"
            ]
          },
          "metadata": {
            "tags": []
          },
          "execution_count": 28
        }
      ]
    },
    {
      "cell_type": "code",
      "metadata": {
        "id": "mDAKnPOv7kKD",
        "colab_type": "code",
        "colab": {
          "base_uri": "https://localhost:8080/",
          "height": 34
        },
        "outputId": "c79478a1-0bdb-47be-bcfa-e6d6d5eb9986"
      },
      "source": [
        "a2[1,2]"
      ],
      "execution_count": 29,
      "outputs": [
        {
          "output_type": "execute_result",
          "data": {
            "text/plain": [
              "9"
            ]
          },
          "metadata": {
            "tags": []
          },
          "execution_count": 29
        }
      ]
    },
    {
      "cell_type": "code",
      "metadata": {
        "id": "TMesITjE7kKF",
        "colab_type": "code",
        "colab": {
          "base_uri": "https://localhost:8080/",
          "height": 34
        },
        "outputId": "5d8be8a8-3d7f-4da9-b96f-d8fe5ed33318"
      },
      "source": [
        "a2[-1,-1]"
      ],
      "execution_count": 30,
      "outputs": [
        {
          "output_type": "execute_result",
          "data": {
            "text/plain": [
              "9"
            ]
          },
          "metadata": {
            "tags": []
          },
          "execution_count": 30
        }
      ]
    },
    {
      "cell_type": "code",
      "metadata": {
        "id": "jeqncbto7kKH",
        "colab_type": "code",
        "colab": {
          "base_uri": "https://localhost:8080/",
          "height": 51
        },
        "outputId": "d56b8264-0773-4da7-8911-6009403a341e"
      },
      "source": [
        "# Assign values. Note that a different type will be converted since arrays are fixed-type\n",
        "a2[1,2] = 100.89\n",
        "a2"
      ],
      "execution_count": 31,
      "outputs": [
        {
          "output_type": "execute_result",
          "data": {
            "text/plain": [
              "array([[  3,   3,   7],\n",
              "       [  0,   1, 100]])"
            ]
          },
          "metadata": {
            "tags": []
          },
          "execution_count": 31
        }
      ]
    },
    {
      "cell_type": "markdown",
      "metadata": {
        "id": "DKH-Qhhn7kKJ",
        "colab_type": "text"
      },
      "source": [
        "### Slicing arrays"
      ]
    },
    {
      "cell_type": "code",
      "metadata": {
        "id": "msDPx_Jb7kKK",
        "colab_type": "code",
        "colab": {
          "base_uri": "https://localhost:8080/",
          "height": 34
        },
        "outputId": "f834c0dd-7c36-4fe2-f4e9-fd78b5c5005c"
      },
      "source": [
        "# slice of a is a[start:stop:step]\n",
        "#default start=0, stop=size of dimension, step=1.\n",
        "\n",
        "a = np.arange(8)\n",
        "a"
      ],
      "execution_count": 32,
      "outputs": [
        {
          "output_type": "execute_result",
          "data": {
            "text/plain": [
              "array([0, 1, 2, 3, 4, 5, 6, 7])"
            ]
          },
          "metadata": {
            "tags": []
          },
          "execution_count": 32
        }
      ]
    },
    {
      "cell_type": "code",
      "metadata": {
        "id": "sSI4sKq67kKM",
        "colab_type": "code",
        "colab": {
          "base_uri": "https://localhost:8080/",
          "height": 34
        },
        "outputId": "c024d05d-1cc5-422f-8321-4e9331e34091"
      },
      "source": [
        "a[:2]"
      ],
      "execution_count": 33,
      "outputs": [
        {
          "output_type": "execute_result",
          "data": {
            "text/plain": [
              "array([0, 1])"
            ]
          },
          "metadata": {
            "tags": []
          },
          "execution_count": 33
        }
      ]
    },
    {
      "cell_type": "code",
      "metadata": {
        "id": "C3Xh4YoL7kKN",
        "colab_type": "code",
        "colab": {
          "base_uri": "https://localhost:8080/",
          "height": 34
        },
        "outputId": "94b3cd0e-35ab-47df-f3cf-fc61325e6f25"
      },
      "source": [
        "a[2:]"
      ],
      "execution_count": 34,
      "outputs": [
        {
          "output_type": "execute_result",
          "data": {
            "text/plain": [
              "array([2, 3, 4, 5, 6, 7])"
            ]
          },
          "metadata": {
            "tags": []
          },
          "execution_count": 34
        }
      ]
    },
    {
      "cell_type": "code",
      "metadata": {
        "id": "WEdGGAkb7kKQ",
        "colab_type": "code",
        "colab": {
          "base_uri": "https://localhost:8080/",
          "height": 34
        },
        "outputId": "68409f34-d05a-495f-fdcf-e0180487ab12"
      },
      "source": [
        "a[1:4]"
      ],
      "execution_count": 35,
      "outputs": [
        {
          "output_type": "execute_result",
          "data": {
            "text/plain": [
              "array([1, 2, 3])"
            ]
          },
          "metadata": {
            "tags": []
          },
          "execution_count": 35
        }
      ]
    },
    {
      "cell_type": "code",
      "metadata": {
        "id": "BVcLQfeG7kKS",
        "colab_type": "code",
        "colab": {
          "base_uri": "https://localhost:8080/",
          "height": 34
        },
        "outputId": "f0645ab6-9b7a-4a1a-d8c5-12de2084fc9b"
      },
      "source": [
        "a[::3] # takes step size of 3"
      ],
      "execution_count": 36,
      "outputs": [
        {
          "output_type": "execute_result",
          "data": {
            "text/plain": [
              "array([0, 3, 6])"
            ]
          },
          "metadata": {
            "tags": []
          },
          "execution_count": 36
        }
      ]
    },
    {
      "cell_type": "code",
      "metadata": {
        "id": "bXdncPxC7kKU",
        "colab_type": "code",
        "colab": {
          "base_uri": "https://localhost:8080/",
          "height": 34
        },
        "outputId": "61fc350d-159d-43fa-be05-4fc4301149d3"
      },
      "source": [
        "a[2::3] # takes step size of 3 starting at 2"
      ],
      "execution_count": 37,
      "outputs": [
        {
          "output_type": "execute_result",
          "data": {
            "text/plain": [
              "array([2, 5])"
            ]
          },
          "metadata": {
            "tags": []
          },
          "execution_count": 37
        }
      ]
    },
    {
      "cell_type": "code",
      "metadata": {
        "id": "759d8Jwq7kKW",
        "colab_type": "code",
        "colab": {
          "base_uri": "https://localhost:8080/",
          "height": 34
        },
        "outputId": "dbd6483c-f15d-4bad-f5a8-c369de209df3"
      },
      "source": [
        "# negative step value means exchanging start and stop\n",
        "a[::-1]"
      ],
      "execution_count": 38,
      "outputs": [
        {
          "output_type": "execute_result",
          "data": {
            "text/plain": [
              "array([7, 6, 5, 4, 3, 2, 1, 0])"
            ]
          },
          "metadata": {
            "tags": []
          },
          "execution_count": 38
        }
      ]
    },
    {
      "cell_type": "code",
      "metadata": {
        "id": "QS1MMg-t7kKY",
        "colab_type": "code",
        "colab": {
          "base_uri": "https://localhost:8080/",
          "height": 34
        },
        "outputId": "c2cf1f55-2a9e-45c2-f227-5a2cc864d1fd"
      },
      "source": [
        "a[6::-2]"
      ],
      "execution_count": 39,
      "outputs": [
        {
          "output_type": "execute_result",
          "data": {
            "text/plain": [
              "array([6, 4, 2, 0])"
            ]
          },
          "metadata": {
            "tags": []
          },
          "execution_count": 39
        }
      ]
    },
    {
      "cell_type": "code",
      "metadata": {
        "id": "Qec0qcXl7kKa",
        "colab_type": "code",
        "colab": {
          "base_uri": "https://localhost:8080/",
          "height": 85
        },
        "outputId": "ef982ba0-80b5-4b38-8e14-2f2599437943"
      },
      "source": [
        "# 2-dim array\n",
        "b = np.random.randint(0, 10, (4, 5))\n",
        "b"
      ],
      "execution_count": 40,
      "outputs": [
        {
          "output_type": "execute_result",
          "data": {
            "text/plain": [
              "array([[9, 0, 4, 7, 3],\n",
              "       [2, 7, 2, 0, 0],\n",
              "       [4, 5, 5, 6, 8],\n",
              "       [4, 1, 4, 9, 8]])"
            ]
          },
          "metadata": {
            "tags": []
          },
          "execution_count": 40
        }
      ]
    },
    {
      "cell_type": "code",
      "metadata": {
        "id": "IgCst7Qk7kKb",
        "colab_type": "code",
        "colab": {
          "base_uri": "https://localhost:8080/",
          "height": 51
        },
        "outputId": "d756d707-9fe9-4597-f0c6-cdd9071759d3"
      },
      "source": [
        "# First two rows and first 3 columns\n",
        "c = b[:2, :3] \n",
        "c"
      ],
      "execution_count": 41,
      "outputs": [
        {
          "output_type": "execute_result",
          "data": {
            "text/plain": [
              "array([[9, 0, 4],\n",
              "       [2, 7, 2]])"
            ]
          },
          "metadata": {
            "tags": []
          },
          "execution_count": 41
        }
      ]
    },
    {
      "cell_type": "code",
      "metadata": {
        "id": "8g4t4Z1W7kKg",
        "colab_type": "code",
        "colab": {
          "base_uri": "https://localhost:8080/",
          "height": 51
        },
        "outputId": "cc58fbcb-b4c1-4b8e-bf96-b00b9c03f888"
      },
      "source": [
        "# If you change an element of subarray c , then the array b changes too. c is not copy of b\n",
        "c[1,2] = 555\n",
        "print(c)\n"
      ],
      "execution_count": 42,
      "outputs": [
        {
          "output_type": "stream",
          "text": [
            "[[  9   0   4]\n",
            " [  2   7 555]]\n"
          ],
          "name": "stdout"
        }
      ]
    },
    {
      "cell_type": "code",
      "metadata": {
        "id": "rWG3vn4k7kKh",
        "colab_type": "code",
        "colab": {
          "base_uri": "https://localhost:8080/",
          "height": 85
        },
        "outputId": "861194cf-dbc8-4fcb-d233-c12417f13884"
      },
      "source": [
        "# Check if b changed too\n",
        "b "
      ],
      "execution_count": 43,
      "outputs": [
        {
          "output_type": "execute_result",
          "data": {
            "text/plain": [
              "array([[  9,   0,   4,   7,   3],\n",
              "       [  2,   7, 555,   0,   0],\n",
              "       [  4,   5,   5,   6,   8],\n",
              "       [  4,   1,   4,   9,   8]])"
            ]
          },
          "metadata": {
            "tags": []
          },
          "execution_count": 43
        }
      ]
    },
    {
      "cell_type": "code",
      "metadata": {
        "id": "QttCowZn7kKk",
        "colab_type": "code",
        "colab": {
          "base_uri": "https://localhost:8080/",
          "height": 51
        },
        "outputId": "a0010db4-9fb7-4e25-c480-b37f029ed9c2"
      },
      "source": [
        "# To get a copy of b\n",
        "c_copy = b[:2, :3].copy()\n",
        "c_copy[0,0] = 777\n",
        "c_copy"
      ],
      "execution_count": 44,
      "outputs": [
        {
          "output_type": "execute_result",
          "data": {
            "text/plain": [
              "array([[777,   0,   4],\n",
              "       [  2,   7, 555]])"
            ]
          },
          "metadata": {
            "tags": []
          },
          "execution_count": 44
        }
      ]
    },
    {
      "cell_type": "code",
      "metadata": {
        "id": "8Jk5Cj2P7kKo",
        "colab_type": "code",
        "colab": {
          "base_uri": "https://localhost:8080/",
          "height": 85
        },
        "outputId": "d31099ba-aa04-41b8-e0b9-806d36f3e84e"
      },
      "source": [
        "# But b did not change\n",
        "b"
      ],
      "execution_count": 45,
      "outputs": [
        {
          "output_type": "execute_result",
          "data": {
            "text/plain": [
              "array([[  9,   0,   4,   7,   3],\n",
              "       [  2,   7, 555,   0,   0],\n",
              "       [  4,   5,   5,   6,   8],\n",
              "       [  4,   1,   4,   9,   8]])"
            ]
          },
          "metadata": {
            "tags": []
          },
          "execution_count": 45
        }
      ]
    },
    {
      "cell_type": "code",
      "metadata": {
        "id": "eS3mJn0b7kKq",
        "colab_type": "code",
        "colab": {
          "base_uri": "https://localhost:8080/",
          "height": 34
        },
        "outputId": "95b34b45-0811-45ff-97c3-c63f756549de"
      },
      "source": [
        "# only first column\n",
        "b[:,0]"
      ],
      "execution_count": 46,
      "outputs": [
        {
          "output_type": "execute_result",
          "data": {
            "text/plain": [
              "array([9, 2, 4, 4])"
            ]
          },
          "metadata": {
            "tags": []
          },
          "execution_count": 46
        }
      ]
    },
    {
      "cell_type": "code",
      "metadata": {
        "id": "KuKF4mEd7kKs",
        "colab_type": "code",
        "colab": {
          "base_uri": "https://localhost:8080/",
          "height": 34
        },
        "outputId": "e2aba502-4b84-498e-917b-fd775fe8f928"
      },
      "source": [
        "# only first row\n",
        "b[0,:]"
      ],
      "execution_count": 47,
      "outputs": [
        {
          "output_type": "execute_result",
          "data": {
            "text/plain": [
              "array([9, 0, 4, 7, 3])"
            ]
          },
          "metadata": {
            "tags": []
          },
          "execution_count": 47
        }
      ]
    },
    {
      "cell_type": "code",
      "metadata": {
        "id": "B2Dk1Eky7kKt",
        "colab_type": "code",
        "colab": {
          "base_uri": "https://localhost:8080/",
          "height": 34
        },
        "outputId": "966168cf-773c-4c5b-de3d-506bf9b9624f"
      },
      "source": [
        "# Equivalently\n",
        "b[0]"
      ],
      "execution_count": 48,
      "outputs": [
        {
          "output_type": "execute_result",
          "data": {
            "text/plain": [
              "array([9, 0, 4, 7, 3])"
            ]
          },
          "metadata": {
            "tags": []
          },
          "execution_count": 48
        }
      ]
    },
    {
      "cell_type": "code",
      "metadata": {
        "id": "k6Vx0-Ku7kKv",
        "colab_type": "code",
        "colab": {
          "base_uri": "https://localhost:8080/",
          "height": 153
        },
        "outputId": "bdfd5491-4156-4696-faa2-32f41a9871a2"
      },
      "source": [
        "# 3-dim array --> Tensor\n",
        "a3"
      ],
      "execution_count": 49,
      "outputs": [
        {
          "output_type": "execute_result",
          "data": {
            "text/plain": [
              "array([[[9, 3, 5, 2, 4],\n",
              "        [7, 6, 8, 8, 1]],\n",
              "\n",
              "       [[6, 7, 7, 8, 1],\n",
              "        [5, 9, 8, 9, 4]],\n",
              "\n",
              "       [[3, 0, 3, 5, 0],\n",
              "        [2, 3, 8, 1, 3]]])"
            ]
          },
          "metadata": {
            "tags": []
          },
          "execution_count": 49
        }
      ]
    },
    {
      "cell_type": "code",
      "metadata": {
        "id": "Et_WcaxO7kKw",
        "colab_type": "code",
        "colab": {
          "base_uri": "https://localhost:8080/",
          "height": 51
        },
        "outputId": "72fe1e58-3bea-4622-9c4e-e9f62fdb4983"
      },
      "source": [
        "a3[0]"
      ],
      "execution_count": 50,
      "outputs": [
        {
          "output_type": "execute_result",
          "data": {
            "text/plain": [
              "array([[9, 3, 5, 2, 4],\n",
              "       [7, 6, 8, 8, 1]])"
            ]
          },
          "metadata": {
            "tags": []
          },
          "execution_count": 50
        }
      ]
    },
    {
      "cell_type": "code",
      "metadata": {
        "id": "rKxh7ZU97kKy",
        "colab_type": "code",
        "colab": {
          "base_uri": "https://localhost:8080/",
          "height": 34
        },
        "outputId": "5c882b21-d615-45d1-b7a9-e987c6f7cd22"
      },
      "source": [
        "a3[1,1,1]"
      ],
      "execution_count": 51,
      "outputs": [
        {
          "output_type": "execute_result",
          "data": {
            "text/plain": [
              "9"
            ]
          },
          "metadata": {
            "tags": []
          },
          "execution_count": 51
        }
      ]
    },
    {
      "cell_type": "code",
      "metadata": {
        "id": "iRdfeFUo7kK0",
        "colab_type": "code",
        "colab": {
          "base_uri": "https://localhost:8080/",
          "height": 68
        },
        "outputId": "e8e3c86a-9625-487b-d2b7-f067a1cd30d5"
      },
      "source": [
        "a3[:,1,:]"
      ],
      "execution_count": 52,
      "outputs": [
        {
          "output_type": "execute_result",
          "data": {
            "text/plain": [
              "array([[7, 6, 8, 8, 1],\n",
              "       [5, 9, 8, 9, 4],\n",
              "       [2, 3, 8, 1, 3]])"
            ]
          },
          "metadata": {
            "tags": []
          },
          "execution_count": 52
        }
      ]
    },
    {
      "cell_type": "code",
      "metadata": {
        "id": "l-9p9bL_7kK4",
        "colab_type": "code",
        "colab": {}
      },
      "source": [
        "### Reshape"
      ],
      "execution_count": 53,
      "outputs": []
    },
    {
      "cell_type": "code",
      "metadata": {
        "id": "ZXmXsPX57kK5",
        "colab_type": "code",
        "colab": {
          "base_uri": "https://localhost:8080/",
          "height": 34
        },
        "outputId": "ed276351-9be6-43ae-bbdc-2e378d750d7d"
      },
      "source": [
        "# Recall the array a\n",
        "a"
      ],
      "execution_count": 54,
      "outputs": [
        {
          "output_type": "execute_result",
          "data": {
            "text/plain": [
              "array([0, 1, 2, 3, 4, 5, 6, 7])"
            ]
          },
          "metadata": {
            "tags": []
          },
          "execution_count": 54
        }
      ]
    },
    {
      "cell_type": "code",
      "metadata": {
        "id": "mZRX3hX67kK7",
        "colab_type": "code",
        "colab": {
          "base_uri": "https://localhost:8080/",
          "height": 51
        },
        "outputId": "458b5dd4-0605-42bd-9a30-9f96a1ca326e"
      },
      "source": [
        "a.reshape(2,4)"
      ],
      "execution_count": 55,
      "outputs": [
        {
          "output_type": "execute_result",
          "data": {
            "text/plain": [
              "array([[0, 1, 2, 3],\n",
              "       [4, 5, 6, 7]])"
            ]
          },
          "metadata": {
            "tags": []
          },
          "execution_count": 55
        }
      ]
    },
    {
      "cell_type": "code",
      "metadata": {
        "id": "7aWppCFa7kK8",
        "colab_type": "code",
        "colab": {
          "base_uri": "https://localhost:8080/",
          "height": 34
        },
        "outputId": "6d757e74-a161-4e5d-8151-861d300f1a84"
      },
      "source": [
        "a.reshape(1,8)"
      ],
      "execution_count": 56,
      "outputs": [
        {
          "output_type": "execute_result",
          "data": {
            "text/plain": [
              "array([[0, 1, 2, 3, 4, 5, 6, 7]])"
            ]
          },
          "metadata": {
            "tags": []
          },
          "execution_count": 56
        }
      ]
    },
    {
      "cell_type": "code",
      "metadata": {
        "id": "k4RK5GHn7kK9",
        "colab_type": "code",
        "colab": {
          "base_uri": "https://localhost:8080/",
          "height": 153
        },
        "outputId": "97eec4f1-5d63-4544-ef5d-9ed9be7199f1"
      },
      "source": [
        "a.reshape(8,1)"
      ],
      "execution_count": 57,
      "outputs": [
        {
          "output_type": "execute_result",
          "data": {
            "text/plain": [
              "array([[0],\n",
              "       [1],\n",
              "       [2],\n",
              "       [3],\n",
              "       [4],\n",
              "       [5],\n",
              "       [6],\n",
              "       [7]])"
            ]
          },
          "metadata": {
            "tags": []
          },
          "execution_count": 57
        }
      ]
    },
    {
      "cell_type": "markdown",
      "metadata": {
        "id": "u0HxRhmm7kK_",
        "colab_type": "text"
      },
      "source": [
        "### Concatenate"
      ]
    },
    {
      "cell_type": "code",
      "metadata": {
        "id": "OltOfz3A7kLB",
        "colab_type": "code",
        "colab": {
          "base_uri": "https://localhost:8080/",
          "height": 34
        },
        "outputId": "cb422d24-1318-4129-f6d4-80f7dfa9bc12"
      },
      "source": [
        "np.concatenate([a, a])"
      ],
      "execution_count": 58,
      "outputs": [
        {
          "output_type": "execute_result",
          "data": {
            "text/plain": [
              "array([0, 1, 2, 3, 4, 5, 6, 7, 0, 1, 2, 3, 4, 5, 6, 7])"
            ]
          },
          "metadata": {
            "tags": []
          },
          "execution_count": 58
        }
      ]
    },
    {
      "cell_type": "code",
      "metadata": {
        "id": "JDxFC8MA7kLD",
        "colab_type": "code",
        "colab": {
          "base_uri": "https://localhost:8080/",
          "height": 85
        },
        "outputId": "c674913f-ce1d-4c2f-a501-1c26ecc4ef93"
      },
      "source": [
        "np.concatenate([a2, a2]) # default axis = 0 , i.e., rows"
      ],
      "execution_count": 59,
      "outputs": [
        {
          "output_type": "execute_result",
          "data": {
            "text/plain": [
              "array([[  3,   3,   7],\n",
              "       [  0,   1, 100],\n",
              "       [  3,   3,   7],\n",
              "       [  0,   1, 100]])"
            ]
          },
          "metadata": {
            "tags": []
          },
          "execution_count": 59
        }
      ]
    },
    {
      "cell_type": "code",
      "metadata": {
        "id": "5QCc59K-7kLF",
        "colab_type": "code",
        "colab": {
          "base_uri": "https://localhost:8080/",
          "height": 51
        },
        "outputId": "900c4f85-192b-49fd-d68f-ad5e5cc6042c"
      },
      "source": [
        "np.concatenate([a2, a2], axis = 1)"
      ],
      "execution_count": 60,
      "outputs": [
        {
          "output_type": "execute_result",
          "data": {
            "text/plain": [
              "array([[  3,   3,   7,   3,   3,   7],\n",
              "       [  0,   1, 100,   0,   1, 100]])"
            ]
          },
          "metadata": {
            "tags": []
          },
          "execution_count": 60
        }
      ]
    },
    {
      "cell_type": "markdown",
      "metadata": {
        "id": "v48MdNXi7kLH",
        "colab_type": "text"
      },
      "source": [
        "### Universal functions\n"
      ]
    },
    {
      "cell_type": "code",
      "metadata": {
        "id": "kSzJ5sxN7kLJ",
        "colab_type": "code",
        "colab": {
          "base_uri": "https://localhost:8080/",
          "height": 51
        },
        "outputId": "a70abb19-4fdb-43c4-db91-c75aeff59078"
      },
      "source": [
        "# A vectorized operation is done on each element of an array\n",
        "print(\"a + 1 =\", a + 1)\n",
        "print(\"a ** 2 = \", a ** 2)"
      ],
      "execution_count": 61,
      "outputs": [
        {
          "output_type": "stream",
          "text": [
            "a + 1 = [1 2 3 4 5 6 7 8]\n",
            "a ** 2 =  [ 0  1  4  9 16 25 36 49]\n"
          ],
          "name": "stdout"
        }
      ]
    },
    {
      "cell_type": "code",
      "metadata": {
        "id": "uRgbSDb67kLL",
        "colab_type": "code",
        "colab": {
          "base_uri": "https://localhost:8080/",
          "height": 34
        },
        "outputId": "d704fef0-4d58-491f-e3cc-cf1c9a119b9f"
      },
      "source": [
        "np.add(a,1)"
      ],
      "execution_count": 62,
      "outputs": [
        {
          "output_type": "execute_result",
          "data": {
            "text/plain": [
              "array([1, 2, 3, 4, 5, 6, 7, 8])"
            ]
          },
          "metadata": {
            "tags": []
          },
          "execution_count": 62
        }
      ]
    },
    {
      "cell_type": "code",
      "metadata": {
        "id": "OcgjpFna7kLM",
        "colab_type": "code",
        "colab": {
          "base_uri": "https://localhost:8080/",
          "height": 34
        },
        "outputId": "a2f0ea2c-aeeb-47d3-9544-7c6980b90f8e"
      },
      "source": [
        "-a"
      ],
      "execution_count": 63,
      "outputs": [
        {
          "output_type": "execute_result",
          "data": {
            "text/plain": [
              "array([ 0, -1, -2, -3, -4, -5, -6, -7])"
            ]
          },
          "metadata": {
            "tags": []
          },
          "execution_count": 63
        }
      ]
    },
    {
      "cell_type": "code",
      "metadata": {
        "id": "NZXkrIVm7kLO",
        "colab_type": "code",
        "colab": {
          "base_uri": "https://localhost:8080/",
          "height": 51
        },
        "outputId": "589b6a08-ff9d-47e1-aef8-5fbf8fa8d025"
      },
      "source": [
        "np.sin(a)"
      ],
      "execution_count": 64,
      "outputs": [
        {
          "output_type": "execute_result",
          "data": {
            "text/plain": [
              "array([ 0.        ,  0.84147098,  0.90929743,  0.14112001, -0.7568025 ,\n",
              "       -0.95892427, -0.2794155 ,  0.6569866 ])"
            ]
          },
          "metadata": {
            "tags": []
          },
          "execution_count": 64
        }
      ]
    },
    {
      "cell_type": "code",
      "metadata": {
        "id": "U02rqZWS7kLP",
        "colab_type": "code",
        "colab": {
          "base_uri": "https://localhost:8080/",
          "height": 51
        },
        "outputId": "f696f78f-e086-40a2-87b4-72105119c984"
      },
      "source": [
        "np.exp(a) # np.exp2(a) or np.power(7,a), i.e., 7**a"
      ],
      "execution_count": 65,
      "outputs": [
        {
          "output_type": "execute_result",
          "data": {
            "text/plain": [
              "array([1.00000000e+00, 2.71828183e+00, 7.38905610e+00, 2.00855369e+01,\n",
              "       5.45981500e+01, 1.48413159e+02, 4.03428793e+02, 1.09663316e+03])"
            ]
          },
          "metadata": {
            "tags": []
          },
          "execution_count": 65
        }
      ]
    },
    {
      "cell_type": "code",
      "metadata": {
        "id": "AlIwXvfY7kLR",
        "colab_type": "code",
        "colab": {
          "base_uri": "https://localhost:8080/",
          "height": 85
        },
        "outputId": "0ca2b4f7-1a30-40ef-f187-8b281840bebf"
      },
      "source": [
        "np.log(a) # np.log2(a) or np.log10(a)"
      ],
      "execution_count": 66,
      "outputs": [
        {
          "output_type": "stream",
          "text": [
            "/usr/local/lib/python3.6/dist-packages/ipykernel_launcher.py:1: RuntimeWarning: divide by zero encountered in log\n",
            "  \"\"\"Entry point for launching an IPython kernel.\n"
          ],
          "name": "stderr"
        },
        {
          "output_type": "execute_result",
          "data": {
            "text/plain": [
              "array([      -inf, 0.        , 0.69314718, 1.09861229, 1.38629436,\n",
              "       1.60943791, 1.79175947, 1.94591015])"
            ]
          },
          "metadata": {
            "tags": []
          },
          "execution_count": 66
        }
      ]
    },
    {
      "cell_type": "code",
      "metadata": {
        "id": "y7N6OXiq7kLS",
        "colab_type": "code",
        "colab": {
          "base_uri": "https://localhost:8080/",
          "height": 34
        },
        "outputId": "cabc9ad5-0f52-4cec-871b-d7e8a95720fe"
      },
      "source": [
        "# Sum of elements\n",
        "np.sum(a) # you can use array methods a.sum()\n"
      ],
      "execution_count": 67,
      "outputs": [
        {
          "output_type": "execute_result",
          "data": {
            "text/plain": [
              "28"
            ]
          },
          "metadata": {
            "tags": []
          },
          "execution_count": 67
        }
      ]
    },
    {
      "cell_type": "code",
      "metadata": {
        "id": "5KsKrEqL7kLU",
        "colab_type": "code",
        "colab": {
          "base_uri": "https://localhost:8080/",
          "height": 51
        },
        "outputId": "75a59a1e-ee69-4c14-82ae-5ad5b9938f81"
      },
      "source": [
        "print(np.max(a))\n",
        "np.min(a)"
      ],
      "execution_count": 68,
      "outputs": [
        {
          "output_type": "stream",
          "text": [
            "7\n"
          ],
          "name": "stdout"
        },
        {
          "output_type": "execute_result",
          "data": {
            "text/plain": [
              "0"
            ]
          },
          "metadata": {
            "tags": []
          },
          "execution_count": 68
        }
      ]
    },
    {
      "cell_type": "code",
      "metadata": {
        "id": "7rSiIHAu7kLW",
        "colab_type": "code",
        "colab": {
          "base_uri": "https://localhost:8080/",
          "height": 51
        },
        "outputId": "dd59ec8f-d30a-4cdc-c8d5-4dce31d9a8c3"
      },
      "source": [
        "# mean and standard deviation\n",
        "print(a.mean())\n",
        "a.std()"
      ],
      "execution_count": 69,
      "outputs": [
        {
          "output_type": "stream",
          "text": [
            "3.5\n"
          ],
          "name": "stdout"
        },
        {
          "output_type": "execute_result",
          "data": {
            "text/plain": [
              "2.29128784747792"
            ]
          },
          "metadata": {
            "tags": []
          },
          "execution_count": 69
        }
      ]
    },
    {
      "cell_type": "code",
      "metadata": {
        "id": "wj2jM-097kLY",
        "colab_type": "code",
        "colab": {
          "base_uri": "https://localhost:8080/",
          "height": 51
        },
        "outputId": "37ddc877-e20e-4206-a42b-c838ae60025a"
      },
      "source": [
        "# Recall a2\n",
        "a2"
      ],
      "execution_count": 70,
      "outputs": [
        {
          "output_type": "execute_result",
          "data": {
            "text/plain": [
              "array([[  3,   3,   7],\n",
              "       [  0,   1, 100]])"
            ]
          },
          "metadata": {
            "tags": []
          },
          "execution_count": 70
        }
      ]
    },
    {
      "cell_type": "code",
      "metadata": {
        "id": "Z741zsGg7kLa",
        "colab_type": "code",
        "colab": {
          "base_uri": "https://localhost:8080/",
          "height": 34
        },
        "outputId": "5a7daeee-5c15-40c0-90b0-73f0b06fb3b3"
      },
      "source": [
        "# sum of all the elements\n",
        "a2.sum() # or np.sum(a2)  \n"
      ],
      "execution_count": 71,
      "outputs": [
        {
          "output_type": "execute_result",
          "data": {
            "text/plain": [
              "114"
            ]
          },
          "metadata": {
            "tags": []
          },
          "execution_count": 71
        }
      ]
    },
    {
      "cell_type": "code",
      "metadata": {
        "id": "rwpx4rTZ7kLc",
        "colab_type": "code",
        "colab": {
          "base_uri": "https://localhost:8080/",
          "height": 34
        },
        "outputId": "eb00fab3-f4ca-4890-a054-40ef3e73e2e9"
      },
      "source": [
        "a2.sum(axis = 0)  # collapsing rows"
      ],
      "execution_count": 72,
      "outputs": [
        {
          "output_type": "execute_result",
          "data": {
            "text/plain": [
              "array([  3,   4, 107])"
            ]
          },
          "metadata": {
            "tags": []
          },
          "execution_count": 72
        }
      ]
    },
    {
      "cell_type": "code",
      "metadata": {
        "id": "CL4msTZf7kLd",
        "colab_type": "code",
        "colab": {
          "base_uri": "https://localhost:8080/",
          "height": 34
        },
        "outputId": "3fd611b0-f8b3-4bc5-a3b9-a093f54ebd48"
      },
      "source": [
        "a2.sum(axis = 1)  # collapsing columns"
      ],
      "execution_count": 73,
      "outputs": [
        {
          "output_type": "execute_result",
          "data": {
            "text/plain": [
              "array([ 13, 101])"
            ]
          },
          "metadata": {
            "tags": []
          },
          "execution_count": 73
        }
      ]
    },
    {
      "cell_type": "markdown",
      "metadata": {
        "id": "OTpqzmQp7kLf",
        "colab_type": "text"
      },
      "source": [
        "### Broadcasting"
      ]
    },
    {
      "cell_type": "code",
      "metadata": {
        "id": "5ZFQjmcA7kLf",
        "colab_type": "code",
        "colab": {
          "base_uri": "https://localhost:8080/",
          "height": 34
        },
        "outputId": "76c1cf0f-13bc-4725-bcbd-91fe48a611b5"
      },
      "source": [
        "# We had already a + 1. Since the scalar 1 is zero-dim, it is broadcasted to [1,1,1,1,1,1,1,1]\n",
        "# Now for higher-dim, let us introduce x and add to a2\n",
        "x = np.full(3, 8)\n",
        "x\n"
      ],
      "execution_count": 74,
      "outputs": [
        {
          "output_type": "execute_result",
          "data": {
            "text/plain": [
              "array([8, 8, 8])"
            ]
          },
          "metadata": {
            "tags": []
          },
          "execution_count": 74
        }
      ]
    },
    {
      "cell_type": "code",
      "metadata": {
        "id": "PC9F-s-17kLg",
        "colab_type": "code",
        "colab": {
          "base_uri": "https://localhost:8080/",
          "height": 51
        },
        "outputId": "d0475e72-c6de-4ae6-d60f-9382772d8033"
      },
      "source": [
        "a2 "
      ],
      "execution_count": 75,
      "outputs": [
        {
          "output_type": "execute_result",
          "data": {
            "text/plain": [
              "array([[  3,   3,   7],\n",
              "       [  0,   1, 100]])"
            ]
          },
          "metadata": {
            "tags": []
          },
          "execution_count": 75
        }
      ]
    },
    {
      "cell_type": "code",
      "metadata": {
        "id": "skO2-QpV7kLh",
        "colab_type": "code",
        "colab": {
          "base_uri": "https://localhost:8080/",
          "height": 51
        },
        "outputId": "34e576e4-1808-42b5-fddb-167c7b4460a3"
      },
      "source": [
        "a2 + x"
      ],
      "execution_count": 76,
      "outputs": [
        {
          "output_type": "execute_result",
          "data": {
            "text/plain": [
              "array([[ 11,  11,  15],\n",
              "       [  8,   9, 108]])"
            ]
          },
          "metadata": {
            "tags": []
          },
          "execution_count": 76
        }
      ]
    },
    {
      "cell_type": "code",
      "metadata": {
        "id": "fiiwFj6P7kLj",
        "colab_type": "code",
        "colab": {
          "base_uri": "https://localhost:8080/",
          "height": 51
        },
        "outputId": "bcf4e8ca-cea0-48b1-fe9f-22a55f786ec1"
      },
      "source": [
        "y = np.full(2, 8).reshape(2,1)\n",
        "y"
      ],
      "execution_count": 77,
      "outputs": [
        {
          "output_type": "execute_result",
          "data": {
            "text/plain": [
              "array([[8],\n",
              "       [8]])"
            ]
          },
          "metadata": {
            "tags": []
          },
          "execution_count": 77
        }
      ]
    },
    {
      "cell_type": "code",
      "metadata": {
        "id": "RE7MNaN17kLl",
        "colab_type": "code",
        "colab": {
          "base_uri": "https://localhost:8080/",
          "height": 51
        },
        "outputId": "730bb720-0ea7-4df6-c93b-af01a8e42103"
      },
      "source": [
        "a2 + y"
      ],
      "execution_count": 78,
      "outputs": [
        {
          "output_type": "execute_result",
          "data": {
            "text/plain": [
              "array([[ 11,  11,  15],\n",
              "       [  8,   9, 108]])"
            ]
          },
          "metadata": {
            "tags": []
          },
          "execution_count": 78
        }
      ]
    },
    {
      "cell_type": "markdown",
      "metadata": {
        "id": "UHYPPps_7kLm",
        "colab_type": "text"
      },
      "source": [
        "### Mean-centering of 2D array\n"
      ]
    },
    {
      "cell_type": "code",
      "metadata": {
        "id": "FncNU7L27kLm",
        "colab_type": "code",
        "colab": {
          "base_uri": "https://localhost:8080/",
          "height": 119
        },
        "outputId": "03d1ee5d-62f8-4309-8054-af575888306c"
      },
      "source": [
        "z = np.random.random((5, 2))\n",
        "z_mean = z.mean(axis=0) # collapsing rows axis = 0 to calculate the column means\n",
        "print(z)\n",
        "z_mean"
      ],
      "execution_count": 79,
      "outputs": [
        {
          "output_type": "stream",
          "text": [
            "[[0.90234858 0.09928035]\n",
            " [0.96980907 0.65314004]\n",
            " [0.17090959 0.35815217]\n",
            " [0.75068614 0.60783067]\n",
            " [0.32504723 0.03842543]]\n"
          ],
          "name": "stdout"
        },
        {
          "output_type": "execute_result",
          "data": {
            "text/plain": [
              "array([0.62376012, 0.35136573])"
            ]
          },
          "metadata": {
            "tags": []
          },
          "execution_count": 79
        }
      ]
    },
    {
      "cell_type": "code",
      "metadata": {
        "id": "nLfi_NQA7kLn",
        "colab_type": "code",
        "colab": {
          "base_uri": "https://localhost:8080/",
          "height": 34
        },
        "outputId": "b43a2838-ed88-422a-93a4-ef9f1e082e8b"
      },
      "source": [
        "z_mean_centered = z - z_mean\n",
        "z_mean_centered.mean(axis=0) # close to zero\n"
      ],
      "execution_count": 80,
      "outputs": [
        {
          "output_type": "execute_result",
          "data": {
            "text/plain": [
              "array([-4.44089210e-17,  2.22044605e-17])"
            ]
          },
          "metadata": {
            "tags": []
          },
          "execution_count": 80
        }
      ]
    },
    {
      "cell_type": "markdown",
      "metadata": {
        "id": "qRe5ENj87kLp",
        "colab_type": "text"
      },
      "source": [
        "### Boolean Comparisons and Masks"
      ]
    },
    {
      "cell_type": "code",
      "metadata": {
        "id": "1gwqd0Q77kLp",
        "colab_type": "code",
        "colab": {
          "base_uri": "https://localhost:8080/",
          "height": 34
        },
        "outputId": "1cccb6db-5641-4889-eb3f-8fb07e8625de"
      },
      "source": [
        "a < 5"
      ],
      "execution_count": 81,
      "outputs": [
        {
          "output_type": "execute_result",
          "data": {
            "text/plain": [
              "array([ True,  True,  True,  True,  True, False, False, False])"
            ]
          },
          "metadata": {
            "tags": []
          },
          "execution_count": 81
        }
      ]
    },
    {
      "cell_type": "code",
      "metadata": {
        "id": "uKXV5RSM7kLq",
        "colab_type": "code",
        "colab": {
          "base_uri": "https://localhost:8080/",
          "height": 34
        },
        "outputId": "27da6b96-829e-4baf-f835-17305512820c"
      },
      "source": [
        "a >= 6"
      ],
      "execution_count": 82,
      "outputs": [
        {
          "output_type": "execute_result",
          "data": {
            "text/plain": [
              "array([False, False, False, False, False, False,  True,  True])"
            ]
          },
          "metadata": {
            "tags": []
          },
          "execution_count": 82
        }
      ]
    },
    {
      "cell_type": "code",
      "metadata": {
        "id": "Uggm8S317kLs",
        "colab_type": "code",
        "colab": {
          "base_uri": "https://localhost:8080/",
          "height": 34
        },
        "outputId": "7615bea6-1555-4d6e-f6bf-61ef551b0283"
      },
      "source": [
        "(a < 7) & (a > 4)"
      ],
      "execution_count": 83,
      "outputs": [
        {
          "output_type": "execute_result",
          "data": {
            "text/plain": [
              "array([False, False, False, False, False,  True,  True, False])"
            ]
          },
          "metadata": {
            "tags": []
          },
          "execution_count": 83
        }
      ]
    },
    {
      "cell_type": "code",
      "metadata": {
        "id": "dAJAQaRM7kLt",
        "colab_type": "code",
        "colab": {
          "base_uri": "https://localhost:8080/",
          "height": 51
        },
        "outputId": "fbe623e9-125c-4477-844a-48edbc97c05e"
      },
      "source": [
        "a2 == 100"
      ],
      "execution_count": 84,
      "outputs": [
        {
          "output_type": "execute_result",
          "data": {
            "text/plain": [
              "array([[False, False, False],\n",
              "       [False, False,  True]])"
            ]
          },
          "metadata": {
            "tags": []
          },
          "execution_count": 84
        }
      ]
    },
    {
      "cell_type": "code",
      "metadata": {
        "id": "oajqsmar7kLv",
        "colab_type": "code",
        "colab": {
          "base_uri": "https://localhost:8080/",
          "height": 34
        },
        "outputId": "c8cb90a9-9335-4690-ef51-0a57ef5f91c6"
      },
      "source": [
        "# Count number of elements less than 5\n",
        "np.count_nonzero(a < 5)"
      ],
      "execution_count": 85,
      "outputs": [
        {
          "output_type": "execute_result",
          "data": {
            "text/plain": [
              "5"
            ]
          },
          "metadata": {
            "tags": []
          },
          "execution_count": 85
        }
      ]
    },
    {
      "cell_type": "code",
      "metadata": {
        "id": "IXf6QMwN7kLx",
        "colab_type": "code",
        "colab": {
          "base_uri": "https://localhost:8080/",
          "height": 34
        },
        "outputId": "c0dbc95c-4142-4330-d4f3-a91a133ae8a8"
      },
      "source": [
        "# Equivalent\n",
        "np.sum( a < 5) # since False = 0 and True = 1"
      ],
      "execution_count": 86,
      "outputs": [
        {
          "output_type": "execute_result",
          "data": {
            "text/plain": [
              "5"
            ]
          },
          "metadata": {
            "tags": []
          },
          "execution_count": 86
        }
      ]
    },
    {
      "cell_type": "code",
      "metadata": {
        "id": "2Y_NZ9-f7kLy",
        "colab_type": "code",
        "colab": {
          "base_uri": "https://localhost:8080/",
          "height": 51
        },
        "outputId": "fdabae31-66ba-498a-da82-c4ca10ec1bc1"
      },
      "source": [
        "a2"
      ],
      "execution_count": 87,
      "outputs": [
        {
          "output_type": "execute_result",
          "data": {
            "text/plain": [
              "array([[  3,   3,   7],\n",
              "       [  0,   1, 100]])"
            ]
          },
          "metadata": {
            "tags": []
          },
          "execution_count": 87
        }
      ]
    },
    {
      "cell_type": "code",
      "metadata": {
        "id": "T1jZJHIo6bZn",
        "colab_type": "code",
        "colab": {
          "base_uri": "https://localhost:8080/",
          "height": 34
        },
        "outputId": "cdbb0d99-88b1-4abc-bb13-f5cab53ac328"
      },
      "source": [
        "np.sum(a2) # sum over all elements in the matrix"
      ],
      "execution_count": 88,
      "outputs": [
        {
          "output_type": "execute_result",
          "data": {
            "text/plain": [
              "114"
            ]
          },
          "metadata": {
            "tags": []
          },
          "execution_count": 88
        }
      ]
    },
    {
      "cell_type": "code",
      "metadata": {
        "id": "QYJeDJBZ5pzI",
        "colab_type": "code",
        "colab": {
          "base_uri": "https://localhost:8080/",
          "height": 34
        },
        "outputId": "810947e7-11d8-4c4d-ea53-9bd4a31cb5d2"
      },
      "source": [
        "np.sum(a2 < 5) # how many elements less than 5 in the matrix"
      ],
      "execution_count": 89,
      "outputs": [
        {
          "output_type": "execute_result",
          "data": {
            "text/plain": [
              "4"
            ]
          },
          "metadata": {
            "tags": []
          },
          "execution_count": 89
        }
      ]
    },
    {
      "cell_type": "code",
      "metadata": {
        "id": "928R9EU87kLz",
        "colab_type": "code",
        "colab": {
          "base_uri": "https://localhost:8080/",
          "height": 34
        },
        "outputId": "dbaa364e-eb9f-4147-e3e8-85681db03437"
      },
      "source": [
        "np.sum(a2 < 5, axis=1) # collapse columns, i.e., how many elements less than 5 in each row"
      ],
      "execution_count": 90,
      "outputs": [
        {
          "output_type": "execute_result",
          "data": {
            "text/plain": [
              "array([2, 2])"
            ]
          },
          "metadata": {
            "tags": []
          },
          "execution_count": 90
        }
      ]
    },
    {
      "cell_type": "code",
      "metadata": {
        "id": "uBArNgtP7kL0",
        "colab_type": "code",
        "colab": {
          "base_uri": "https://localhost:8080/",
          "height": 34
        },
        "outputId": "08c3e7ab-ecbc-4b8f-90b3-b4ecb66eec68"
      },
      "source": [
        "np.any(a > 7)"
      ],
      "execution_count": 91,
      "outputs": [
        {
          "output_type": "execute_result",
          "data": {
            "text/plain": [
              "False"
            ]
          },
          "metadata": {
            "tags": []
          },
          "execution_count": 91
        }
      ]
    },
    {
      "cell_type": "code",
      "metadata": {
        "id": "iA8nKn6E7kL1",
        "colab_type": "code",
        "colab": {
          "base_uri": "https://localhost:8080/",
          "height": 34
        },
        "outputId": "1c0e7241-48d4-49fc-fdfc-e1f958a3a330"
      },
      "source": [
        "np.all(a < 8)"
      ],
      "execution_count": 92,
      "outputs": [
        {
          "output_type": "execute_result",
          "data": {
            "text/plain": [
              "True"
            ]
          },
          "metadata": {
            "tags": []
          },
          "execution_count": 92
        }
      ]
    },
    {
      "cell_type": "code",
      "metadata": {
        "id": "hsB5SZe77kL3",
        "colab_type": "code",
        "colab": {
          "base_uri": "https://localhost:8080/",
          "height": 34
        },
        "outputId": "d62a799b-1712-4013-dfae-b3a703a7c376"
      },
      "source": [
        "# Masks\n",
        "a[a < 5] # means a[True, True, True, True, True, False, False, False]"
      ],
      "execution_count": 93,
      "outputs": [
        {
          "output_type": "execute_result",
          "data": {
            "text/plain": [
              "array([0, 1, 2, 3, 4])"
            ]
          },
          "metadata": {
            "tags": []
          },
          "execution_count": 93
        }
      ]
    },
    {
      "cell_type": "markdown",
      "metadata": {
        "id": "NcZCx8v67kL4",
        "colab_type": "text"
      },
      "source": [
        "### Sorting"
      ]
    },
    {
      "cell_type": "code",
      "metadata": {
        "id": "M7pdTnqw7kL4",
        "colab_type": "code",
        "colab": {
          "base_uri": "https://localhost:8080/",
          "height": 34
        },
        "outputId": "a1d5e312-8cfa-4750-a3ce-872b18815b2c"
      },
      "source": [
        "unsorted = np.array([7,1,6,4,5])\n",
        "unsorted"
      ],
      "execution_count": 94,
      "outputs": [
        {
          "output_type": "execute_result",
          "data": {
            "text/plain": [
              "array([7, 1, 6, 4, 5])"
            ]
          },
          "metadata": {
            "tags": []
          },
          "execution_count": 94
        }
      ]
    },
    {
      "cell_type": "code",
      "metadata": {
        "id": "E0LZ6-Xf7kL6",
        "colab_type": "code",
        "colab": {
          "base_uri": "https://localhost:8080/",
          "height": 51
        },
        "outputId": "9d821736-d1b8-46ad-caaa-b01853390c6a"
      },
      "source": [
        "arr_new = np.sort(unsorted)\n",
        "print(arr_new)\n",
        "unsorted"
      ],
      "execution_count": 95,
      "outputs": [
        {
          "output_type": "stream",
          "text": [
            "[1 4 5 6 7]\n"
          ],
          "name": "stdout"
        },
        {
          "output_type": "execute_result",
          "data": {
            "text/plain": [
              "array([7, 1, 6, 4, 5])"
            ]
          },
          "metadata": {
            "tags": []
          },
          "execution_count": 95
        }
      ]
    },
    {
      "cell_type": "code",
      "metadata": {
        "id": "TvZEzhKV7kL7",
        "colab_type": "code",
        "colab": {
          "base_uri": "https://localhost:8080/",
          "height": 34
        },
        "outputId": "7af7f3d0-0bfe-4f36-adb0-77394cd3a555"
      },
      "source": [
        "unsorted.sort() # It sorts the array in-place\n",
        "unsorted"
      ],
      "execution_count": 96,
      "outputs": [
        {
          "output_type": "execute_result",
          "data": {
            "text/plain": [
              "array([1, 4, 5, 6, 7])"
            ]
          },
          "metadata": {
            "tags": []
          },
          "execution_count": 96
        }
      ]
    },
    {
      "cell_type": "code",
      "metadata": {
        "id": "KZhrhzMx7kL8",
        "colab_type": "code",
        "colab": {
          "base_uri": "https://localhost:8080/",
          "height": 34
        },
        "outputId": "20c7de8a-e0d2-42fb-e308-fdc9cebbb55c"
      },
      "source": [
        "# The indices of the sorted elements\n",
        "unsorted_2 = np.array([7,1,6,4,5])\n",
        "indices = unsorted_2.argsort()\n",
        "indices"
      ],
      "execution_count": 97,
      "outputs": [
        {
          "output_type": "execute_result",
          "data": {
            "text/plain": [
              "array([1, 3, 4, 2, 0])"
            ]
          },
          "metadata": {
            "tags": []
          },
          "execution_count": 97
        }
      ]
    },
    {
      "cell_type": "code",
      "metadata": {
        "id": "qfngRuRO7kL9",
        "colab_type": "code",
        "colab": {
          "base_uri": "https://localhost:8080/",
          "height": 34
        },
        "outputId": "051fa3fb-4c90-4d92-9cc7-507fe7d49cb9"
      },
      "source": [
        "unsorted_2[indices]"
      ],
      "execution_count": 98,
      "outputs": [
        {
          "output_type": "execute_result",
          "data": {
            "text/plain": [
              "array([1, 4, 5, 6, 7])"
            ]
          },
          "metadata": {
            "tags": []
          },
          "execution_count": 98
        }
      ]
    },
    {
      "cell_type": "code",
      "metadata": {
        "id": "AmAyKN537kL_",
        "colab_type": "code",
        "colab": {
          "base_uri": "https://localhost:8080/",
          "height": 51
        },
        "outputId": "d0d1d57b-b856-4d85-81b2-9151911dda2f"
      },
      "source": [
        "a2"
      ],
      "execution_count": 99,
      "outputs": [
        {
          "output_type": "execute_result",
          "data": {
            "text/plain": [
              "array([[  3,   3,   7],\n",
              "       [  0,   1, 100]])"
            ]
          },
          "metadata": {
            "tags": []
          },
          "execution_count": 99
        }
      ]
    },
    {
      "cell_type": "code",
      "metadata": {
        "id": "XaKS5NN87kMA",
        "colab_type": "code",
        "colab": {
          "base_uri": "https://localhost:8080/",
          "height": 51
        },
        "outputId": "337c3e39-3a19-4c23-867d-1d66c8df0c1a"
      },
      "source": [
        "np.sort(a2, axis =0) # collapse rows,i.e., sort each column"
      ],
      "execution_count": 100,
      "outputs": [
        {
          "output_type": "execute_result",
          "data": {
            "text/plain": [
              "array([[  0,   1,   7],\n",
              "       [  3,   3, 100]])"
            ]
          },
          "metadata": {
            "tags": []
          },
          "execution_count": 100
        }
      ]
    },
    {
      "cell_type": "code",
      "metadata": {
        "id": "fMhzDiCW7kMB",
        "colab_type": "code",
        "colab": {
          "base_uri": "https://localhost:8080/",
          "height": 51
        },
        "outputId": "53adcc90-8c70-4026-8adb-6122aa281eb3"
      },
      "source": [
        "np.sort(a2, axis =1) # collapse columns,i.e., sort each row"
      ],
      "execution_count": 101,
      "outputs": [
        {
          "output_type": "execute_result",
          "data": {
            "text/plain": [
              "array([[  3,   3,   7],\n",
              "       [  0,   1, 100]])"
            ]
          },
          "metadata": {
            "tags": []
          },
          "execution_count": 101
        }
      ]
    }
  ]
}