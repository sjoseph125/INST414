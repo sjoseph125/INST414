{
  "nbformat": 4,
  "nbformat_minor": 0,
  "metadata": {
    "colab": {
      "name": "ProbabilityDistributions.ipynb",
      "provenance": []
    },
    "kernelspec": {
      "name": "python3",
      "display_name": "Python 3"
    }
  },
  "cells": [
    {
      "cell_type": "markdown",
      "metadata": {
        "id": "b9r4WFIc4HJs",
        "colab_type": "text"
      },
      "source": [
        "### Module scipy.stats\n",
        "\n",
        "Statistical functions (scipy.stats)\n",
        "This module contains a large number of probability distributions as well as a growing library of statistical functions.\n",
        "\n",
        "Each univariate distribution is an instance of a subclass of rv_continuous (rv_discrete for discrete distributions).\n",
        "\n",
        "[scipy.stats](https://docs.scipy.org/doc/scipy/reference/stats.html)\n",
        "\n"
      ]
    },
    {
      "cell_type": "code",
      "metadata": {
        "id": "sRZ8CSTeM97U",
        "colab_type": "code",
        "colab": {
          "base_uri": "https://localhost:8080/",
          "height": 34
        },
        "outputId": "3137b05e-af51-47a5-fbef-f0fea24e1ec0"
      },
      "source": [
        "## Density function\n",
        "\n",
        "from scipy.stats import norm\n",
        "norm.pdf(0) # same as dnorm(0) in R: density"
      ],
      "execution_count": 23,
      "outputs": [
        {
          "output_type": "execute_result",
          "data": {
            "text/plain": [
              "0.3989422804014327"
            ]
          },
          "metadata": {
            "tags": []
          },
          "execution_count": 23
        }
      ]
    },
    {
      "cell_type": "markdown",
      "metadata": {
        "id": "3I7V4oiS7N8Y",
        "colab_type": "text"
      },
      "source": [
        "Single variable Normal (Gaussian) distribution\n",
        "f(x) is the density function; it is not the probability of x \n",
        "\n",
        "<img src= \"https://i.stack.imgur.com/oXbxu.jpg\">"
      ]
    },
    {
      "cell_type": "code",
      "metadata": {
        "id": "qO9xPJR_o9Ec",
        "colab_type": "code",
        "colab": {
          "base_uri": "https://localhost:8080/",
          "height": 34
        },
        "outputId": "f2cdbccd-d38b-4693-f347-6fc626cc3f15"
      },
      "source": [
        "norm.ppf(0.5) # quantile (percent point) function same as qnorm(0.5) in R. Find x such that P(X<=x) = 0.5 --> x = 0"
      ],
      "execution_count": 3,
      "outputs": [
        {
          "output_type": "execute_result",
          "data": {
            "text/plain": [
              "0.0"
            ]
          },
          "metadata": {
            "tags": []
          },
          "execution_count": 3
        }
      ]
    },
    {
      "cell_type": "markdown",
      "metadata": {
        "id": "p75F0-I--GOT",
        "colab_type": "text"
      },
      "source": [
        "<img src='https://online.stat.psu.edu/stat500/sites/stat500/files/inline-images/500%20l1%20median%2050th.png' >"
      ]
    },
    {
      "cell_type": "code",
      "metadata": {
        "id": "h2QMvDOCpMJb",
        "colab_type": "code",
        "colab": {
          "base_uri": "https://localhost:8080/",
          "height": 34
        },
        "outputId": "ee2df74b-d060-437d-fa9c-19291846ea37"
      },
      "source": [
        "## Cumulative distribution function:   cdf(x, loc=0, scale=1)\n",
        "\n",
        "norm.cdf(0) # same as pnorm(0) in R. This means P(X<=0) = 0.5"
      ],
      "execution_count": 4,
      "outputs": [
        {
          "output_type": "execute_result",
          "data": {
            "text/plain": [
              "0.5"
            ]
          },
          "metadata": {
            "tags": []
          },
          "execution_count": 4
        }
      ]
    },
    {
      "cell_type": "code",
      "metadata": {
        "id": "89T6HUM1pZNn",
        "colab_type": "code",
        "colab": {
          "base_uri": "https://localhost:8080/",
          "height": 34
        },
        "outputId": "48895b34-b3cf-476f-a970-d53e5f7ee6f9"
      },
      "source": [
        "# Random variates (numbers):  rvs(loc=0, scale=1, size=1, random_state=None), loc is mean and scale is standard deviation\n",
        "\n",
        "norm.rvs(size=3) # same as rnorm(3) in R"
      ],
      "execution_count": null,
      "outputs": [
        {
          "output_type": "execute_result",
          "data": {
            "text/plain": [
              "array([-0.35480582, -1.67405154,  2.49527094])"
            ]
          },
          "metadata": {
            "tags": []
          },
          "execution_count": 12
        }
      ]
    },
    {
      "cell_type": "code",
      "metadata": {
        "id": "N5WE0dcTa00u",
        "colab_type": "code",
        "colab": {
          "base_uri": "https://localhost:8080/",
          "height": 34
        },
        "outputId": "06c402b5-5987-45cd-cf52-eefaff778feb"
      },
      "source": [
        "# mean = 100, standard devaition 15\n",
        "\n",
        "norm.pdf(120, loc = 100, scale = 15)"
      ],
      "execution_count": 6,
      "outputs": [
        {
          "output_type": "execute_result",
          "data": {
            "text/plain": [
              "0.010934004978399577"
            ]
          },
          "metadata": {
            "tags": []
          },
          "execution_count": 6
        }
      ]
    },
    {
      "cell_type": "code",
      "metadata": {
        "id": "IbBYtLH1XfRN",
        "colab_type": "code",
        "colab": {
          "base_uri": "https://localhost:8080/",
          "height": 34
        },
        "outputId": "050b31b0-47ec-41c5-d378-f7da1e58fadd"
      },
      "source": [
        "norm.rvs(100,15,3)"
      ],
      "execution_count": 29,
      "outputs": [
        {
          "output_type": "execute_result",
          "data": {
            "text/plain": [
              "array([111.51098092, 100.47618517,  91.22847627])"
            ]
          },
          "metadata": {
            "tags": []
          },
          "execution_count": 29
        }
      ]
    },
    {
      "cell_type": "code",
      "metadata": {
        "id": "wfuE90Ceb5JI",
        "colab_type": "code",
        "colab": {
          "base_uri": "https://localhost:8080/",
          "height": 34
        },
        "outputId": "b9b76225-60c7-4258-f0b0-c19e6a3c9023"
      },
      "source": [
        "# Density function: f(0) and f(1)\n",
        "x = [0,1]\n",
        "norm.pdf(x) ## instead of looping over the list: norm.pdf(0), norm.pdf(1)"
      ],
      "execution_count": 32,
      "outputs": [
        {
          "output_type": "execute_result",
          "data": {
            "text/plain": [
              "array([0.39894228, 0.24197072])"
            ]
          },
          "metadata": {
            "tags": []
          },
          "execution_count": 32
        }
      ]
    },
    {
      "cell_type": "code",
      "metadata": {
        "id": "VTMYd9e2l9B2",
        "colab_type": "code",
        "colab": {
          "base_uri": "https://localhost:8080/",
          "height": 34
        },
        "outputId": "083d516c-181d-49e7-a6ff-e9f230a8e788"
      },
      "source": [
        "norm.cdf(x)   # cumulative distribution 1D gaussian; x=[0,1] is considered as x = 0, x=1 --> norm.cdf(0) and norm.cdf(1)"
      ],
      "execution_count": 37,
      "outputs": [
        {
          "output_type": "execute_result",
          "data": {
            "text/plain": [
              "array([0.5       , 0.84134475])"
            ]
          },
          "metadata": {
            "tags": []
          },
          "execution_count": 37
        }
      ]
    },
    {
      "cell_type": "code",
      "metadata": {
        "id": "1wIJYRilf5tC",
        "colab_type": "code",
        "colab": {
          "base_uri": "https://localhost:8080/",
          "height": 34
        },
        "outputId": "974cf8c6-5f4d-486d-bdab-267cd20d59ce"
      },
      "source": [
        "# Multivariate is same as single variate norm.pdf if no vector of means and cov are provided\n",
        "from scipy.stats import multivariate_normal\n",
        "multivariate_normal.pdf(x) # x contains two points in a one-dimensional gaussian"
      ],
      "execution_count": 33,
      "outputs": [
        {
          "output_type": "execute_result",
          "data": {
            "text/plain": [
              "array([0.39894228, 0.24197072])"
            ]
          },
          "metadata": {
            "tags": []
          },
          "execution_count": 33
        }
      ]
    },
    {
      "cell_type": "code",
      "metadata": {
        "id": "GPTX7rOPZpPn",
        "colab_type": "code",
        "colab": {
          "base_uri": "https://localhost:8080/",
          "height": 34
        },
        "outputId": "ef4f21b4-8b16-4921-9564-9c136821009c"
      },
      "source": [
        "# instantiate a normal multivariate and assign to a variable var1\n",
        "var = multivariate_normal()\n",
        "var.rvs()  # generate one random sample from one-dim gaussian distribution"
      ],
      "execution_count": 34,
      "outputs": [
        {
          "output_type": "execute_result",
          "data": {
            "text/plain": [
              "1.1611910944422745"
            ]
          },
          "metadata": {
            "tags": []
          },
          "execution_count": 34
        }
      ]
    },
    {
      "cell_type": "code",
      "metadata": {
        "id": "3gPOWecYkY2g",
        "colab_type": "code",
        "colab": {
          "base_uri": "https://localhost:8080/",
          "height": 34
        },
        "outputId": "b481ae9d-ec29-4a82-dcb9-dc87422ba3b3"
      },
      "source": [
        "## mean = [0,0] is the mean of a two dimensional variate. x=[0,1] is considered as a point in  2D \n",
        "from scipy.stats import multivariate_normal\n",
        "var1 = multivariate_normal(mean=[0,0], cov=1)\n",
        "var1.pdf(x) # x contains one point in a two-dim gaussian"
      ],
      "execution_count": 35,
      "outputs": [
        {
          "output_type": "execute_result",
          "data": {
            "text/plain": [
              "0.09653235263005393"
            ]
          },
          "metadata": {
            "tags": []
          },
          "execution_count": 35
        }
      ]
    },
    {
      "cell_type": "markdown",
      "metadata": {
        "id": "bftvK1pPjahM",
        "colab_type": "text"
      },
      "source": [
        "<img src = 'https://upload.wikimedia.org/wikipedia/commons/8/8e/MultivariateNormal.png'>\n",
        "\n",
        "<img src = 'https://upload.wikimedia.org/wikipedia/commons/thumb/5/57/Multivariate_Gaussian.png/600px-Multivariate_Gaussian.png' >"
      ]
    },
    {
      "cell_type": "code",
      "metadata": {
        "id": "fTgoEkD8lvuH",
        "colab_type": "code",
        "colab": {
          "base_uri": "https://localhost:8080/",
          "height": 34
        },
        "outputId": "3916b70c-94c9-4e93-bffc-94d4033f5e96"
      },
      "source": [
        "var1.rvs() # generate one random sample from 2D gaussian"
      ],
      "execution_count": 36,
      "outputs": [
        {
          "output_type": "execute_result",
          "data": {
            "text/plain": [
              "array([ 0.54125346, -0.50835974])"
            ]
          },
          "metadata": {
            "tags": []
          },
          "execution_count": 36
        }
      ]
    },
    {
      "cell_type": "code",
      "metadata": {
        "id": "cEM5-MiR8awC",
        "colab_type": "code",
        "colab": {
          "base_uri": "https://localhost:8080/",
          "height": 187
        },
        "outputId": "53c88925-22bc-4c74-e2f6-5f77a6d94705"
      },
      "source": [
        "import matplotlib.pyplot as plt\n",
        "import numpy as np\n",
        "\n",
        "# random numbers from a Bernoulli distribution (binary outcome) e.g., tossing a  coin heads/tails 10 times\n",
        "\n",
        " 0------p-----------1\n",
        " \n",
        "def bern(p):\n",
        "  r = np.random.uniform(0,1)\n",
        "  if r < p:\n",
        "    return 1\n",
        "  else:\n",
        "    return 0\n",
        "\n",
        "size = 10\n",
        "for i in range(size):\n",
        "  coin = bern(0.5)  # fair coin\n",
        "  print(coin)"
      ],
      "execution_count": 38,
      "outputs": [
        {
          "output_type": "stream",
          "text": [
            "0\n",
            "1\n",
            "1\n",
            "0\n",
            "1\n",
            "1\n",
            "0\n",
            "0\n",
            "0\n",
            "1\n"
          ],
          "name": "stdout"
        }
      ]
    },
    {
      "cell_type": "markdown",
      "metadata": {
        "id": "8ACXKY1Wrvz_",
        "colab_type": "text"
      },
      "source": [
        "\n",
        "<img src='https://web.mit.edu/urban_or_book/www/book/chapter7/images7/fig7.2.gif'>"
      ]
    },
    {
      "cell_type": "code",
      "metadata": {
        "id": "l__m4WuZyx0i",
        "colab_type": "code",
        "colab": {
          "base_uri": "https://localhost:8080/",
          "height": 34
        },
        "outputId": "4d68de1c-0d5d-4975-95c8-659508819ba4"
      },
      "source": [
        "# Binomial distribution: binomial random variable is the number of heads or positives or successes x in n repeated trials of a binomial experiment\n",
        "# Example: simulation of the number of heads and tails by tossing a fair coin 10 times\n",
        "def bern(p):\n",
        "  r = np.random.uniform(0,1)\n",
        "  if r < p:\n",
        "    return 1\n",
        "  else:\n",
        "    return 0\n",
        "\n",
        "size = 10\n",
        "x = [0,1]\n",
        "y = [0,0]\n",
        "\n",
        "for i in range(size):\n",
        "  index = bern(0.5)\n",
        "  y[index] +=1\n",
        "\n",
        "print(y)\n",
        "\n"
      ],
      "execution_count": 39,
      "outputs": [
        {
          "output_type": "stream",
          "text": [
            "[6, 4]\n"
          ],
          "name": "stdout"
        }
      ]
    },
    {
      "cell_type": "markdown",
      "metadata": {
        "id": "_IFHZw_9qbgC",
        "colab_type": "text"
      },
      "source": [
        "<img src='https://www.onlinemathlearning.com/image-files/binomial-distribution-formula.png'>"
      ]
    },
    {
      "cell_type": "code",
      "metadata": {
        "id": "jxqwy4NBHppK",
        "colab_type": "code",
        "colab": {
          "base_uri": "https://localhost:8080/",
          "height": 282
        },
        "outputId": "f248ca7a-5b4d-4066-aa5c-cbc1485dc35b"
      },
      "source": [
        "import matplotlib.pyplot as plt\n",
        "y[0] = y[0]/size\n",
        "y[1] = y[1]/size\n",
        "plt.bar(x,y, 0.2)"
      ],
      "execution_count": 11,
      "outputs": [
        {
          "output_type": "execute_result",
          "data": {
            "text/plain": [
              "<BarContainer object of 2 artists>"
            ]
          },
          "metadata": {
            "tags": []
          },
          "execution_count": 11
        },
        {
          "output_type": "display_data",
          "data": {
            "image/png": "[encoded data removed]",
            "text/plain": [
              "<Figure size 432x288 with 1 Axes>"
            ]
          },
          "metadata": {
            "tags": [],
            "needs_background": "light"
          }
        }
      ]
    },
    {
      "cell_type": "code",
      "metadata": {
        "id": "4e6LdKdDDljs",
        "colab_type": "code",
        "colab": {
          "base_uri": "https://localhost:8080/",
          "height": 187
        },
        "outputId": "3ac58fbb-49df-4320-dcce-1c859ca97d78"
      },
      "source": [
        "# Categorical variable with more than two outcomes\n",
        "\n",
        "# Example: random outcomes of a die tossed 10 times\n",
        "\n",
        " 0-------p1--p1+p2------p1+p2+p3-------p1+p2+p3+p4----p1+p2+p3+p4+p5------1\n",
        "\n",
        "def categ(p1,p2,p3,p4,p5,p6):\n",
        "  r = np.random.uniform(0,1)\n",
        "  if r < p1:\n",
        "    return 1\n",
        "  elif r < p1 + p2:\n",
        "    return 2\n",
        "  elif r < p1 + p2 + p3:\n",
        "    return 3\n",
        "  elif r < p1 + p2 + p3 + p4:\n",
        "    return 4\n",
        "  elif r < p1 + p2 + p3 + p4 + p5:\n",
        "    return 5\n",
        "  else: return 6\n",
        "\n",
        "size = 10\n",
        "for i in range(size):\n",
        "  dice = categ(1/6,1/6, 1/6, 1/6, 1/6, 1/6)  # fair die\n",
        "  print(dice)\n",
        "    \n"
      ],
      "execution_count": 12,
      "outputs": [
        {
          "output_type": "stream",
          "text": [
            "3\n",
            "1\n",
            "2\n",
            "2\n",
            "1\n",
            "1\n",
            "6\n",
            "6\n",
            "4\n",
            "6\n"
          ],
          "name": "stdout"
        }
      ]
    },
    {
      "cell_type": "code",
      "metadata": {
        "id": "tUCQj0-SGjDe",
        "colab_type": "code",
        "colab": {
          "base_uri": "https://localhost:8080/",
          "height": 34
        },
        "outputId": "8ab2b178-6f9c-4c21-b5a6-3a59b12cf093"
      },
      "source": [
        "# Multinomial distribution is the equivalent of the binomial distribution when the categorical variable has more than two outcomes\n",
        "# Example: Simulation of the number  of times each side of a fair die shows up if the die is tossed 10 times\n",
        "\n",
        "\n",
        "y = [0,0,0,0,0,0,0] # initialize count to zero\n",
        "size = 10\n",
        "\n",
        "for i in range(size):\n",
        "  dice = categ(1/6,1/6, 1/6, 1/6, 1/6, 1/6)\n",
        "  y[dice] += 1\n",
        "  \n",
        "print(y[1:])\n",
        "\n",
        "\n",
        "\n",
        "    "
      ],
      "execution_count": 13,
      "outputs": [
        {
          "output_type": "stream",
          "text": [
            "[4, 1, 0, 2, 1, 2]\n"
          ],
          "name": "stdout"
        }
      ]
    },
    {
      "cell_type": "code",
      "metadata": {
        "id": "UuoOqlEJImCh",
        "colab_type": "code",
        "colab": {
          "base_uri": "https://localhost:8080/",
          "height": 282
        },
        "outputId": "01af28b6-7e6e-4e1c-f8e9-8e8412c56a56"
      },
      "source": [
        "x = [1,2,3,4,5,6] # points on x-coordinate\n",
        "\n",
        "y[1] = y[1]/size\n",
        "y[2] = y[2]/size\n",
        "y[3] = y[3]/size\n",
        "y[4] = y[4]/size\n",
        "y[5] = y[5]/size\n",
        "y[6] = y[6]/size\n",
        "\n",
        "y[1:]\n",
        "plt.bar(x,y[1:], 0.1)"
      ],
      "execution_count": 14,
      "outputs": [
        {
          "output_type": "execute_result",
          "data": {
            "text/plain": [
              "<BarContainer object of 6 artists>"
            ]
          },
          "metadata": {
            "tags": []
          },
          "execution_count": 14
        },
        {
          "output_type": "display_data",
          "data": {
            "image/png": "[encoded data removed]",
            "text/plain": [
              "<Figure size 432x288 with 1 Axes>"
            ]
          },
          "metadata": {
            "tags": [],
            "needs_background": "light"
          }
        }
      ]
    },
    {
      "cell_type": "markdown",
      "metadata": {
        "id": "Vwla05aguX5b",
        "colab_type": "text"
      },
      "source": [
        "Using Numpy"
      ]
    },
    {
      "cell_type": "code",
      "metadata": {
        "id": "a5BMz_Zruc7u",
        "colab_type": "code",
        "colab": {
          "base_uri": "https://localhost:8080/",
          "height": 34
        },
        "outputId": "6fc5fbdd-36ba-4ce2-e4ae-60034eb3802c"
      },
      "source": [
        "# Using numpy to simulate random outcomes of a die tossed 10 times\n",
        "die_1 = np.random.choice( a=[1, 2, 3,4,5,6],  size=10,  p=[1/6, 1/6, 1/6, 1/6, 1/6,1/6]  )\n",
        "die_1"
      ],
      "execution_count": 18,
      "outputs": [
        {
          "output_type": "execute_result",
          "data": {
            "text/plain": [
              "array([5, 3, 5, 1, 5, 4, 2, 1, 6, 1])"
            ]
          },
          "metadata": {
            "tags": []
          },
          "execution_count": 18
        }
      ]
    },
    {
      "cell_type": "code",
      "metadata": {
        "id": "cDZbmg93xhYu",
        "colab_type": "code",
        "colab": {
          "base_uri": "https://localhost:8080/",
          "height": 34
        },
        "outputId": "6ded995d-ea98-4785-df2d-c8e52e32a336"
      },
      "source": [
        "# Using numpy generate samples from a multinomial distribution, i.e., \n",
        "# the number  of times each side of a fair die shows up if the die is tossed 10 times\n",
        "np.random.multinomial(10, [1/6, 1/6, 1/6, 1/6, 1/6,1/6])"
      ],
      "execution_count": 19,
      "outputs": [
        {
          "output_type": "execute_result",
          "data": {
            "text/plain": [
              "array([2, 1, 3, 0, 3, 1])"
            ]
          },
          "metadata": {
            "tags": []
          },
          "execution_count": 19
        }
      ]
    },
    {
      "cell_type": "markdown",
      "metadata": {
        "id": "_2wpF02Dysuy",
        "colab_type": "text"
      },
      "source": [
        "Probability of multinomial distribution\n",
        "\n",
        "<img src='https://www.statisticshowto.com/wp-content/uploads/2015/05/multinomial-formula-2.png'>"
      ]
    },
    {
      "cell_type": "markdown",
      "metadata": {
        "id": "wQ9Eijq_uZTR",
        "colab_type": "text"
      },
      "source": [
        "### Summary\n",
        "\n",
        "Bernoulli has two outcomes, e.g., Success(1) with probaility p and Failure(0) with probabilty 1- p. \n",
        "\n",
        "Binomial is about the count of number of successes in N trials. It is the sum of the Bernoullis (ones and zeros)\n",
        "\n",
        "Categorical has more than two discrete outcomes with probabilities p1, p2, p3, ....\n",
        "\n",
        "Multinomial is about the count of each category.\n",
        "\n",
        "Bernoulli is a special case of categorical \n",
        "\n",
        "Binomial is a special case of multinomial"
      ]
    },
    {
      "cell_type": "markdown",
      "metadata": {
        "id": "oZH5ZY90xNPS",
        "colab_type": "text"
      },
      "source": [
        "[GitHub ThinkX](https://github.com/AllenDowney/ThinkX)"
      ]
    },
    {
      "cell_type": "code",
      "metadata": {
        "id": "vqsQ3CJMtESy",
        "colab_type": "code",
        "colab": {
          "base_uri": "https://localhost:8080/",
          "height": 428
        },
        "outputId": "bd7bbd4a-b784-47ea-dce3-bb7d297c3c3d"
      },
      "source": [
        "import random\n",
        "!pip install ThinkX #thinkstats2\n"
      ],
      "execution_count": 20,
      "outputs": [
        {
          "output_type": "stream",
          "text": [
            "Collecting ThinkX\n",
            "\u001b[?25l  Downloading https://files.pythonhosted.org/packages/34/7a/43e0e92fbd96916a11a78ce637b34e9e9416fa48f9d3ef90927234e86c36/thinkx-1.1.3.tar.gz (41kB)\n",
            "\r\u001b[K     |████████                        | 10kB 16.7MB/s eta 0:00:01\r\u001b[K     |████████████████                | 20kB 2.1MB/s eta 0:00:01\r\u001b[K     |███████████████████████▉        | 30kB 2.7MB/s eta 0:00:01\r\u001b[K     |███████████████████████████████▉| 40kB 3.0MB/s eta 0:00:01\r\u001b[K     |████████████████████████████████| 51kB 2.4MB/s \n",
            "\u001b[?25hRequirement already satisfied: matplotlib in /usr/local/lib/python3.6/dist-packages (from ThinkX) (3.2.2)\n",
            "Requirement already satisfied: numpy in /usr/local/lib/python3.6/dist-packages (from ThinkX) (1.18.5)\n",
            "Requirement already satisfied: pandas in /usr/local/lib/python3.6/dist-packages (from ThinkX) (1.0.5)\n",
            "Requirement already satisfied: scipy in /usr/local/lib/python3.6/dist-packages (from ThinkX) (1.4.1)\n",
            "Requirement already satisfied: markdown in /usr/local/lib/python3.6/dist-packages (from ThinkX) (3.2.2)\n",
            "Requirement already satisfied: cycler>=0.10 in /usr/local/lib/python3.6/dist-packages (from matplotlib->ThinkX) (0.10.0)\n",
            "Requirement already satisfied: python-dateutil>=2.1 in /usr/local/lib/python3.6/dist-packages (from matplotlib->ThinkX) (2.8.1)\n",
            "Requirement already satisfied: pyparsing!=2.0.4,!=2.1.2,!=2.1.6,>=2.0.1 in /usr/local/lib/python3.6/dist-packages (from matplotlib->ThinkX) (2.4.7)\n",
            "Requirement already satisfied: kiwisolver>=1.0.1 in /usr/local/lib/python3.6/dist-packages (from matplotlib->ThinkX) (1.2.0)\n",
            "Requirement already satisfied: pytz>=2017.2 in /usr/local/lib/python3.6/dist-packages (from pandas->ThinkX) (2018.9)\n",
            "Requirement already satisfied: importlib-metadata; python_version < \"3.8\" in /usr/local/lib/python3.6/dist-packages (from markdown->ThinkX) (1.7.0)\n",
            "Requirement already satisfied: six in /usr/local/lib/python3.6/dist-packages (from cycler>=0.10->matplotlib->ThinkX) (1.15.0)\n",
            "Requirement already satisfied: zipp>=0.5 in /usr/local/lib/python3.6/dist-packages (from importlib-metadata; python_version < \"3.8\"->markdown->ThinkX) (3.1.0)\n",
            "Building wheels for collected packages: ThinkX\n",
            "  Building wheel for ThinkX (setup.py) ... \u001b[?25l\u001b[?25hdone\n",
            "  Created wheel for ThinkX: filename=thinkx-1.1.3-cp36-none-any.whl size=59943 sha256=d48e326e5b810a9d11d14088945d2a849f6f6dea0436df8336d326a142a67250\n",
            "  Stored in directory: /root/.cache/pip/wheels/74/e9/57/f4ad676ba30144b574a6cc36606e82874f8aac8271112f1cd3\n",
            "Successfully built ThinkX\n",
            "Installing collected packages: ThinkX\n",
            "Successfully installed ThinkX-1.1.3\n"
          ],
          "name": "stdout"
        }
      ]
    },
    {
      "cell_type": "code",
      "metadata": {
        "id": "k4k1Uf4jvVyg",
        "colab_type": "code",
        "colab": {}
      },
      "source": [
        "import thinkstats2\n",
        "import thinkplot"
      ],
      "execution_count": 21,
      "outputs": []
    },
    {
      "cell_type": "markdown",
      "metadata": {
        "id": "Zn-sCsXQwKqg",
        "colab_type": "text"
      },
      "source": [
        "**Hypothesis testing**\n",
        "\n",
        "Reference: Chapter 9 of [ThinkStats2](http://greenteapress.com/thinkstats2/thinkstats2.pdf)\n",
        "\n",
        "The following is a version of thinkstats2.HypothesisTest with just the essential methods:"
      ]
    },
    {
      "cell_type": "code",
      "metadata": {
        "id": "sEcC0epmvjTl",
        "colab_type": "code",
        "colab": {}
      },
      "source": [
        "class HypothesisTest(object):\n",
        "\n",
        "    def __init__(self, data):\n",
        "        self.data = data\n",
        "        self.MakeModel()\n",
        "        self.actual = self.TestStatistic(data)\n",
        "\n",
        "    def PValue(self, iters=1000):\n",
        "        self.test_stats = [self.TestStatistic(self.RunModel()) \n",
        "                           for _ in range(iters)]\n",
        "\n",
        "        count = sum(1 for x in self.test_stats if x >= self.actual)\n",
        "        return count / iters\n",
        "\n",
        "    def TestStatistic(self, data):\n",
        "        raise UnimplementedMethodException()\n",
        "\n",
        "    def MakeModel(self):\n",
        "        pass\n",
        "\n",
        "    def RunModel(self):\n",
        "        raise UnimplementedMethodException()"
      ],
      "execution_count": 14,
      "outputs": []
    },
    {
      "cell_type": "markdown",
      "metadata": {
        "id": "MIam5RhJwDoy",
        "colab_type": "text"
      },
      "source": [
        "And here's an example that uses it to compute the p-value of an experiment where we toss a coin 250 times and get 140 heads.\n",
        "\n",
        "\n",
        "Sample: \n",
        "         \n",
        "         Heads    Tails    Absolute difference         \n",
        "         140      110          30 \n",
        "Actual difference: self.actual = 30\n",
        "\n",
        "Model (Null Hypothesis): A fair coin has absolute difference of almost zero. \n",
        "\n",
        "Simulate 1000 times. Each time toss the coin 250 times and calculate the absolute difference \n",
        "\n",
        "      Heads    Tails    Absolute difference         \n",
        "         130      120          10 \n",
        "         127      123          4\n",
        "         145      105          40 -----> 40 = x >= self.actual = 30\n",
        "         135      115          20\n",
        "         ...      ...          ...\n",
        "         ...      ...          ...\n",
        "How many times (out of 1000 simulations) do we get absolute differences greater (more extreme) or equal to the sample absolute difference of 30?  \n",
        "\n",
        "It turns out 72 times out of 1000.         "
      ]
    },
    {
      "cell_type": "code",
      "metadata": {
        "id": "Bg7JmqJOvpJa",
        "colab_type": "code",
        "colab": {}
      },
      "source": [
        "class CoinTest(HypothesisTest):\n",
        "\n",
        "    def TestStatistic(self, data):\n",
        "        heads, tails = data\n",
        "        test_stat = abs(heads - tails)\n",
        "        return test_stat\n",
        "\n",
        "    def RunModel(self):\n",
        "        heads, tails = self.data\n",
        "        n = heads + tails\n",
        "        sample = [random.choice('HT') for _ in range(n)]\n",
        "        hist = thinkstats2.Hist(sample)\n",
        "        data = hist['H'], hist['T']\n",
        "        return data"
      ],
      "execution_count": 15,
      "outputs": []
    },
    {
      "cell_type": "markdown",
      "metadata": {
        "id": "2jAZ_Kenv8tm",
        "colab_type": "text"
      },
      "source": [
        "The p-value turns out to be about 7%, which is considered on the border of statistical significance."
      ]
    },
    {
      "cell_type": "code",
      "metadata": {
        "id": "YWPK4wy0v0lh",
        "colab_type": "code",
        "colab": {
          "base_uri": "https://localhost:8080/",
          "height": 34
        },
        "outputId": "52bcea2e-e622-4372-a0dc-1ff4b99d082a"
      },
      "source": [
        "ct = CoinTest((140, 110))\n",
        "pvalue = ct.PValue()\n",
        "pvalue"
      ],
      "execution_count": 16,
      "outputs": [
        {
          "output_type": "execute_result",
          "data": {
            "text/plain": [
              "0.072"
            ]
          },
          "metadata": {
            "tags": []
          },
          "execution_count": 16
        }
      ]
    },
    {
      "cell_type": "markdown",
      "metadata": {
        "id": "mzKZ8FB50QBr",
        "colab_type": "text"
      },
      "source": [
        "### Entropy (Physics)\n",
        "Entropy is often interpreted as the degree of disorder or randomness in the system.\n",
        "\n",
        "How many ways can I get 4 heads (\"order\") if I toss a fair coin 4 times?\n",
        " HHHH --> only one way. Probabilty = 1/16\n",
        "\n",
        "How many ways can I get 2 heads and 2 tails (\"disorder\", \"messy\") if I toss to a fair coin 4 times?\n",
        " HHTT, HTHT, TTHH, THTH, HTTH, THHT --> 6 ways. Probability = 6/16\n",
        "\n",
        " There are more ways to have \"disorder\" than \"order\". The increase of entropy in the universe is statistical,i.e., disorder is more probable than order. It explains the arrow of time (past, present, future). Why do we grow old but not get younger? Why do we remember the past but not the future?\n",
        "\n",
        " Life struggles against entropy to maintain existence but increases the overall entropy of the universe by consuming and wasting energy.\n",
        " \n",
        "\n",
        "\n",
        "\n",
        "\n",
        "<img src='https://image.slidesharecdn.com/time-pop-11-120918154634-phpapp02/95/the-origin-of-the-universe-and-the-arrow-of-time-20-728.jpg'>"
      ]
    },
    {
      "cell_type": "markdown",
      "metadata": {
        "id": "fLb0zebN7ogK",
        "colab_type": "text"
      },
      "source": [
        "Is the meaning of life to speed up the entropy (\"disorder\") of the universe?\n",
        "\n",
        "<img src='https://image.slidesharecdn.com/time-pop-11-120918154634-phpapp02/95/the-origin-of-the-universe-and-the-arrow-of-time-16-728.jpg?cb=1347984480'>"
      ]
    },
    {
      "cell_type": "markdown",
      "metadata": {
        "id": "MwHAbbdp3emG",
        "colab_type": "text"
      },
      "source": [
        "### Information Entropy\n",
        "The information content of an event E is defined as ${\\displaystyle I(E)=-\\log _{2}(p(E))}$ or ${\\displaystyle I(E)=\\log _{2}(1/p(E))}$ \n",
        "where $p(E)$ is the probability of the event. The more surprising an event is (low probability), the more info content."
      ]
    },
    {
      "cell_type": "markdown",
      "metadata": {
        "id": "-gQhkLy99y8w",
        "colab_type": "text"
      },
      "source": [
        "Claude Shannon (1916 – 2001), mathematician, electrical engineer, cryptographer\n",
        "\n",
        "<img src='https://i.ytimg.com/vi/z2Whj_nL-x8/hqdefault.jpg'>"
      ]
    },
    {
      "cell_type": "markdown",
      "metadata": {
        "id": "-OA7Y9cL9BF5",
        "colab_type": "text"
      },
      "source": [
        "John Wheeler (1911 – 2008) , theoretical physicist\n",
        "\n",
        "<img src='https://i.ytimg.com/vi/6qMi0K6hlYA/hqdefault.jpg'>"
      ]
    },
    {
      "cell_type": "code",
      "metadata": {
        "id": "FJTDCmYD3biB",
        "colab_type": "code",
        "colab": {
          "base_uri": "https://localhost:8080/",
          "height": 34
        },
        "outputId": "323c15e2-aeab-48a5-d6d8-1e90b3db1bcb"
      },
      "source": [
        "# Fair coin\n",
        "from math import log2\n",
        "p = 0.5\n",
        "# info content of heads is one bit\n",
        "I = -log2(p)\n",
        "I"
      ],
      "execution_count": 2,
      "outputs": [
        {
          "output_type": "execute_result",
          "data": {
            "text/plain": [
              "1.0"
            ]
          },
          "metadata": {
            "tags": []
          },
          "execution_count": 2
        }
      ]
    },
    {
      "cell_type": "markdown",
      "metadata": {
        "id": "loYOEwPuzXne",
        "colab_type": "text"
      },
      "source": [
        "Let Heads  = 1 and Tails = 0. Then each side can be represented by one bit.\n",
        "\n",
        "` 1 ` \n",
        "\n",
        "` 0 `\n",
        "\n",
        "\n",
        "\n",
        "\n"
      ]
    },
    {
      "cell_type": "code",
      "metadata": {
        "id": "mNu7Kb-e93-7",
        "colab_type": "code",
        "colab": {
          "base_uri": "https://localhost:8080/",
          "height": 34
        },
        "outputId": "624b90ed-2db0-4f0f-861f-ea0b44feadbe"
      },
      "source": [
        "# Fair die\n",
        "p = 1/6\n",
        "# info content of rolling 5 is 2.858 bits\n",
        "I = -log2(p)\n",
        "I"
      ],
      "execution_count": null,
      "outputs": [
        {
          "output_type": "execute_result",
          "data": {
            "text/plain": [
              "2.584962500721156"
            ]
          },
          "metadata": {
            "tags": []
          },
          "execution_count": 25
        }
      ]
    },
    {
      "cell_type": "markdown",
      "metadata": {
        "id": "w36kWb-U1Qsn",
        "colab_type": "text"
      },
      "source": [
        "\n",
        "Each side of the die can be represented by 3 bits:\n",
        "\n",
        "` 0 0 1  `   ----> 1     \n",
        "` 0 1 0  `   -----> 2  \n",
        "` 0 1 1  `   ------>3    \n",
        "` 1 0 0  `  ------>4    \n",
        "` 1 0 1  `    ---->5   \n",
        "` 1 1 0  `    ----->6\n",
        "\n",
        "  Shannon's formula says we can do better, in principle. Each side of the die can be represented by 2.58 bits. Obviously, we haven't used `000` and `111` in the 3 bit representation. "
      ]
    },
    {
      "cell_type": "markdown",
      "metadata": {
        "id": "g7iQnLrF-iFR",
        "colab_type": "text"
      },
      "source": [
        "Information theory defines the entropy $H$ of a random variable as the average info content of the variable's possible outcomes. \n",
        "$H(X)=E(I(X))=E(-\\log(P(X))$, \n",
        "where $\\operatorname {E}$ is the expected value or average of a variable.\n",
        "For a discrete random variable:\n",
        "${\\displaystyle \\mathrm {H} (X)=-\\sum _{i=1}^{n}{\\mathrm {P} (x_{i})\\log _{2}\\mathrm {P} (x_{i})}}$\n",
        "\n",
        "\n",
        "\n"
      ]
    },
    {
      "cell_type": "code",
      "metadata": {
        "id": "fXL_LlpgEpK3",
        "colab_type": "code",
        "colab": {
          "base_uri": "https://localhost:8080/",
          "height": 34
        },
        "outputId": "5bee9c30-27e6-4265-f4ad-812212d6af0f"
      },
      "source": [
        "# For a fair die\n",
        "p=1/6\n",
        "H = -sum([p * log2(p) for _ in range(6)])\n",
        "H"
      ],
      "execution_count": null,
      "outputs": [
        {
          "output_type": "execute_result",
          "data": {
            "text/plain": [
              "2.584962500721156"
            ]
          },
          "metadata": {
            "tags": []
          },
          "execution_count": 26
        }
      ]
    },
    {
      "cell_type": "code",
      "metadata": {
        "id": "V4NZu2q5gkOn",
        "colab_type": "code",
        "colab": {
          "base_uri": "https://localhost:8080/",
          "height": 34
        },
        "outputId": "bd3072e1-5043-4b25-dc6f-439b7250c943"
      },
      "source": [
        "# For a fair English alphabet\n",
        "p=1/26\n",
        "H = -sum([p * log2(p) for _ in range(26)])\n",
        "H"
      ],
      "execution_count": 3,
      "outputs": [
        {
          "output_type": "execute_result",
          "data": {
            "text/plain": [
              "4.70043971814109"
            ]
          },
          "metadata": {
            "tags": []
          },
          "execution_count": 3
        }
      ]
    },
    {
      "cell_type": "markdown",
      "metadata": {
        "id": "ZiqCE17vUquT",
        "colab_type": "text"
      },
      "source": [
        "### Intuition: \n",
        "The quantity of information is the number of bits required to send a random event from a probability distribution. It is also considered to measure \"Surprise\".  An event with high probability has less surprise, less entropy, less info, e.g., the Sun rose from the east this morning.\n",
        "An event with low probability surprises us; it has more info, more entropy, e.g., Breaking News: UMD decided to ban all homework. "
      ]
    },
    {
      "cell_type": "markdown",
      "metadata": {
        "id": "_7tZMEOSGepo",
        "colab_type": "text"
      },
      "source": [
        "### Using the library scipy.stats"
      ]
    },
    {
      "cell_type": "code",
      "metadata": {
        "id": "wTQqohs_B-_x",
        "colab_type": "code",
        "colab": {
          "base_uri": "https://localhost:8080/",
          "height": 34
        },
        "outputId": "120864a3-038d-4bf7-c8bd-9f45ba77f7f2"
      },
      "source": [
        "# Fair die\n",
        "\n",
        "from scipy.stats import entropy\n",
        "\n",
        "p = [1/6, 1/6, 1/6, 1/6, 1/6, 1/6]\n",
        "# Entropy\n",
        "H = entropy(p, base=2)\n",
        "H"
      ],
      "execution_count": 2,
      "outputs": [
        {
          "output_type": "execute_result",
          "data": {
            "text/plain": [
              "2.584962500721156"
            ]
          },
          "metadata": {
            "tags": []
          },
          "execution_count": 2
        }
      ]
    },
    {
      "cell_type": "markdown",
      "metadata": {
        "id": "fLHyHzHVITAB",
        "colab_type": "text"
      },
      "source": [
        "### Relative entropy or Kullback-Leibler divergence\n",
        "Average number of extra bits to represent an event from distribution q instead of distribution p."
      ]
    },
    {
      "cell_type": "code",
      "metadata": {
        "id": "tC4zeU3NIYHW",
        "colab_type": "code",
        "colab": {
          "base_uri": "https://localhost:8080/",
          "height": 51
        },
        "outputId": "516c55c1-4489-45bd-cc28-a3d103079875"
      },
      "source": [
        "print(entropy([1/2, 1/2], qk=[9/10, 1/10]))\n",
        "entropy([3/4, 1/4], qk=[1/2, 1/2], base=2)"
      ],
      "execution_count": 3,
      "outputs": [
        {
          "output_type": "stream",
          "text": [
            "0.5108256237659907\n"
          ],
          "name": "stdout"
        },
        {
          "output_type": "execute_result",
          "data": {
            "text/plain": [
              "0.18872187554086714"
            ]
          },
          "metadata": {
            "tags": []
          },
          "execution_count": 3
        }
      ]
    },
    {
      "cell_type": "markdown",
      "metadata": {
        "id": "gUxr3G-tc_S4",
        "colab_type": "text"
      },
      "source": [
        "### Cross-Entropy \n",
        "Average number of total bits to represent an event from distribution q instead of distribution P.\n",
        "\n",
        "It is used as a loss function in  Machine Learning, e.g., Logistic Regression"
      ]
    },
    {
      "cell_type": "code",
      "metadata": {
        "id": "n1_q7RAPdzTp",
        "colab_type": "code",
        "colab": {
          "base_uri": "https://localhost:8080/",
          "height": 34
        },
        "outputId": "d35336b6-ee63-4516-f829-a2b3003f9550"
      },
      "source": [
        "from math import log2\n",
        "\n",
        "def CrossEntropy(p, q):\n",
        "\treturn -sum([p[i]*log2(q[i]) for i in range(len(p))])\n",
        " \n",
        "p = [1/2, 1/2]\n",
        "q = [9/10, 1/10]\n",
        " \n",
        "CrossEntropy(p, q)"
      ],
      "execution_count": 6,
      "outputs": [
        {
          "output_type": "execute_result",
          "data": {
            "text/plain": [
              "1.736965594166206"
            ]
          },
          "metadata": {
            "tags": []
          },
          "execution_count": 6
        }
      ]
    },
    {
      "cell_type": "markdown",
      "metadata": {
        "id": "ZEk20ERIwLZT",
        "colab_type": "text"
      },
      "source": [
        "## Bootstrapping\n",
        "We have a sample data and want to infer about the parameter of a population.\n",
        "This method resamples the sample data many times to simulate the sampling distribution. Resampling means sampling from the sample data with replacement.\n",
        "\n",
        "Bootstrapping is a non-parametric method (no assumptions on distribution)"
      ]
    },
    {
      "cell_type": "markdown",
      "metadata": {
        "id": "ttHzsdbSYfQP",
        "colab_type": "text"
      },
      "source": [
        "\n",
        "Bradley Efron published \"Bootstrap methods: another look at the jackknife\" (1979).\n",
        "He received the International Prize in Statistics at the 2019 World Statistics Congress\n",
        "\n",
        "<img src='https://newsroom.taylorandfrancisgroup.com/wp-content/uploads/2018/11/stat-award.png'>"
      ]
    },
    {
      "cell_type": "code",
      "metadata": {
        "id": "RYfr8GF2zYth",
        "colab_type": "code",
        "colab": {
          "base_uri": "https://localhost:8080/",
          "height": 34
        },
        "outputId": "a5669f19-470f-49ec-e67e-fce0983c9b43"
      },
      "source": [
        "original_sample = np.random.random(100) # The sample is generated from uniform distribution \n",
        "original_sample.mean()"
      ],
      "execution_count": null,
      "outputs": [
        {
          "output_type": "execute_result",
          "data": {
            "text/plain": [
              "0.45936044087459793"
            ]
          },
          "metadata": {
            "tags": []
          },
          "execution_count": 49
        }
      ]
    },
    {
      "cell_type": "code",
      "metadata": {
        "id": "hLOeMoy94D7-",
        "colab_type": "code",
        "colab": {
          "base_uri": "https://localhost:8080/",
          "height": 34
        },
        "outputId": "dd428e2a-37dc-4f1a-b632-e47b243f3d65"
      },
      "source": [
        "means_boot_samples = []\n",
        "for i in range(1000):\n",
        "                boot_sample = np.random.choice(original_sample, 100)\n",
        "                means_boot_samples.append(boot_sample.mean())\n",
        "        \n",
        "np.mean(means_boot_samples)\n",
        "\n",
        "\n"
      ],
      "execution_count": null,
      "outputs": [
        {
          "output_type": "execute_result",
          "data": {
            "text/plain": [
              "0.45974387611972783"
            ]
          },
          "metadata": {
            "tags": []
          },
          "execution_count": 51
        }
      ]
    },
    {
      "cell_type": "code",
      "metadata": {
        "id": "J-VLQH7R4QH9",
        "colab_type": "code",
        "colab": {
          "base_uri": "https://localhost:8080/",
          "height": 34
        },
        "outputId": "5ec17f53-8094-471c-92a9-bd91b2008d0c"
      },
      "source": [
        "conf_int = np.percentile(means_boot_samples, [2.5, 97.5]) # The middle 95% interval\n",
        "conf_int\n",
        "\n"
      ],
      "execution_count": null,
      "outputs": [
        {
          "output_type": "execute_result",
          "data": {
            "text/plain": [
              "array([0.40553607, 0.51856512])"
            ]
          },
          "metadata": {
            "tags": []
          },
          "execution_count": 52
        }
      ]
    },
    {
      "cell_type": "code",
      "metadata": {
        "id": "dRhciAi04SUr",
        "colab_type": "code",
        "colab": {
          "base_uri": "https://localhost:8080/",
          "height": 319
        },
        "outputId": "5bcb1876-0301-4181-fe96-3bc96580f18c"
      },
      "source": [
        "import seaborn as sns\n",
        "sns.kdeplot(means_boot_samples)\n",
        "for endpoint in conf_int:\n",
        "    plt.axvline(endpoint, color='red')\n",
        "\n"
      ],
      "execution_count": null,
      "outputs": [
        {
          "output_type": "stream",
          "text": [
            "/usr/local/lib/python3.6/dist-packages/statsmodels/tools/_testing.py:19: FutureWarning: pandas.util.testing is deprecated. Use the functions in the public API at pandas.testing instead.\n",
            "  import pandas.util.testing as tm\n"
          ],
          "name": "stderr"
        },
        {
          "output_type": "display_data",
          "data": {
            "image/png": "[encoded data removed]",
            "text/plain": [
              "<Figure size 432x288 with 1 Axes>"
            ]
          },
          "metadata": {
            "tags": [],
            "needs_background": "light"
          }
        }
      ]
    },
    {
      "cell_type": "code",
      "metadata": {
        "id": "kXH5ZVrj4WRg",
        "colab_type": "code",
        "colab": {
          "base_uri": "https://localhost:8080/",
          "height": 34
        },
        "outputId": "ded4d97a-4934-4208-e28a-038744534dce"
      },
      "source": [
        "from sklearn.utils import resample\n",
        "means_boot_samples = []\n",
        "for i in range(1000):\n",
        "                boot_sample = resample(original_sample) # does bootstrap; replace = True\n",
        "                means_boot_samples.append(boot_sample.mean())\n",
        "        \n",
        "np.mean(means_boot_samples)"
      ],
      "execution_count": null,
      "outputs": [
        {
          "output_type": "execute_result",
          "data": {
            "text/plain": [
              "0.46004661559944227"
            ]
          },
          "metadata": {
            "tags": []
          },
          "execution_count": 56
        }
      ]
    }
  ]
}