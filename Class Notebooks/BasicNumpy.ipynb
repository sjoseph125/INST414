{
 "cells": [
  {
   "cell_type": "code",
   "execution_count": 1,
   "metadata": {
    "colab": {
     "base_uri": "https://localhost:8080/",
     "height": 37
    },
    "colab_type": "code",
    "id": "Nojv5Dn97kIR",
    "outputId": "c2119c1c-8376-4fc6-ddfa-4779f3ccb8b4"
   },
   "outputs": [
    {
     "data": {
      "application/vnd.google.colaboratory.intrinsic+json": {
       "type": "string"
      },
      "text/plain": [
       "'1.18.5'"
      ]
     },
     "execution_count": 1,
     "metadata": {
      "tags": []
     },
     "output_type": "execute_result"
    }
   ],
   "source": [
    "import numpy\n",
    "numpy.__version__"
   ]
  },
  {
   "cell_type": "code",
   "execution_count": 3,
   "metadata": {
    "colab": {},
    "colab_type": "code",
    "id": "eBL3iL-C7kIb"
   },
   "outputs": [],
   "source": [
    "import numpy as np"
   ]
  },
  {
   "cell_type": "markdown",
   "metadata": {
    "colab_type": "text",
    "id": "5NhIU06P7kIi"
   },
   "source": [
    "NumPy arrays contain values of a single type."
   ]
  },
  {
   "cell_type": "markdown",
   "metadata": {
    "colab_type": "text",
    "id": "wDd7Cxp37kIj"
   },
   "source": [
    "### Arrays\n",
    "The Numpy array is fixed-type data container."
   ]
  },
  {
   "cell_type": "code",
   "execution_count": 3,
   "metadata": {
    "colab": {
     "base_uri": "https://localhost:8080/",
     "height": 395
    },
    "colab_type": "code",
    "id": "NuA168GcPXyH",
    "outputId": "8fca6f23-ecd8-44ff-9951-08b982c2f81d"
   },
   "outputs": [
    {
     "data": {
      "text/html": [
       "<img src=\"https://raw.githubusercontent.com/adhiraiyan/DeepLearningWithTF2.0/master/notebooks/figures/fig0201a.png\"/>"
      ],
      "text/plain": [
       "<IPython.core.display.Image object>"
      ]
     },
     "metadata": {
      "tags": []
     },
     "output_type": "display_data"
    }
   ],
   "source": [
    "from IPython.display import display, Image\n",
    "i = Image(url = 'https://raw.githubusercontent.com/adhiraiyan/DeepLearningWithTF2.0/master/notebooks/figures/fig0201a.png')\n",
    "display(i)"
   ]
  },
  {
   "cell_type": "code",
   "execution_count": 3,
   "metadata": {
    "colab": {
     "base_uri": "https://localhost:8080/",
     "height": 34
    },
    "colab_type": "code",
    "id": "279REFar7kIk",
    "outputId": "360086e5-22a9-43e3-9b94-fd42672891de"
   },
   "outputs": [
    {
     "data": {
      "text/plain": [
       "array([9, 7, 8, 5])"
      ]
     },
     "execution_count": 3,
     "metadata": {
      "tags": []
     },
     "output_type": "execute_result"
    }
   ],
   "source": [
    "# Arrays can be created from lists\n",
    "np.array([9, 7, 8, 5])"
   ]
  },
  {
   "cell_type": "code",
   "execution_count": 4,
   "metadata": {
    "colab": {
     "base_uri": "https://localhost:8080/",
     "height": 34
    },
    "colab_type": "code",
    "id": "AjfUyG9c7kIp",
    "outputId": "d6c77420-aad6-4651-d168-ae601c5c75e4"
   },
   "outputs": [
    {
     "data": {
      "text/plain": [
       "array([1.  , 7.89, 5.  ])"
      ]
     },
     "execution_count": 4,
     "metadata": {
      "tags": []
     },
     "output_type": "execute_result"
    }
   ],
   "source": [
    "# If there are different types in the list, Numpy upcasts\n",
    "np.array([1, 7.89, 5])"
   ]
  },
  {
   "cell_type": "code",
   "execution_count": 5,
   "metadata": {
    "colab": {
     "base_uri": "https://localhost:8080/",
     "height": 34
    },
    "colab_type": "code",
    "id": "LWD3NPFU7kIt",
    "outputId": "1fd0135d-05ef-4cc3-9513-a4ff6d31ea0e"
   },
   "outputs": [
    {
     "data": {
      "text/plain": [
       "array([9., 7., 8., 5.])"
      ]
     },
     "execution_count": 5,
     "metadata": {
      "tags": []
     },
     "output_type": "execute_result"
    }
   ],
   "source": [
    "# setting the data type explicitly\n",
    "np.array([9,7,8,5], dtype='float64')"
   ]
  },
  {
   "cell_type": "code",
   "execution_count": 6,
   "metadata": {
    "colab": {
     "base_uri": "https://localhost:8080/",
     "height": 34
    },
    "colab_type": "code",
    "id": "loG_tK217kIx",
    "outputId": "19c4ff64-4bbb-4eea-c725-eb4a03c4eef9"
   },
   "outputs": [
    {
     "data": {
      "text/plain": [
       "array([1., 1., 1., 1., 1.])"
      ]
     },
     "execution_count": 6,
     "metadata": {
      "tags": []
     },
     "output_type": "execute_result"
    }
   ],
   "source": [
    "# one-dimensional array containing only ones\n",
    "np.ones(5)"
   ]
  },
  {
   "cell_type": "code",
   "execution_count": 7,
   "metadata": {
    "colab": {
     "base_uri": "https://localhost:8080/",
     "height": 51
    },
    "colab_type": "code",
    "id": "eHuvtxg_7kI4",
    "outputId": "4b524827-d9ed-4eb6-e7f7-5600fddb45da"
   },
   "outputs": [
    {
     "data": {
      "text/plain": [
       "array([[0., 0., 0.],\n",
       "       [0., 0., 0.]])"
      ]
     },
     "execution_count": 7,
     "metadata": {
      "tags": []
     },
     "output_type": "execute_result"
    }
   ],
   "source": [
    "# Two-dimensional array containing only zeros\n",
    "np.zeros((2, 3), dtype=float)"
   ]
  },
  {
   "cell_type": "code",
   "execution_count": 8,
   "metadata": {
    "colab": {
     "base_uri": "https://localhost:8080/",
     "height": 51
    },
    "colab_type": "code",
    "id": "C3VtCDd67kI9",
    "outputId": "18d64249-d4d3-44ff-92d3-c1f7b00b15bf"
   },
   "outputs": [
    {
     "data": {
      "text/plain": [
       "array([[7.89, 7.89, 7.89],\n",
       "       [7.89, 7.89, 7.89]])"
      ]
     },
     "execution_count": 8,
     "metadata": {
      "tags": []
     },
     "output_type": "execute_result"
    }
   ],
   "source": [
    "# Fill a two-dimensional array with a specific number\n",
    "np.full((2, 3), 7.89)"
   ]
  },
  {
   "cell_type": "code",
   "execution_count": 9,
   "metadata": {
    "colab": {
     "base_uri": "https://localhost:8080/",
     "height": 34
    },
    "colab_type": "code",
    "id": "0Ms7WkCG7kJB",
    "outputId": "c283e9d7-1d44-4dc6-f724-6dc8147b515f"
   },
   "outputs": [
    {
     "data": {
      "text/plain": [
       "array([0, 3, 6, 9])"
      ]
     },
     "execution_count": 9,
     "metadata": {
      "tags": []
     },
     "output_type": "execute_result"
    }
   ],
   "source": [
    "# A sequence starting from 0 to 12 with increment of 3\n",
    "np.arange(0, 12, 3)"
   ]
  },
  {
   "cell_type": "code",
   "execution_count": 10,
   "metadata": {
    "colab": {
     "base_uri": "https://localhost:8080/",
     "height": 34
    },
    "colab_type": "code",
    "id": "frHTBlR17kJF",
    "outputId": "961cb327-f495-446d-8456-85f53dbf0325"
   },
   "outputs": [
    {
     "data": {
      "text/plain": [
       "array([0. , 0.2, 0.4, 0.6, 0.8, 1. ])"
      ]
     },
     "execution_count": 10,
     "metadata": {
      "tags": []
     },
     "output_type": "execute_result"
    }
   ],
   "source": [
    "# Equally spaced values of 6 numbers between 0 and 1\n",
    "np.linspace(0, 1, 6) # (b-a) / (n-1) = (1-0) / (6-1) = 0.2"
   ]
  },
  {
   "cell_type": "code",
   "execution_count": 11,
   "metadata": {
    "colab": {
     "base_uri": "https://localhost:8080/",
     "height": 51
    },
    "colab_type": "code",
    "id": "4BAqOM4G7kJJ",
    "outputId": "3fb7e7c8-345f-433b-aae7-8940202011c1"
   },
   "outputs": [
    {
     "data": {
      "text/plain": [
       "array([[0.37322514, 0.15916974, 0.84114763],\n",
       "       [0.05664326, 0.78105842, 0.56467042]])"
      ]
     },
     "execution_count": 11,
     "metadata": {
      "tags": []
     },
     "output_type": "execute_result"
    }
   ],
   "source": [
    "# Two-dimensional array of random numbers from a uniform distribution on [0,1]\n",
    "np.random.random((2, 3))  # R runif()"
   ]
  },
  {
   "cell_type": "code",
   "execution_count": 12,
   "metadata": {
    "colab": {
     "base_uri": "https://localhost:8080/",
     "height": 51
    },
    "colab_type": "code",
    "id": "hD726Q_x7kJM",
    "outputId": "4838d87d-d431-46d8-91ba-65f55c7b3586"
   },
   "outputs": [
    {
     "data": {
      "text/plain": [
       "array([[ 0.06471908, -0.45623021,  0.50578749],\n",
       "       [-0.24896054, -0.5787993 , -0.5531046 ]])"
      ]
     },
     "execution_count": 12,
     "metadata": {
      "tags": []
     },
     "output_type": "execute_result"
    }
   ],
   "source": [
    "# Two-dimensional array of random numbers from  a normal distribution with mean=0 and standard deviation = 1\n",
    "np.random.normal(0, 1, (2, 3))"
   ]
  },
  {
   "cell_type": "code",
   "execution_count": 13,
   "metadata": {
    "colab": {
     "base_uri": "https://localhost:8080/",
     "height": 51
    },
    "colab_type": "code",
    "id": "q6wCflc17kJT",
    "outputId": "93645578-539d-4871-c93d-1a4c222c9571"
   },
   "outputs": [
    {
     "data": {
      "text/plain": [
       "array([[ 7,  5, 13],\n",
       "       [ 4, 17,  7]])"
      ]
     },
     "execution_count": 13,
     "metadata": {
      "tags": []
     },
     "output_type": "execute_result"
    }
   ],
   "source": [
    "# Two-dimensional array of random integers in the interval [0, 20)\n",
    "np.random.randint(0, 20, (2, 3))"
   ]
  },
  {
   "cell_type": "code",
   "execution_count": 14,
   "metadata": {
    "colab": {
     "base_uri": "https://localhost:8080/",
     "height": 85
    },
    "colab_type": "code",
    "id": "TY2wYhH57kJY",
    "outputId": "522cf3df-bb65-4f85-e03a-5be6d32bda0a"
   },
   "outputs": [
    {
     "data": {
      "text/plain": [
       "array([[1., 0., 0., 0.],\n",
       "       [0., 1., 0., 0.],\n",
       "       [0., 0., 1., 0.],\n",
       "       [0., 0., 0., 1.]])"
      ]
     },
     "execution_count": 14,
     "metadata": {
      "tags": []
     },
     "output_type": "execute_result"
    }
   ],
   "source": [
    "# The 4x4 identity matrix \n",
    "np.eye(4)  # eye means I, i.e, Identity. Matrix A multiplied by I -> np.matmul(A,I) = A"
   ]
  },
  {
   "cell_type": "code",
   "execution_count": 15,
   "metadata": {
    "colab": {
     "base_uri": "https://localhost:8080/",
     "height": 85
    },
    "colab_type": "code",
    "id": "8lrowFk_7kJb",
    "outputId": "79f40c78-d47c-49f8-d402-7a9cb97bc187"
   },
   "outputs": [
    {
     "data": {
      "text/plain": [
       "array([[1., 1., 1., 1.],\n",
       "       [1., 1., 1., 1.],\n",
       "       [1., 1., 1., 1.],\n",
       "       [1., 1., 1., 1.]])"
      ]
     },
     "execution_count": 15,
     "metadata": {
      "tags": []
     },
     "output_type": "execute_result"
    }
   ],
   "source": [
    "np.ones((4,4))"
   ]
  },
  {
   "cell_type": "markdown",
   "metadata": {
    "colab_type": "text",
    "id": "0naq9a_x7kJf"
   },
   "source": [
    "### Array attributes"
   ]
  },
  {
   "cell_type": "code",
   "execution_count": 16,
   "metadata": {
    "colab": {
     "base_uri": "https://localhost:8080/",
     "height": 34
    },
    "colab_type": "code",
    "id": "R1zBmHzw7kJg",
    "outputId": "5350b2f9-e018-4e31-bf36-8cbb85f8123a"
   },
   "outputs": [
    {
     "data": {
      "text/plain": [
       "array([5, 0, 3, 3, 7])"
      ]
     },
     "execution_count": 16,
     "metadata": {
      "tags": []
     },
     "output_type": "execute_result"
    }
   ],
   "source": [
    " # Reproducibility\n",
    "np.random.seed(0) \n",
    "a1 = np.random.randint(10, size=5) \n",
    "a1"
   ]
  },
  {
   "cell_type": "code",
   "execution_count": 5,
   "metadata": {
    "colab": {
     "base_uri": "https://localhost:8080/",
     "height": 34
    },
    "colab_type": "code",
    "id": "5yuvvkYc7kJi",
    "outputId": "35a14511-ba67-4f74-f9c4-edccd08c413c"
   },
   "outputs": [
    {
     "data": {
      "text/plain": [
       "array([5, 0, 3, 3, 7])"
      ]
     },
     "execution_count": 5,
     "metadata": {},
     "output_type": "execute_result"
    }
   ],
   "source": [
    "np.random.seed(0)\n",
    "a2 = np.random.randint(0, 10, 5)\n",
    "a2"
   ]
  },
  {
   "cell_type": "code",
   "execution_count": 18,
   "metadata": {
    "colab": {
     "base_uri": "https://localhost:8080/",
     "height": 153
    },
    "colab_type": "code",
    "id": "q7avc0xH7kJl",
    "outputId": "a48274da-79fd-41a9-8a79-de18e560443c"
   },
   "outputs": [
    {
     "data": {
      "text/plain": [
       "array([[[9, 3, 5, 2, 4],\n",
       "        [7, 6, 8, 8, 1]],\n",
       "\n",
       "       [[6, 7, 7, 8, 1],\n",
       "        [5, 9, 8, 9, 4]],\n",
       "\n",
       "       [[3, 0, 3, 5, 0],\n",
       "        [2, 3, 8, 1, 3]]])"
      ]
     },
     "execution_count": 18,
     "metadata": {
      "tags": []
     },
     "output_type": "execute_result"
    }
   ],
   "source": [
    "# A three-dimensional array ----> Tensor\n",
    "a3 = np.random.randint(10, size=(3, 2, 5))\n",
    "a3\n"
   ]
  },
  {
   "cell_type": "code",
   "execution_count": 19,
   "metadata": {
    "colab": {
     "base_uri": "https://localhost:8080/",
     "height": 214
    },
    "colab_type": "code",
    "id": "LLXjowfR7LYc",
    "outputId": "0ecb1df6-f398-4e89-b39f-a17cca233df1"
   },
   "outputs": [
    {
     "data": {
      "text/html": [
       "<img src=\"https://www.tensorflow.org/guide/images/tensor/3-axis_front.png\"/>"
      ],
      "text/plain": [
       "<IPython.core.display.Image object>"
      ]
     },
     "metadata": {
      "tags": []
     },
     "output_type": "display_data"
    }
   ],
   "source": [
    "i = Image(url = 'https://www.tensorflow.org/guide/images/tensor/3-axis_front.png')\n",
    "display(i)"
   ]
  },
  {
   "cell_type": "code",
   "execution_count": 20,
   "metadata": {
    "colab": {
     "base_uri": "https://localhost:8080/",
     "height": 68
    },
    "colab_type": "code",
    "id": "6roKSRVk7kJr",
    "outputId": "7f826abc-ec97-42c2-acb5-a144cc86ff21"
   },
   "outputs": [
    {
     "name": "stdout",
     "output_type": "stream",
     "text": [
      "a3 ndim:  3\n",
      "a3 shape: (3, 2, 5)\n",
      "a3 size:  30\n"
     ]
    }
   ],
   "source": [
    "# The attributes of the 3-dim array a3\n",
    "print(\"a3 ndim: \", a3.ndim)\n",
    "print(\"a3 shape:\", a3.shape)\n",
    "print(\"a3 size: \", a3.size)"
   ]
  },
  {
   "cell_type": "code",
   "execution_count": 21,
   "metadata": {
    "colab": {
     "base_uri": "https://localhost:8080/",
     "height": 34
    },
    "colab_type": "code",
    "id": "-Fgapqi27kJu",
    "outputId": "00d91f22-4f3d-40bd-ce4b-55e9dd628306"
   },
   "outputs": [
    {
     "data": {
      "text/plain": [
       "dtype('int64')"
      ]
     },
     "execution_count": 21,
     "metadata": {
      "tags": []
     },
     "output_type": "execute_result"
    }
   ],
   "source": [
    "# The dat type of the content\n",
    "a3.dtype"
   ]
  },
  {
   "cell_type": "code",
   "execution_count": 22,
   "metadata": {
    "colab": {
     "base_uri": "https://localhost:8080/",
     "height": 51
    },
    "colab_type": "code",
    "id": "vRzzIgrL7kJx",
    "outputId": "10585988-1100-4386-93cb-cd01bda4658e"
   },
   "outputs": [
    {
     "name": "stdout",
     "output_type": "stream",
     "text": [
      "itemsize: 8 bytes\n",
      "totalbytes: 240 bytes\n"
     ]
    }
   ],
   "source": [
    "# The bytes of each item(element) and the total bytes of the array\n",
    "print(\"itemsize:\", a3.itemsize, \"bytes\")\n",
    "print(\"totalbytes:\", a3.nbytes, \"bytes\")"
   ]
  },
  {
   "cell_type": "markdown",
   "metadata": {
    "colab_type": "text",
    "id": "WCtIa1GK7kJ0"
   },
   "source": [
    "### Indices of arrays"
   ]
  },
  {
   "cell_type": "code",
   "execution_count": 23,
   "metadata": {
    "colab": {
     "base_uri": "https://localhost:8080/",
     "height": 34
    },
    "colab_type": "code",
    "id": "8Upkk8th7kJ1",
    "outputId": "825b5696-a7d7-479b-9f7f-f3ea7db22aa1"
   },
   "outputs": [
    {
     "data": {
      "text/plain": [
       "array([5, 0, 3, 3, 7])"
      ]
     },
     "execution_count": 23,
     "metadata": {
      "tags": []
     },
     "output_type": "execute_result"
    }
   ],
   "source": [
    "# Similar to indices of lists. counting starts from zero\n",
    "a1\n",
    "\n"
   ]
  },
  {
   "cell_type": "code",
   "execution_count": 24,
   "metadata": {
    "colab": {
     "base_uri": "https://localhost:8080/",
     "height": 34
    },
    "colab_type": "code",
    "id": "K5tfM-wU7kJ3",
    "outputId": "6e870415-4968-4a3b-ca5a-d1beb6519847"
   },
   "outputs": [
    {
     "data": {
      "text/plain": [
       "5"
      ]
     },
     "execution_count": 24,
     "metadata": {
      "tags": []
     },
     "output_type": "execute_result"
    }
   ],
   "source": [
    "a1[0]"
   ]
  },
  {
   "cell_type": "code",
   "execution_count": 25,
   "metadata": {
    "colab": {
     "base_uri": "https://localhost:8080/",
     "height": 34
    },
    "colab_type": "code",
    "id": "hjKaQxz07kJ5",
    "outputId": "f0fc06e1-afe9-4143-9035-6020b4f43c2c"
   },
   "outputs": [
    {
     "data": {
      "text/plain": [
       "7"
      ]
     },
     "execution_count": 25,
     "metadata": {
      "tags": []
     },
     "output_type": "execute_result"
    }
   ],
   "source": [
    "a1[4]"
   ]
  },
  {
   "cell_type": "code",
   "execution_count": 26,
   "metadata": {
    "colab": {
     "base_uri": "https://localhost:8080/",
     "height": 34
    },
    "colab_type": "code",
    "id": "Me8ire477kJ7",
    "outputId": "974bd41d-96b3-43c5-c496-e52dd87c590c"
   },
   "outputs": [
    {
     "data": {
      "text/plain": [
       "7"
      ]
     },
     "execution_count": 26,
     "metadata": {
      "tags": []
     },
     "output_type": "execute_result"
    }
   ],
   "source": [
    "a1[-1]"
   ]
  },
  {
   "cell_type": "code",
   "execution_count": 27,
   "metadata": {
    "colab": {
     "base_uri": "https://localhost:8080/",
     "height": 51
    },
    "colab_type": "code",
    "id": "unTsw1k57kJ-",
    "outputId": "8beda443-5dc3-4add-e243-f85436e12b7b"
   },
   "outputs": [
    {
     "data": {
      "text/plain": [
       "array([[3, 3, 7],\n",
       "       [0, 1, 9]])"
      ]
     },
     "execution_count": 27,
     "metadata": {
      "tags": []
     },
     "output_type": "execute_result"
    }
   ],
   "source": [
    "# Indices of a two-dimensional array\n",
    "a2 = np.random.randint(10, size=(2, 3))  \n",
    "a2"
   ]
  },
  {
   "cell_type": "code",
   "execution_count": 28,
   "metadata": {
    "colab": {
     "base_uri": "https://localhost:8080/",
     "height": 34
    },
    "colab_type": "code",
    "id": "v1eVfLtX7kKB",
    "outputId": "0009e6e8-5405-4fea-ee39-363d14d6ac3b"
   },
   "outputs": [
    {
     "data": {
      "text/plain": [
       "3"
      ]
     },
     "execution_count": 28,
     "metadata": {
      "tags": []
     },
     "output_type": "execute_result"
    }
   ],
   "source": [
    "a2[0,0]"
   ]
  },
  {
   "cell_type": "code",
   "execution_count": 29,
   "metadata": {
    "colab": {
     "base_uri": "https://localhost:8080/",
     "height": 34
    },
    "colab_type": "code",
    "id": "mDAKnPOv7kKD",
    "outputId": "c79478a1-0bdb-47be-bcfa-e6d6d5eb9986"
   },
   "outputs": [
    {
     "data": {
      "text/plain": [
       "9"
      ]
     },
     "execution_count": 29,
     "metadata": {
      "tags": []
     },
     "output_type": "execute_result"
    }
   ],
   "source": [
    "a2[1,2]"
   ]
  },
  {
   "cell_type": "code",
   "execution_count": 30,
   "metadata": {
    "colab": {
     "base_uri": "https://localhost:8080/",
     "height": 34
    },
    "colab_type": "code",
    "id": "TMesITjE7kKF",
    "outputId": "5d8be8a8-3d7f-4da9-b96f-d8fe5ed33318"
   },
   "outputs": [
    {
     "data": {
      "text/plain": [
       "9"
      ]
     },
     "execution_count": 30,
     "metadata": {
      "tags": []
     },
     "output_type": "execute_result"
    }
   ],
   "source": [
    "a2[-1,-1]"
   ]
  },
  {
   "cell_type": "code",
   "execution_count": 31,
   "metadata": {
    "colab": {
     "base_uri": "https://localhost:8080/",
     "height": 51
    },
    "colab_type": "code",
    "id": "jeqncbto7kKH",
    "outputId": "d56b8264-0773-4da7-8911-6009403a341e"
   },
   "outputs": [
    {
     "data": {
      "text/plain": [
       "array([[  3,   3,   7],\n",
       "       [  0,   1, 100]])"
      ]
     },
     "execution_count": 31,
     "metadata": {
      "tags": []
     },
     "output_type": "execute_result"
    }
   ],
   "source": [
    "# Assign values. Note that a different type will be converted since arrays are fixed-type\n",
    "a2[1,2] = 100.89\n",
    "a2"
   ]
  },
  {
   "cell_type": "markdown",
   "metadata": {
    "colab_type": "text",
    "id": "DKH-Qhhn7kKJ"
   },
   "source": [
    "### Slicing arrays"
   ]
  },
  {
   "cell_type": "code",
   "execution_count": 32,
   "metadata": {
    "colab": {
     "base_uri": "https://localhost:8080/",
     "height": 34
    },
    "colab_type": "code",
    "id": "msDPx_Jb7kKK",
    "outputId": "f834c0dd-7c36-4fe2-f4e9-fd78b5c5005c"
   },
   "outputs": [
    {
     "data": {
      "text/plain": [
       "array([0, 1, 2, 3, 4, 5, 6, 7])"
      ]
     },
     "execution_count": 32,
     "metadata": {
      "tags": []
     },
     "output_type": "execute_result"
    }
   ],
   "source": [
    "# slice of a is a[start:stop:step]\n",
    "#default start=0, stop=size of dimension, step=1.\n",
    "\n",
    "a = np.arange(8)\n",
    "a"
   ]
  },
  {
   "cell_type": "code",
   "execution_count": 33,
   "metadata": {
    "colab": {
     "base_uri": "https://localhost:8080/",
     "height": 34
    },
    "colab_type": "code",
    "id": "sSI4sKq67kKM",
    "outputId": "c024d05d-1cc5-422f-8321-4e9331e34091"
   },
   "outputs": [
    {
     "data": {
      "text/plain": [
       "array([0, 1])"
      ]
     },
     "execution_count": 33,
     "metadata": {
      "tags": []
     },
     "output_type": "execute_result"
    }
   ],
   "source": [
    "a[:2]"
   ]
  },
  {
   "cell_type": "code",
   "execution_count": 34,
   "metadata": {
    "colab": {
     "base_uri": "https://localhost:8080/",
     "height": 34
    },
    "colab_type": "code",
    "id": "C3Xh4YoL7kKN",
    "outputId": "94b3cd0e-35ab-47df-f3cf-fc61325e6f25"
   },
   "outputs": [
    {
     "data": {
      "text/plain": [
       "array([2, 3, 4, 5, 6, 7])"
      ]
     },
     "execution_count": 34,
     "metadata": {
      "tags": []
     },
     "output_type": "execute_result"
    }
   ],
   "source": [
    "a[2:]"
   ]
  },
  {
   "cell_type": "code",
   "execution_count": 35,
   "metadata": {
    "colab": {
     "base_uri": "https://localhost:8080/",
     "height": 34
    },
    "colab_type": "code",
    "id": "WEdGGAkb7kKQ",
    "outputId": "68409f34-d05a-495f-fdcf-e0180487ab12"
   },
   "outputs": [
    {
     "data": {
      "text/plain": [
       "array([1, 2, 3])"
      ]
     },
     "execution_count": 35,
     "metadata": {
      "tags": []
     },
     "output_type": "execute_result"
    }
   ],
   "source": [
    "a[1:4]"
   ]
  },
  {
   "cell_type": "code",
   "execution_count": 36,
   "metadata": {
    "colab": {
     "base_uri": "https://localhost:8080/",
     "height": 34
    },
    "colab_type": "code",
    "id": "BVcLQfeG7kKS",
    "outputId": "f0645ab6-9b7a-4a1a-d8c5-12de2084fc9b"
   },
   "outputs": [
    {
     "data": {
      "text/plain": [
       "array([0, 3, 6])"
      ]
     },
     "execution_count": 36,
     "metadata": {
      "tags": []
     },
     "output_type": "execute_result"
    }
   ],
   "source": [
    "a[::3] # takes step size of 3"
   ]
  },
  {
   "cell_type": "code",
   "execution_count": 37,
   "metadata": {
    "colab": {
     "base_uri": "https://localhost:8080/",
     "height": 34
    },
    "colab_type": "code",
    "id": "bXdncPxC7kKU",
    "outputId": "61fc350d-159d-43fa-be05-4fc4301149d3"
   },
   "outputs": [
    {
     "data": {
      "text/plain": [
       "array([2, 5])"
      ]
     },
     "execution_count": 37,
     "metadata": {
      "tags": []
     },
     "output_type": "execute_result"
    }
   ],
   "source": [
    "a[2::3] # takes step size of 3 starting at 2"
   ]
  },
  {
   "cell_type": "code",
   "execution_count": 38,
   "metadata": {
    "colab": {
     "base_uri": "https://localhost:8080/",
     "height": 34
    },
    "colab_type": "code",
    "id": "759d8Jwq7kKW",
    "outputId": "dbd6483c-f15d-4bad-f5a8-c369de209df3"
   },
   "outputs": [
    {
     "data": {
      "text/plain": [
       "array([7, 6, 5, 4, 3, 2, 1, 0])"
      ]
     },
     "execution_count": 38,
     "metadata": {
      "tags": []
     },
     "output_type": "execute_result"
    }
   ],
   "source": [
    "# negative step value means exchanging start and stop\n",
    "a[::-1]"
   ]
  },
  {
   "cell_type": "code",
   "execution_count": 39,
   "metadata": {
    "colab": {
     "base_uri": "https://localhost:8080/",
     "height": 34
    },
    "colab_type": "code",
    "id": "QS1MMg-t7kKY",
    "outputId": "c2cf1f55-2a9e-45c2-f227-5a2cc864d1fd"
   },
   "outputs": [
    {
     "data": {
      "text/plain": [
       "array([6, 4, 2, 0])"
      ]
     },
     "execution_count": 39,
     "metadata": {
      "tags": []
     },
     "output_type": "execute_result"
    }
   ],
   "source": [
    "a[6::-2]"
   ]
  },
  {
   "cell_type": "code",
   "execution_count": 40,
   "metadata": {
    "colab": {
     "base_uri": "https://localhost:8080/",
     "height": 85
    },
    "colab_type": "code",
    "id": "Qec0qcXl7kKa",
    "outputId": "ef982ba0-80b5-4b38-8e14-2f2599437943"
   },
   "outputs": [
    {
     "data": {
      "text/plain": [
       "array([[9, 0, 4, 7, 3],\n",
       "       [2, 7, 2, 0, 0],\n",
       "       [4, 5, 5, 6, 8],\n",
       "       [4, 1, 4, 9, 8]])"
      ]
     },
     "execution_count": 40,
     "metadata": {
      "tags": []
     },
     "output_type": "execute_result"
    }
   ],
   "source": [
    "# 2-dim array\n",
    "b = np.random.randint(0, 10, (4, 5))\n",
    "b"
   ]
  },
  {
   "cell_type": "code",
   "execution_count": 41,
   "metadata": {
    "colab": {
     "base_uri": "https://localhost:8080/",
     "height": 51
    },
    "colab_type": "code",
    "id": "IgCst7Qk7kKb",
    "outputId": "d756d707-9fe9-4597-f0c6-cdd9071759d3"
   },
   "outputs": [
    {
     "data": {
      "text/plain": [
       "array([[9, 0, 4],\n",
       "       [2, 7, 2]])"
      ]
     },
     "execution_count": 41,
     "metadata": {
      "tags": []
     },
     "output_type": "execute_result"
    }
   ],
   "source": [
    "# First two rows and first 3 columns\n",
    "c = b[:2, :3] \n",
    "c"
   ]
  },
  {
   "cell_type": "code",
   "execution_count": 42,
   "metadata": {
    "colab": {
     "base_uri": "https://localhost:8080/",
     "height": 51
    },
    "colab_type": "code",
    "id": "8g4t4Z1W7kKg",
    "outputId": "cc58fbcb-b4c1-4b8e-bf96-b00b9c03f888"
   },
   "outputs": [
    {
     "name": "stdout",
     "output_type": "stream",
     "text": [
      "[[  9   0   4]\n",
      " [  2   7 555]]\n"
     ]
    }
   ],
   "source": [
    "# If you change an element of subarray c , then the array b changes too. c is not copy of b\n",
    "c[1,2] = 555\n",
    "print(c)\n"
   ]
  },
  {
   "cell_type": "code",
   "execution_count": 43,
   "metadata": {
    "colab": {
     "base_uri": "https://localhost:8080/",
     "height": 85
    },
    "colab_type": "code",
    "id": "rWG3vn4k7kKh",
    "outputId": "861194cf-dbc8-4fcb-d233-c12417f13884"
   },
   "outputs": [
    {
     "data": {
      "text/plain": [
       "array([[  9,   0,   4,   7,   3],\n",
       "       [  2,   7, 555,   0,   0],\n",
       "       [  4,   5,   5,   6,   8],\n",
       "       [  4,   1,   4,   9,   8]])"
      ]
     },
     "execution_count": 43,
     "metadata": {
      "tags": []
     },
     "output_type": "execute_result"
    }
   ],
   "source": [
    "# Check if b changed too\n",
    "b "
   ]
  },
  {
   "cell_type": "code",
   "execution_count": 44,
   "metadata": {
    "colab": {
     "base_uri": "https://localhost:8080/",
     "height": 51
    },
    "colab_type": "code",
    "id": "QttCowZn7kKk",
    "outputId": "a0010db4-9fb7-4e25-c480-b37f029ed9c2"
   },
   "outputs": [
    {
     "data": {
      "text/plain": [
       "array([[777,   0,   4],\n",
       "       [  2,   7, 555]])"
      ]
     },
     "execution_count": 44,
     "metadata": {
      "tags": []
     },
     "output_type": "execute_result"
    }
   ],
   "source": [
    "# To get a copy of b\n",
    "c_copy = b[:2, :3].copy()\n",
    "c_copy[0,0] = 777\n",
    "c_copy"
   ]
  },
  {
   "cell_type": "code",
   "execution_count": 45,
   "metadata": {
    "colab": {
     "base_uri": "https://localhost:8080/",
     "height": 85
    },
    "colab_type": "code",
    "id": "8Jk5Cj2P7kKo",
    "outputId": "d31099ba-aa04-41b8-e0b9-806d36f3e84e"
   },
   "outputs": [
    {
     "data": {
      "text/plain": [
       "array([[  9,   0,   4,   7,   3],\n",
       "       [  2,   7, 555,   0,   0],\n",
       "       [  4,   5,   5,   6,   8],\n",
       "       [  4,   1,   4,   9,   8]])"
      ]
     },
     "execution_count": 45,
     "metadata": {
      "tags": []
     },
     "output_type": "execute_result"
    }
   ],
   "source": [
    "# But b did not change\n",
    "b"
   ]
  },
  {
   "cell_type": "code",
   "execution_count": 46,
   "metadata": {
    "colab": {
     "base_uri": "https://localhost:8080/",
     "height": 34
    },
    "colab_type": "code",
    "id": "eS3mJn0b7kKq",
    "outputId": "95b34b45-0811-45ff-97c3-c63f756549de"
   },
   "outputs": [
    {
     "data": {
      "text/plain": [
       "array([9, 2, 4, 4])"
      ]
     },
     "execution_count": 46,
     "metadata": {
      "tags": []
     },
     "output_type": "execute_result"
    }
   ],
   "source": [
    "# only first column\n",
    "b[:,0]"
   ]
  },
  {
   "cell_type": "code",
   "execution_count": 47,
   "metadata": {
    "colab": {
     "base_uri": "https://localhost:8080/",
     "height": 34
    },
    "colab_type": "code",
    "id": "KuKF4mEd7kKs",
    "outputId": "e2aba502-4b84-498e-917b-fd775fe8f928"
   },
   "outputs": [
    {
     "data": {
      "text/plain": [
       "array([9, 0, 4, 7, 3])"
      ]
     },
     "execution_count": 47,
     "metadata": {
      "tags": []
     },
     "output_type": "execute_result"
    }
   ],
   "source": [
    "# only first row\n",
    "b[0,:]"
   ]
  },
  {
   "cell_type": "code",
   "execution_count": 48,
   "metadata": {
    "colab": {
     "base_uri": "https://localhost:8080/",
     "height": 34
    },
    "colab_type": "code",
    "id": "B2Dk1Eky7kKt",
    "outputId": "966168cf-773c-4c5b-de3d-506bf9b9624f"
   },
   "outputs": [
    {
     "data": {
      "text/plain": [
       "array([9, 0, 4, 7, 3])"
      ]
     },
     "execution_count": 48,
     "metadata": {
      "tags": []
     },
     "output_type": "execute_result"
    }
   ],
   "source": [
    "# Equivalently\n",
    "b[0]"
   ]
  },
  {
   "cell_type": "code",
   "execution_count": 49,
   "metadata": {
    "colab": {
     "base_uri": "https://localhost:8080/",
     "height": 153
    },
    "colab_type": "code",
    "id": "k6Vx0-Ku7kKv",
    "outputId": "bdfd5491-4156-4696-faa2-32f41a9871a2"
   },
   "outputs": [
    {
     "data": {
      "text/plain": [
       "array([[[9, 3, 5, 2, 4],\n",
       "        [7, 6, 8, 8, 1]],\n",
       "\n",
       "       [[6, 7, 7, 8, 1],\n",
       "        [5, 9, 8, 9, 4]],\n",
       "\n",
       "       [[3, 0, 3, 5, 0],\n",
       "        [2, 3, 8, 1, 3]]])"
      ]
     },
     "execution_count": 49,
     "metadata": {
      "tags": []
     },
     "output_type": "execute_result"
    }
   ],
   "source": [
    "# 3-dim array --> Tensor\n",
    "a3"
   ]
  },
  {
   "cell_type": "code",
   "execution_count": 50,
   "metadata": {
    "colab": {
     "base_uri": "https://localhost:8080/",
     "height": 51
    },
    "colab_type": "code",
    "id": "Et_WcaxO7kKw",
    "outputId": "72fe1e58-3bea-4622-9c4e-e9f62fdb4983"
   },
   "outputs": [
    {
     "data": {
      "text/plain": [
       "array([[9, 3, 5, 2, 4],\n",
       "       [7, 6, 8, 8, 1]])"
      ]
     },
     "execution_count": 50,
     "metadata": {
      "tags": []
     },
     "output_type": "execute_result"
    }
   ],
   "source": [
    "a3[0]"
   ]
  },
  {
   "cell_type": "code",
   "execution_count": 51,
   "metadata": {
    "colab": {
     "base_uri": "https://localhost:8080/",
     "height": 34
    },
    "colab_type": "code",
    "id": "rKxh7ZU97kKy",
    "outputId": "5c882b21-d615-45d1-b7a9-e987c6f7cd22"
   },
   "outputs": [
    {
     "data": {
      "text/plain": [
       "9"
      ]
     },
     "execution_count": 51,
     "metadata": {
      "tags": []
     },
     "output_type": "execute_result"
    }
   ],
   "source": [
    "a3[1,1,1]"
   ]
  },
  {
   "cell_type": "code",
   "execution_count": 52,
   "metadata": {
    "colab": {
     "base_uri": "https://localhost:8080/",
     "height": 68
    },
    "colab_type": "code",
    "id": "iRdfeFUo7kK0",
    "outputId": "e8e3c86a-9625-487b-d2b7-f067a1cd30d5"
   },
   "outputs": [
    {
     "data": {
      "text/plain": [
       "array([[7, 6, 8, 8, 1],\n",
       "       [5, 9, 8, 9, 4],\n",
       "       [2, 3, 8, 1, 3]])"
      ]
     },
     "execution_count": 52,
     "metadata": {
      "tags": []
     },
     "output_type": "execute_result"
    }
   ],
   "source": [
    "a3[:,1,:]"
   ]
  },
  {
   "cell_type": "code",
   "execution_count": 53,
   "metadata": {
    "colab": {},
    "colab_type": "code",
    "id": "l-9p9bL_7kK4"
   },
   "outputs": [],
   "source": [
    "### Reshape"
   ]
  },
  {
   "cell_type": "code",
   "execution_count": 54,
   "metadata": {
    "colab": {
     "base_uri": "https://localhost:8080/",
     "height": 34
    },
    "colab_type": "code",
    "id": "ZXmXsPX57kK5",
    "outputId": "ed276351-9be6-43ae-bbdc-2e378d750d7d"
   },
   "outputs": [
    {
     "data": {
      "text/plain": [
       "array([0, 1, 2, 3, 4, 5, 6, 7])"
      ]
     },
     "execution_count": 54,
     "metadata": {
      "tags": []
     },
     "output_type": "execute_result"
    }
   ],
   "source": [
    "# Recall the array a\n",
    "a"
   ]
  },
  {
   "cell_type": "code",
   "execution_count": 55,
   "metadata": {
    "colab": {
     "base_uri": "https://localhost:8080/",
     "height": 51
    },
    "colab_type": "code",
    "id": "mZRX3hX67kK7",
    "outputId": "458b5dd4-0605-42bd-9a30-9f96a1ca326e"
   },
   "outputs": [
    {
     "data": {
      "text/plain": [
       "array([[0, 1, 2, 3],\n",
       "       [4, 5, 6, 7]])"
      ]
     },
     "execution_count": 55,
     "metadata": {
      "tags": []
     },
     "output_type": "execute_result"
    }
   ],
   "source": [
    "a.reshape(2,4)"
   ]
  },
  {
   "cell_type": "code",
   "execution_count": 56,
   "metadata": {
    "colab": {
     "base_uri": "https://localhost:8080/",
     "height": 34
    },
    "colab_type": "code",
    "id": "7aWppCFa7kK8",
    "outputId": "6d757e74-a161-4e5d-8151-861d300f1a84"
   },
   "outputs": [
    {
     "data": {
      "text/plain": [
       "array([[0, 1, 2, 3, 4, 5, 6, 7]])"
      ]
     },
     "execution_count": 56,
     "metadata": {
      "tags": []
     },
     "output_type": "execute_result"
    }
   ],
   "source": [
    "a.reshape(1,8)"
   ]
  },
  {
   "cell_type": "code",
   "execution_count": 57,
   "metadata": {
    "colab": {
     "base_uri": "https://localhost:8080/",
     "height": 153
    },
    "colab_type": "code",
    "id": "k4RK5GHn7kK9",
    "outputId": "97eec4f1-5d63-4544-ef5d-9ed9be7199f1"
   },
   "outputs": [
    {
     "data": {
      "text/plain": [
       "array([[0],\n",
       "       [1],\n",
       "       [2],\n",
       "       [3],\n",
       "       [4],\n",
       "       [5],\n",
       "       [6],\n",
       "       [7]])"
      ]
     },
     "execution_count": 57,
     "metadata": {
      "tags": []
     },
     "output_type": "execute_result"
    }
   ],
   "source": [
    "a.reshape(8,1)"
   ]
  },
  {
   "cell_type": "markdown",
   "metadata": {
    "colab_type": "text",
    "id": "u0HxRhmm7kK_"
   },
   "source": [
    "### Concatenate"
   ]
  },
  {
   "cell_type": "code",
   "execution_count": 58,
   "metadata": {
    "colab": {
     "base_uri": "https://localhost:8080/",
     "height": 34
    },
    "colab_type": "code",
    "id": "OltOfz3A7kLB",
    "outputId": "cb422d24-1318-4129-f6d4-80f7dfa9bc12"
   },
   "outputs": [
    {
     "data": {
      "text/plain": [
       "array([0, 1, 2, 3, 4, 5, 6, 7, 0, 1, 2, 3, 4, 5, 6, 7])"
      ]
     },
     "execution_count": 58,
     "metadata": {
      "tags": []
     },
     "output_type": "execute_result"
    }
   ],
   "source": [
    "np.concatenate([a, a])"
   ]
  },
  {
   "cell_type": "code",
   "execution_count": 59,
   "metadata": {
    "colab": {
     "base_uri": "https://localhost:8080/",
     "height": 85
    },
    "colab_type": "code",
    "id": "JDxFC8MA7kLD",
    "outputId": "c674913f-ce1d-4c2f-a501-1c26ecc4ef93"
   },
   "outputs": [
    {
     "data": {
      "text/plain": [
       "array([[  3,   3,   7],\n",
       "       [  0,   1, 100],\n",
       "       [  3,   3,   7],\n",
       "       [  0,   1, 100]])"
      ]
     },
     "execution_count": 59,
     "metadata": {
      "tags": []
     },
     "output_type": "execute_result"
    }
   ],
   "source": [
    "np.concatenate([a2, a2]) # default axis = 0 , i.e., rows"
   ]
  },
  {
   "cell_type": "code",
   "execution_count": 60,
   "metadata": {
    "colab": {
     "base_uri": "https://localhost:8080/",
     "height": 51
    },
    "colab_type": "code",
    "id": "5QCc59K-7kLF",
    "outputId": "900c4f85-192b-49fd-d68f-ad5e5cc6042c"
   },
   "outputs": [
    {
     "data": {
      "text/plain": [
       "array([[  3,   3,   7,   3,   3,   7],\n",
       "       [  0,   1, 100,   0,   1, 100]])"
      ]
     },
     "execution_count": 60,
     "metadata": {
      "tags": []
     },
     "output_type": "execute_result"
    }
   ],
   "source": [
    "np.concatenate([a2, a2], axis = 1)"
   ]
  },
  {
   "cell_type": "markdown",
   "metadata": {
    "colab_type": "text",
    "id": "v48MdNXi7kLH"
   },
   "source": [
    "### Universal functions\n"
   ]
  },
  {
   "cell_type": "code",
   "execution_count": 61,
   "metadata": {
    "colab": {
     "base_uri": "https://localhost:8080/",
     "height": 51
    },
    "colab_type": "code",
    "id": "kSzJ5sxN7kLJ",
    "outputId": "a70abb19-4fdb-43c4-db91-c75aeff59078"
   },
   "outputs": [
    {
     "name": "stdout",
     "output_type": "stream",
     "text": [
      "a + 1 = [1 2 3 4 5 6 7 8]\n",
      "a ** 2 =  [ 0  1  4  9 16 25 36 49]\n"
     ]
    }
   ],
   "source": [
    "# A vectorized operation is done on each element of an array\n",
    "print(\"a + 1 =\", a + 1)\n",
    "print(\"a ** 2 = \", a ** 2)"
   ]
  },
  {
   "cell_type": "code",
   "execution_count": 62,
   "metadata": {
    "colab": {
     "base_uri": "https://localhost:8080/",
     "height": 34
    },
    "colab_type": "code",
    "id": "uRgbSDb67kLL",
    "outputId": "d704fef0-4d58-491f-e3cc-cf1c9a119b9f"
   },
   "outputs": [
    {
     "data": {
      "text/plain": [
       "array([1, 2, 3, 4, 5, 6, 7, 8])"
      ]
     },
     "execution_count": 62,
     "metadata": {
      "tags": []
     },
     "output_type": "execute_result"
    }
   ],
   "source": [
    "np.add(a,1)"
   ]
  },
  {
   "cell_type": "code",
   "execution_count": 63,
   "metadata": {
    "colab": {
     "base_uri": "https://localhost:8080/",
     "height": 34
    },
    "colab_type": "code",
    "id": "OcgjpFna7kLM",
    "outputId": "a2f0ea2c-aeeb-47d3-9544-7c6980b90f8e"
   },
   "outputs": [
    {
     "data": {
      "text/plain": [
       "array([ 0, -1, -2, -3, -4, -5, -6, -7])"
      ]
     },
     "execution_count": 63,
     "metadata": {
      "tags": []
     },
     "output_type": "execute_result"
    }
   ],
   "source": [
    "-a"
   ]
  },
  {
   "cell_type": "code",
   "execution_count": 64,
   "metadata": {
    "colab": {
     "base_uri": "https://localhost:8080/",
     "height": 51
    },
    "colab_type": "code",
    "id": "NZXkrIVm7kLO",
    "outputId": "589b6a08-ff9d-47e1-aef8-5fbf8fa8d025"
   },
   "outputs": [
    {
     "data": {
      "text/plain": [
       "array([ 0.        ,  0.84147098,  0.90929743,  0.14112001, -0.7568025 ,\n",
       "       -0.95892427, -0.2794155 ,  0.6569866 ])"
      ]
     },
     "execution_count": 64,
     "metadata": {
      "tags": []
     },
     "output_type": "execute_result"
    }
   ],
   "source": [
    "np.sin(a)"
   ]
  },
  {
   "cell_type": "code",
   "execution_count": 65,
   "metadata": {
    "colab": {
     "base_uri": "https://localhost:8080/",
     "height": 51
    },
    "colab_type": "code",
    "id": "U02rqZWS7kLP",
    "outputId": "f696f78f-e086-40a2-87b4-72105119c984"
   },
   "outputs": [
    {
     "data": {
      "text/plain": [
       "array([1.00000000e+00, 2.71828183e+00, 7.38905610e+00, 2.00855369e+01,\n",
       "       5.45981500e+01, 1.48413159e+02, 4.03428793e+02, 1.09663316e+03])"
      ]
     },
     "execution_count": 65,
     "metadata": {
      "tags": []
     },
     "output_type": "execute_result"
    }
   ],
   "source": [
    "np.exp(a) # np.exp2(a) or np.power(7,a), i.e., 7**a"
   ]
  },
  {
   "cell_type": "code",
   "execution_count": 66,
   "metadata": {
    "colab": {
     "base_uri": "https://localhost:8080/",
     "height": 85
    },
    "colab_type": "code",
    "id": "AlIwXvfY7kLR",
    "outputId": "0ca2b4f7-1a30-40ef-f187-8b281840bebf"
   },
   "outputs": [
    {
     "name": "stderr",
     "output_type": "stream",
     "text": [
      "/usr/local/lib/python3.6/dist-packages/ipykernel_launcher.py:1: RuntimeWarning: divide by zero encountered in log\n",
      "  \"\"\"Entry point for launching an IPython kernel.\n"
     ]
    },
    {
     "data": {
      "text/plain": [
       "array([      -inf, 0.        , 0.69314718, 1.09861229, 1.38629436,\n",
       "       1.60943791, 1.79175947, 1.94591015])"
      ]
     },
     "execution_count": 66,
     "metadata": {
      "tags": []
     },
     "output_type": "execute_result"
    }
   ],
   "source": [
    "np.log(a) # np.log2(a) or np.log10(a)"
   ]
  },
  {
   "cell_type": "code",
   "execution_count": 67,
   "metadata": {
    "colab": {
     "base_uri": "https://localhost:8080/",
     "height": 34
    },
    "colab_type": "code",
    "id": "y7N6OXiq7kLS",
    "outputId": "cabc9ad5-0f52-4cec-871b-d7e8a95720fe"
   },
   "outputs": [
    {
     "data": {
      "text/plain": [
       "28"
      ]
     },
     "execution_count": 67,
     "metadata": {
      "tags": []
     },
     "output_type": "execute_result"
    }
   ],
   "source": [
    "# Sum of elements\n",
    "np.sum(a) # you can use array methods a.sum()\n"
   ]
  },
  {
   "cell_type": "code",
   "execution_count": 68,
   "metadata": {
    "colab": {
     "base_uri": "https://localhost:8080/",
     "height": 51
    },
    "colab_type": "code",
    "id": "5KsKrEqL7kLU",
    "outputId": "75a59a1e-ee69-4c14-82ae-5ad5b9938f81"
   },
   "outputs": [
    {
     "name": "stdout",
     "output_type": "stream",
     "text": [
      "7\n"
     ]
    },
    {
     "data": {
      "text/plain": [
       "0"
      ]
     },
     "execution_count": 68,
     "metadata": {
      "tags": []
     },
     "output_type": "execute_result"
    }
   ],
   "source": [
    "print(np.max(a))\n",
    "np.min(a)"
   ]
  },
  {
   "cell_type": "code",
   "execution_count": 69,
   "metadata": {
    "colab": {
     "base_uri": "https://localhost:8080/",
     "height": 51
    },
    "colab_type": "code",
    "id": "7rSiIHAu7kLW",
    "outputId": "dd59ec8f-d30a-4cdc-c8d5-4dce31d9a8c3"
   },
   "outputs": [
    {
     "name": "stdout",
     "output_type": "stream",
     "text": [
      "3.5\n"
     ]
    },
    {
     "data": {
      "text/plain": [
       "2.29128784747792"
      ]
     },
     "execution_count": 69,
     "metadata": {
      "tags": []
     },
     "output_type": "execute_result"
    }
   ],
   "source": [
    "# mean and standard deviation\n",
    "print(a.mean())\n",
    "a.std()"
   ]
  },
  {
   "cell_type": "code",
   "execution_count": 70,
   "metadata": {
    "colab": {
     "base_uri": "https://localhost:8080/",
     "height": 51
    },
    "colab_type": "code",
    "id": "wj2jM-097kLY",
    "outputId": "37ddc877-e20e-4206-a42b-c838ae60025a"
   },
   "outputs": [
    {
     "data": {
      "text/plain": [
       "array([[  3,   3,   7],\n",
       "       [  0,   1, 100]])"
      ]
     },
     "execution_count": 70,
     "metadata": {
      "tags": []
     },
     "output_type": "execute_result"
    }
   ],
   "source": [
    "# Recall a2\n",
    "a2"
   ]
  },
  {
   "cell_type": "code",
   "execution_count": 71,
   "metadata": {
    "colab": {
     "base_uri": "https://localhost:8080/",
     "height": 34
    },
    "colab_type": "code",
    "id": "Z741zsGg7kLa",
    "outputId": "5a7daeee-5c15-40c0-90b0-73f0b06fb3b3"
   },
   "outputs": [
    {
     "data": {
      "text/plain": [
       "114"
      ]
     },
     "execution_count": 71,
     "metadata": {
      "tags": []
     },
     "output_type": "execute_result"
    }
   ],
   "source": [
    "# sum of all the elements\n",
    "a2.sum() # or np.sum(a2)  \n"
   ]
  },
  {
   "cell_type": "code",
   "execution_count": 72,
   "metadata": {
    "colab": {
     "base_uri": "https://localhost:8080/",
     "height": 34
    },
    "colab_type": "code",
    "id": "rwpx4rTZ7kLc",
    "outputId": "eb00fab3-f4ca-4890-a054-40ef3e73e2e9"
   },
   "outputs": [
    {
     "data": {
      "text/plain": [
       "array([  3,   4, 107])"
      ]
     },
     "execution_count": 72,
     "metadata": {
      "tags": []
     },
     "output_type": "execute_result"
    }
   ],
   "source": [
    "a2.sum(axis = 0)  # collapsing rows"
   ]
  },
  {
   "cell_type": "code",
   "execution_count": 73,
   "metadata": {
    "colab": {
     "base_uri": "https://localhost:8080/",
     "height": 34
    },
    "colab_type": "code",
    "id": "CL4msTZf7kLd",
    "outputId": "3fd611b0-f8b3-4bc5-a3b9-a093f54ebd48"
   },
   "outputs": [
    {
     "data": {
      "text/plain": [
       "array([ 13, 101])"
      ]
     },
     "execution_count": 73,
     "metadata": {
      "tags": []
     },
     "output_type": "execute_result"
    }
   ],
   "source": [
    "a2.sum(axis = 1)  # collapsing columns"
   ]
  },
  {
   "cell_type": "markdown",
   "metadata": {
    "colab_type": "text",
    "id": "OTpqzmQp7kLf"
   },
   "source": [
    "### Broadcasting"
   ]
  },
  {
   "cell_type": "code",
   "execution_count": 74,
   "metadata": {
    "colab": {
     "base_uri": "https://localhost:8080/",
     "height": 34
    },
    "colab_type": "code",
    "id": "5ZFQjmcA7kLf",
    "outputId": "76c1cf0f-13bc-4725-bcbd-91fe48a611b5"
   },
   "outputs": [
    {
     "data": {
      "text/plain": [
       "array([8, 8, 8])"
      ]
     },
     "execution_count": 74,
     "metadata": {
      "tags": []
     },
     "output_type": "execute_result"
    }
   ],
   "source": [
    "# We had already a + 1. Since the scalar 1 is zero-dim, it is broadcasted to [1,1,1,1,1,1,1,1]\n",
    "# Now for higher-dim, let us introduce x and add to a2\n",
    "x = np.full(3, 8)\n",
    "x\n"
   ]
  },
  {
   "cell_type": "code",
   "execution_count": 75,
   "metadata": {
    "colab": {
     "base_uri": "https://localhost:8080/",
     "height": 51
    },
    "colab_type": "code",
    "id": "PC9F-s-17kLg",
    "outputId": "d0475e72-c6de-4ae6-d60f-9382772d8033"
   },
   "outputs": [
    {
     "data": {
      "text/plain": [
       "array([[  3,   3,   7],\n",
       "       [  0,   1, 100]])"
      ]
     },
     "execution_count": 75,
     "metadata": {
      "tags": []
     },
     "output_type": "execute_result"
    }
   ],
   "source": [
    "a2 "
   ]
  },
  {
   "cell_type": "code",
   "execution_count": 76,
   "metadata": {
    "colab": {
     "base_uri": "https://localhost:8080/",
     "height": 51
    },
    "colab_type": "code",
    "id": "skO2-QpV7kLh",
    "outputId": "34e576e4-1808-42b5-fddb-167c7b4460a3"
   },
   "outputs": [
    {
     "data": {
      "text/plain": [
       "array([[ 11,  11,  15],\n",
       "       [  8,   9, 108]])"
      ]
     },
     "execution_count": 76,
     "metadata": {
      "tags": []
     },
     "output_type": "execute_result"
    }
   ],
   "source": [
    "a2 + x"
   ]
  },
  {
   "cell_type": "code",
   "execution_count": 77,
   "metadata": {
    "colab": {
     "base_uri": "https://localhost:8080/",
     "height": 51
    },
    "colab_type": "code",
    "id": "fiiwFj6P7kLj",
    "outputId": "bcf4e8ca-cea0-48b1-fe9f-22a55f786ec1"
   },
   "outputs": [
    {
     "data": {
      "text/plain": [
       "array([[8],\n",
       "       [8]])"
      ]
     },
     "execution_count": 77,
     "metadata": {
      "tags": []
     },
     "output_type": "execute_result"
    }
   ],
   "source": [
    "y = np.full(2, 8).reshape(2,1)\n",
    "y"
   ]
  },
  {
   "cell_type": "code",
   "execution_count": 78,
   "metadata": {
    "colab": {
     "base_uri": "https://localhost:8080/",
     "height": 51
    },
    "colab_type": "code",
    "id": "RE7MNaN17kLl",
    "outputId": "730bb720-0ea7-4df6-c93b-af01a8e42103"
   },
   "outputs": [
    {
     "data": {
      "text/plain": [
       "array([[ 11,  11,  15],\n",
       "       [  8,   9, 108]])"
      ]
     },
     "execution_count": 78,
     "metadata": {
      "tags": []
     },
     "output_type": "execute_result"
    }
   ],
   "source": [
    "a2 + y"
   ]
  },
  {
   "cell_type": "markdown",
   "metadata": {
    "colab_type": "text",
    "id": "UHYPPps_7kLm"
   },
   "source": [
    "### Mean-centering of 2D array\n"
   ]
  },
  {
   "cell_type": "code",
   "execution_count": 79,
   "metadata": {
    "colab": {
     "base_uri": "https://localhost:8080/",
     "height": 119
    },
    "colab_type": "code",
    "id": "FncNU7L27kLm",
    "outputId": "03d1ee5d-62f8-4309-8054-af575888306c"
   },
   "outputs": [
    {
     "name": "stdout",
     "output_type": "stream",
     "text": [
      "[[0.90234858 0.09928035]\n",
      " [0.96980907 0.65314004]\n",
      " [0.17090959 0.35815217]\n",
      " [0.75068614 0.60783067]\n",
      " [0.32504723 0.03842543]]\n"
     ]
    },
    {
     "data": {
      "text/plain": [
       "array([0.62376012, 0.35136573])"
      ]
     },
     "execution_count": 79,
     "metadata": {
      "tags": []
     },
     "output_type": "execute_result"
    }
   ],
   "source": [
    "z = np.random.random((5, 2))\n",
    "z_mean = z.mean(axis=0) # collapsing rows axis = 0 to calculate the column means\n",
    "print(z)\n",
    "z_mean"
   ]
  },
  {
   "cell_type": "code",
   "execution_count": 80,
   "metadata": {
    "colab": {
     "base_uri": "https://localhost:8080/",
     "height": 34
    },
    "colab_type": "code",
    "id": "nLfi_NQA7kLn",
    "outputId": "b43a2838-ed88-422a-93a4-ef9f1e082e8b"
   },
   "outputs": [
    {
     "data": {
      "text/plain": [
       "array([-4.44089210e-17,  2.22044605e-17])"
      ]
     },
     "execution_count": 80,
     "metadata": {
      "tags": []
     },
     "output_type": "execute_result"
    }
   ],
   "source": [
    "z_mean_centered = z - z_mean\n",
    "z_mean_centered.mean(axis=0) # close to zero\n"
   ]
  },
  {
   "cell_type": "markdown",
   "metadata": {
    "colab_type": "text",
    "id": "qRe5ENj87kLp"
   },
   "source": [
    "### Boolean Comparisons and Masks"
   ]
  },
  {
   "cell_type": "code",
   "execution_count": 81,
   "metadata": {
    "colab": {
     "base_uri": "https://localhost:8080/",
     "height": 34
    },
    "colab_type": "code",
    "id": "1gwqd0Q77kLp",
    "outputId": "1cccb6db-5641-4889-eb3f-8fb07e8625de"
   },
   "outputs": [
    {
     "data": {
      "text/plain": [
       "array([ True,  True,  True,  True,  True, False, False, False])"
      ]
     },
     "execution_count": 81,
     "metadata": {
      "tags": []
     },
     "output_type": "execute_result"
    }
   ],
   "source": [
    "a < 5"
   ]
  },
  {
   "cell_type": "code",
   "execution_count": 82,
   "metadata": {
    "colab": {
     "base_uri": "https://localhost:8080/",
     "height": 34
    },
    "colab_type": "code",
    "id": "uKXV5RSM7kLq",
    "outputId": "27da6b96-829e-4baf-f835-17305512820c"
   },
   "outputs": [
    {
     "data": {
      "text/plain": [
       "array([False, False, False, False, False, False,  True,  True])"
      ]
     },
     "execution_count": 82,
     "metadata": {
      "tags": []
     },
     "output_type": "execute_result"
    }
   ],
   "source": [
    "a >= 6"
   ]
  },
  {
   "cell_type": "code",
   "execution_count": 83,
   "metadata": {
    "colab": {
     "base_uri": "https://localhost:8080/",
     "height": 34
    },
    "colab_type": "code",
    "id": "Uggm8S317kLs",
    "outputId": "7615bea6-1555-4d6e-f6bf-61ef551b0283"
   },
   "outputs": [
    {
     "data": {
      "text/plain": [
       "array([False, False, False, False, False,  True,  True, False])"
      ]
     },
     "execution_count": 83,
     "metadata": {
      "tags": []
     },
     "output_type": "execute_result"
    }
   ],
   "source": [
    "(a < 7) & (a > 4)"
   ]
  },
  {
   "cell_type": "code",
   "execution_count": 84,
   "metadata": {
    "colab": {
     "base_uri": "https://localhost:8080/",
     "height": 51
    },
    "colab_type": "code",
    "id": "dAJAQaRM7kLt",
    "outputId": "fbe623e9-125c-4477-844a-48edbc97c05e"
   },
   "outputs": [
    {
     "data": {
      "text/plain": [
       "array([[False, False, False],\n",
       "       [False, False,  True]])"
      ]
     },
     "execution_count": 84,
     "metadata": {
      "tags": []
     },
     "output_type": "execute_result"
    }
   ],
   "source": [
    "a2 == 100"
   ]
  },
  {
   "cell_type": "code",
   "execution_count": 85,
   "metadata": {
    "colab": {
     "base_uri": "https://localhost:8080/",
     "height": 34
    },
    "colab_type": "code",
    "id": "oajqsmar7kLv",
    "outputId": "c8cb90a9-9335-4690-ef51-0a57ef5f91c6"
   },
   "outputs": [
    {
     "data": {
      "text/plain": [
       "5"
      ]
     },
     "execution_count": 85,
     "metadata": {
      "tags": []
     },
     "output_type": "execute_result"
    }
   ],
   "source": [
    "# Count number of elements less than 5\n",
    "np.count_nonzero(a < 5)"
   ]
  },
  {
   "cell_type": "code",
   "execution_count": 86,
   "metadata": {
    "colab": {
     "base_uri": "https://localhost:8080/",
     "height": 34
    },
    "colab_type": "code",
    "id": "IXf6QMwN7kLx",
    "outputId": "c0dbc95c-4142-4330-d4f3-a91a133ae8a8"
   },
   "outputs": [
    {
     "data": {
      "text/plain": [
       "5"
      ]
     },
     "execution_count": 86,
     "metadata": {
      "tags": []
     },
     "output_type": "execute_result"
    }
   ],
   "source": [
    "# Equivalent\n",
    "np.sum( a < 5) # since False = 0 and True = 1"
   ]
  },
  {
   "cell_type": "code",
   "execution_count": 87,
   "metadata": {
    "colab": {
     "base_uri": "https://localhost:8080/",
     "height": 51
    },
    "colab_type": "code",
    "id": "2Y_NZ9-f7kLy",
    "outputId": "fdabae31-66ba-498a-da82-c4ca10ec1bc1"
   },
   "outputs": [
    {
     "data": {
      "text/plain": [
       "array([[  3,   3,   7],\n",
       "       [  0,   1, 100]])"
      ]
     },
     "execution_count": 87,
     "metadata": {
      "tags": []
     },
     "output_type": "execute_result"
    }
   ],
   "source": [
    "a2"
   ]
  },
  {
   "cell_type": "code",
   "execution_count": 88,
   "metadata": {
    "colab": {
     "base_uri": "https://localhost:8080/",
     "height": 34
    },
    "colab_type": "code",
    "id": "T1jZJHIo6bZn",
    "outputId": "cdbb0d99-88b1-4abc-bb13-f5cab53ac328"
   },
   "outputs": [
    {
     "data": {
      "text/plain": [
       "114"
      ]
     },
     "execution_count": 88,
     "metadata": {
      "tags": []
     },
     "output_type": "execute_result"
    }
   ],
   "source": [
    "np.sum(a2) # sum over all elements in the matrix"
   ]
  },
  {
   "cell_type": "code",
   "execution_count": 89,
   "metadata": {
    "colab": {
     "base_uri": "https://localhost:8080/",
     "height": 34
    },
    "colab_type": "code",
    "id": "QYJeDJBZ5pzI",
    "outputId": "810947e7-11d8-4c4d-ea53-9bd4a31cb5d2"
   },
   "outputs": [
    {
     "data": {
      "text/plain": [
       "4"
      ]
     },
     "execution_count": 89,
     "metadata": {
      "tags": []
     },
     "output_type": "execute_result"
    }
   ],
   "source": [
    "np.sum(a2 < 5) # how many elements less than 5 in the matrix"
   ]
  },
  {
   "cell_type": "code",
   "execution_count": 90,
   "metadata": {
    "colab": {
     "base_uri": "https://localhost:8080/",
     "height": 34
    },
    "colab_type": "code",
    "id": "928R9EU87kLz",
    "outputId": "dbaa364e-eb9f-4147-e3e8-85681db03437"
   },
   "outputs": [
    {
     "data": {
      "text/plain": [
       "array([2, 2])"
      ]
     },
     "execution_count": 90,
     "metadata": {
      "tags": []
     },
     "output_type": "execute_result"
    }
   ],
   "source": [
    "np.sum(a2 < 5, axis=1) # collapse columns, i.e., how many elements less than 5 in each row"
   ]
  },
  {
   "cell_type": "code",
   "execution_count": 91,
   "metadata": {
    "colab": {
     "base_uri": "https://localhost:8080/",
     "height": 34
    },
    "colab_type": "code",
    "id": "uBArNgtP7kL0",
    "outputId": "08c3e7ab-ecbc-4b8f-90b3-b4ecb66eec68"
   },
   "outputs": [
    {
     "data": {
      "text/plain": [
       "False"
      ]
     },
     "execution_count": 91,
     "metadata": {
      "tags": []
     },
     "output_type": "execute_result"
    }
   ],
   "source": [
    "np.any(a > 7)"
   ]
  },
  {
   "cell_type": "code",
   "execution_count": 92,
   "metadata": {
    "colab": {
     "base_uri": "https://localhost:8080/",
     "height": 34
    },
    "colab_type": "code",
    "id": "iA8nKn6E7kL1",
    "outputId": "1c0e7241-48d4-49fc-fdfc-e1f958a3a330"
   },
   "outputs": [
    {
     "data": {
      "text/plain": [
       "True"
      ]
     },
     "execution_count": 92,
     "metadata": {
      "tags": []
     },
     "output_type": "execute_result"
    }
   ],
   "source": [
    "np.all(a < 8)"
   ]
  },
  {
   "cell_type": "code",
   "execution_count": 93,
   "metadata": {
    "colab": {
     "base_uri": "https://localhost:8080/",
     "height": 34
    },
    "colab_type": "code",
    "id": "hsB5SZe77kL3",
    "outputId": "d62a799b-1712-4013-dfae-b3a703a7c376"
   },
   "outputs": [
    {
     "data": {
      "text/plain": [
       "array([0, 1, 2, 3, 4])"
      ]
     },
     "execution_count": 93,
     "metadata": {
      "tags": []
     },
     "output_type": "execute_result"
    }
   ],
   "source": [
    "# Masks\n",
    "a[a < 5] # means a[True, True, True, True, True, False, False, False]"
   ]
  },
  {
   "cell_type": "markdown",
   "metadata": {
    "colab_type": "text",
    "id": "NcZCx8v67kL4"
   },
   "source": [
    "### Sorting"
   ]
  },
  {
   "cell_type": "code",
   "execution_count": 94,
   "metadata": {
    "colab": {
     "base_uri": "https://localhost:8080/",
     "height": 34
    },
    "colab_type": "code",
    "id": "M7pdTnqw7kL4",
    "outputId": "a1d5e312-8cfa-4750-a3ce-872b18815b2c"
   },
   "outputs": [
    {
     "data": {
      "text/plain": [
       "array([7, 1, 6, 4, 5])"
      ]
     },
     "execution_count": 94,
     "metadata": {
      "tags": []
     },
     "output_type": "execute_result"
    }
   ],
   "source": [
    "unsorted = np.array([7,1,6,4,5])\n",
    "unsorted"
   ]
  },
  {
   "cell_type": "code",
   "execution_count": 95,
   "metadata": {
    "colab": {
     "base_uri": "https://localhost:8080/",
     "height": 51
    },
    "colab_type": "code",
    "id": "E0LZ6-Xf7kL6",
    "outputId": "9d821736-d1b8-46ad-caaa-b01853390c6a"
   },
   "outputs": [
    {
     "name": "stdout",
     "output_type": "stream",
     "text": [
      "[1 4 5 6 7]\n"
     ]
    },
    {
     "data": {
      "text/plain": [
       "array([7, 1, 6, 4, 5])"
      ]
     },
     "execution_count": 95,
     "metadata": {
      "tags": []
     },
     "output_type": "execute_result"
    }
   ],
   "source": [
    "arr_new = np.sort(unsorted)\n",
    "print(arr_new)\n",
    "unsorted"
   ]
  },
  {
   "cell_type": "code",
   "execution_count": 96,
   "metadata": {
    "colab": {
     "base_uri": "https://localhost:8080/",
     "height": 34
    },
    "colab_type": "code",
    "id": "TvZEzhKV7kL7",
    "outputId": "7af7f3d0-0bfe-4f36-adb0-77394cd3a555"
   },
   "outputs": [
    {
     "data": {
      "text/plain": [
       "array([1, 4, 5, 6, 7])"
      ]
     },
     "execution_count": 96,
     "metadata": {
      "tags": []
     },
     "output_type": "execute_result"
    }
   ],
   "source": [
    "unsorted.sort() # It sorts the array in-place\n",
    "unsorted"
   ]
  },
  {
   "cell_type": "code",
   "execution_count": 97,
   "metadata": {
    "colab": {
     "base_uri": "https://localhost:8080/",
     "height": 34
    },
    "colab_type": "code",
    "id": "KZhrhzMx7kL8",
    "outputId": "20c7de8a-e0d2-42fb-e308-fdc9cebbb55c"
   },
   "outputs": [
    {
     "data": {
      "text/plain": [
       "array([1, 3, 4, 2, 0])"
      ]
     },
     "execution_count": 97,
     "metadata": {
      "tags": []
     },
     "output_type": "execute_result"
    }
   ],
   "source": [
    "# The indices of the sorted elements\n",
    "unsorted_2 = np.array([7,1,6,4,5])\n",
    "indices = unsorted_2.argsort()\n",
    "indices"
   ]
  },
  {
   "cell_type": "code",
   "execution_count": 98,
   "metadata": {
    "colab": {
     "base_uri": "https://localhost:8080/",
     "height": 34
    },
    "colab_type": "code",
    "id": "qfngRuRO7kL9",
    "outputId": "051fa3fb-4c90-4d92-9cc7-507fe7d49cb9"
   },
   "outputs": [
    {
     "data": {
      "text/plain": [
       "array([1, 4, 5, 6, 7])"
      ]
     },
     "execution_count": 98,
     "metadata": {
      "tags": []
     },
     "output_type": "execute_result"
    }
   ],
   "source": [
    "unsorted_2[indices]"
   ]
  },
  {
   "cell_type": "code",
   "execution_count": 99,
   "metadata": {
    "colab": {
     "base_uri": "https://localhost:8080/",
     "height": 51
    },
    "colab_type": "code",
    "id": "AmAyKN537kL_",
    "outputId": "d0d1d57b-b856-4d85-81b2-9151911dda2f"
   },
   "outputs": [
    {
     "data": {
      "text/plain": [
       "array([[  3,   3,   7],\n",
       "       [  0,   1, 100]])"
      ]
     },
     "execution_count": 99,
     "metadata": {
      "tags": []
     },
     "output_type": "execute_result"
    }
   ],
   "source": [
    "a2"
   ]
  },
  {
   "cell_type": "code",
   "execution_count": 100,
   "metadata": {
    "colab": {
     "base_uri": "https://localhost:8080/",
     "height": 51
    },
    "colab_type": "code",
    "id": "XaKS5NN87kMA",
    "outputId": "337c3e39-3a19-4c23-867d-1d66c8df0c1a"
   },
   "outputs": [
    {
     "data": {
      "text/plain": [
       "array([[  0,   1,   7],\n",
       "       [  3,   3, 100]])"
      ]
     },
     "execution_count": 100,
     "metadata": {
      "tags": []
     },
     "output_type": "execute_result"
    }
   ],
   "source": [
    "np.sort(a2, axis =0) # collapse rows,i.e., sort each column"
   ]
  },
  {
   "cell_type": "code",
   "execution_count": 101,
   "metadata": {
    "colab": {
     "base_uri": "https://localhost:8080/",
     "height": 51
    },
    "colab_type": "code",
    "id": "fMhzDiCW7kMB",
    "outputId": "53adcc90-8c70-4026-8adb-6122aa281eb3"
   },
   "outputs": [
    {
     "data": {
      "text/plain": [
       "array([[  3,   3,   7],\n",
       "       [  0,   1, 100]])"
      ]
     },
     "execution_count": 101,
     "metadata": {
      "tags": []
     },
     "output_type": "execute_result"
    }
   ],
   "source": [
    "np.sort(a2, axis =1) # collapse columns,i.e., sort each row"
   ]
  }
 ],
 "metadata": {
  "colab": {
   "name": "BasicNumpy.ipynb",
   "provenance": []
  },
  "kernelspec": {
   "display_name": "Python 3",
   "language": "python",
   "name": "python3"
  },
  "language_info": {
   "codemirror_mode": {
    "name": "ipython",
    "version": 3
   },
   "file_extension": ".py",
   "mimetype": "text/x-python",
   "name": "python",
   "nbconvert_exporter": "python",
   "pygments_lexer": "ipython3",
   "version": "3.7.6"
  }
 },
 "nbformat": 4,
 "nbformat_minor": 4
}
