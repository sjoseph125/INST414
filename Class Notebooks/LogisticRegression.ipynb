{
  "nbformat": 4,
  "nbformat_minor": 0,
  "metadata": {
    "colab": {
      "name": "LogisticRegression.ipynb",
      "provenance": []
    },
    "kernelspec": {
      "name": "python3",
      "display_name": "Python 3"
    }
  },
  "cells": [
    {
      "cell_type": "markdown",
      "metadata": {
        "id": "QgaYcYpltTqZ"
      },
      "source": [
        "### Supervised Learning\n",
        "\n",
        "We use Linear Regression when we have a continuous (quantitative) target variable (Regression problem).\n",
        "\n",
        "We use Logistic Regression when we have a discrete (qualitative, categorical) target variable (Classification problem)."
      ]
    },
    {
      "cell_type": "markdown",
      "metadata": {
        "id": "OVTEYV-R1to_"
      },
      "source": [
        "\n",
        "<img src = \"https://res.cloudinary.com/dyd911kmh/image/upload/f_auto,q_auto:best/v1523361626/linear_vs_logistic_regression_h8voek.jpg\">"
      ]
    },
    {
      "cell_type": "markdown",
      "metadata": {
        "id": "obK8y0aB37BQ"
      },
      "source": [
        "\n",
        "<img src = \"https://qph.fs.quoracdn.net/main-qimg-8fed0d0d6b8ac4f90e6f3d14bca8ed20\">"
      ]
    },
    {
      "cell_type": "markdown",
      "metadata": {
        "id": "dVwdO6iO7zya"
      },
      "source": [
        "\n",
        "<img src=\"https://assets.website-files.com/5cc74fa87e7513b0c52acc95/5cc7604a671396f4dab030a1_v7jVB_tJO9Vs8yc8dZRW4ZGrs2ujWhbjrJV_AMM_A1GT_GJMmhVVtT2nGM9fmZae_7e4kUzIzI-diTVVR2BxSdnEfO5LE_qNoMMJJj0Vc_BwwXbo4Ug8Qt5bm9nQqMNLm_NP8W2d.png\">"
      ]
    },
    {
      "cell_type": "markdown",
      "metadata": {
        "id": "ZJZwlTr6tmNH"
      },
      "source": [
        "### Revisit the Linear Regression error (cost) function\n",
        "<img src = \"https://www.jmp.com/en_us/statistics-knowledge-portal/what-is-multiple-regression/fitting-multiple-regression-model/_jcr_content/par/styledcontainer_2069/par/lightbox_4130/lightboxImage.img.png/1548702778023.png\">\n",
        "\n",
        "<img src =\"https://miro.medium.com/max/1460/1*RPe5bfzf_HTtuyAL_ZG3yw.png\">"
      ]
    },
    {
      "cell_type": "markdown",
      "metadata": {
        "id": "8Y97dvPAt_UJ"
      },
      "source": [
        "### Logistic Regression with OLS as error(cost) function\n",
        "\n",
        "<img src = \"https://media.geeksforgeeks.org/wp-content/uploads/20190424185211/Cost_func_Non_Convex.jpg\">"
      ]
    },
    {
      "cell_type": "markdown",
      "metadata": {
        "id": "cvDA0slJ8vRn"
      },
      "source": [
        "### Cross-Entropy as error(cost) function for Logistic Regression\n",
        "<img src=\"https://i.stack.imgur.com/HlYNr.png\">"
      ]
    },
    {
      "cell_type": "markdown",
      "metadata": {
        "id": "vIiOsLyEvvVs"
      },
      "source": [
        "\n",
        "<img src=\"https://encrypted-tbn0.gstatic.com/images?q=tbn%3AANd9GcTsVJGunCOythbeX_MxNSEAAqVjCdYUThplVA&usqp=CAU\">"
      ]
    },
    {
      "cell_type": "markdown",
      "metadata": {
        "id": "VyE2IIB3i2_U"
      },
      "source": [
        "### Import packages (libraries)"
      ]
    },
    {
      "cell_type": "code",
      "metadata": {
        "id": "pl9RRA-__wcG"
      },
      "source": [
        "import pandas as pd\n",
        "from sklearn.linear_model import LogisticRegression\n",
        "from sklearn.model_selection import train_test_split\n",
        "from sklearn.metrics import classification_report, confusion_matrix\n",
        "from sklearn.metrics import roc_auc_score, roc_curve, accuracy_score\n",
        "from sklearn.metrics import precision_score, recall_score\n",
        "from sklearn import preprocessing\n",
        "import numpy as np\n",
        "import matplotlib.pyplot as plt\n",
        "import seaborn as sns\n",
        "%matplotlib inline\n"
      ],
      "execution_count": 29,
      "outputs": []
    },
    {
      "cell_type": "markdown",
      "metadata": {
        "id": "IQb2EpKKjBSS"
      },
      "source": [
        "### Data downloaded from Kaggle \n",
        "https://www.kaggle.com/uciml/pima-indians-diabetes-database\n",
        "\n",
        "#### Context\n",
        "This dataset is originally from the National Institute of Diabetes and Digestive and Kidney Diseases. The objective of the dataset is to diagnostically predict whether or not a patient has diabetes, based on certain diagnostic measurements included in the dataset. Several constraints were placed on the selection of these instances from a larger database. In particular, all patients here are females at least 21 years old of Pima Indian heritage.\n",
        "\n",
        "#### Content\n",
        "The datasets consists of several medical predictor variables and one target variable, Outcome. Predictor variables includes the number of pregnancies the patient has had, their BMI, insulin level, age, and so on.\n",
        "\n"
      ]
    },
    {
      "cell_type": "code",
      "metadata": {
        "id": "YNTt1DMaLZcG"
      },
      "source": [
        "diab_df = pd.read_csv(\"diabetes.csv\")"
      ],
      "execution_count": 4,
      "outputs": []
    },
    {
      "cell_type": "markdown",
      "metadata": {
        "id": "5hOfolAvlkVM"
      },
      "source": [
        "### Show first few rows"
      ]
    },
    {
      "cell_type": "code",
      "metadata": {
        "id": "_wLVwqd0_90H",
        "outputId": "9c47fad5-11a9-446e-ee90-79c97d88c2ab",
        "colab": {
          "base_uri": "https://localhost:8080/",
          "height": 204
        }
      },
      "source": [
        "diab_df.head()"
      ],
      "execution_count": 5,
      "outputs": [
        {
          "output_type": "execute_result",
          "data": {
            "text/html": [
              "<div>\n",
              "<style scoped>\n",
              "    .dataframe tbody tr th:only-of-type {\n",
              "        vertical-align: middle;\n",
              "    }\n",
              "\n",
              "    .dataframe tbody tr th {\n",
              "        vertical-align: top;\n",
              "    }\n",
              "\n",
              "    .dataframe thead th {\n",
              "        text-align: right;\n",
              "    }\n",
              "</style>\n",
              "<table border=\"1\" class=\"dataframe\">\n",
              "  <thead>\n",
              "    <tr style=\"text-align: right;\">\n",
              "      <th></th>\n",
              "      <th>Pregnancies</th>\n",
              "      <th>Glucose</th>\n",
              "      <th>BloodPressure</th>\n",
              "      <th>SkinThickness</th>\n",
              "      <th>Insulin</th>\n",
              "      <th>BMI</th>\n",
              "      <th>DiabetesPedigreeFunction</th>\n",
              "      <th>Age</th>\n",
              "      <th>Outcome</th>\n",
              "    </tr>\n",
              "  </thead>\n",
              "  <tbody>\n",
              "    <tr>\n",
              "      <th>0</th>\n",
              "      <td>6</td>\n",
              "      <td>148</td>\n",
              "      <td>72</td>\n",
              "      <td>35</td>\n",
              "      <td>0</td>\n",
              "      <td>33.6</td>\n",
              "      <td>0.627</td>\n",
              "      <td>50</td>\n",
              "      <td>1</td>\n",
              "    </tr>\n",
              "    <tr>\n",
              "      <th>1</th>\n",
              "      <td>1</td>\n",
              "      <td>85</td>\n",
              "      <td>66</td>\n",
              "      <td>29</td>\n",
              "      <td>0</td>\n",
              "      <td>26.6</td>\n",
              "      <td>0.351</td>\n",
              "      <td>31</td>\n",
              "      <td>0</td>\n",
              "    </tr>\n",
              "    <tr>\n",
              "      <th>2</th>\n",
              "      <td>8</td>\n",
              "      <td>183</td>\n",
              "      <td>64</td>\n",
              "      <td>0</td>\n",
              "      <td>0</td>\n",
              "      <td>23.3</td>\n",
              "      <td>0.672</td>\n",
              "      <td>32</td>\n",
              "      <td>1</td>\n",
              "    </tr>\n",
              "    <tr>\n",
              "      <th>3</th>\n",
              "      <td>1</td>\n",
              "      <td>89</td>\n",
              "      <td>66</td>\n",
              "      <td>23</td>\n",
              "      <td>94</td>\n",
              "      <td>28.1</td>\n",
              "      <td>0.167</td>\n",
              "      <td>21</td>\n",
              "      <td>0</td>\n",
              "    </tr>\n",
              "    <tr>\n",
              "      <th>4</th>\n",
              "      <td>0</td>\n",
              "      <td>137</td>\n",
              "      <td>40</td>\n",
              "      <td>35</td>\n",
              "      <td>168</td>\n",
              "      <td>43.1</td>\n",
              "      <td>2.288</td>\n",
              "      <td>33</td>\n",
              "      <td>1</td>\n",
              "    </tr>\n",
              "  </tbody>\n",
              "</table>\n",
              "</div>"
            ],
            "text/plain": [
              "   Pregnancies  Glucose  BloodPressure  ...  DiabetesPedigreeFunction  Age  Outcome\n",
              "0            6      148             72  ...                     0.627   50        1\n",
              "1            1       85             66  ...                     0.351   31        0\n",
              "2            8      183             64  ...                     0.672   32        1\n",
              "3            1       89             66  ...                     0.167   21        0\n",
              "4            0      137             40  ...                     2.288   33        1\n",
              "\n",
              "[5 rows x 9 columns]"
            ]
          },
          "metadata": {
            "tags": []
          },
          "execution_count": 5
        }
      ]
    },
    {
      "cell_type": "markdown",
      "metadata": {
        "id": "go2YKxlclu1Q"
      },
      "source": [
        "### Features and Target"
      ]
    },
    {
      "cell_type": "code",
      "metadata": {
        "id": "aP9QaE0ZAF0E"
      },
      "source": [
        "X = diab_df.iloc[:,0:-1] \n",
        "y = diab_df.Outcome "
      ],
      "execution_count": 6,
      "outputs": []
    },
    {
      "cell_type": "code",
      "metadata": {
        "id": "EYZM0MruGQJj",
        "outputId": "907ac037-41d2-4235-f1f3-2d6d64334988",
        "colab": {
          "base_uri": "https://localhost:8080/",
          "height": 204
        }
      },
      "source": [
        "X.head()"
      ],
      "execution_count": 7,
      "outputs": [
        {
          "output_type": "execute_result",
          "data": {
            "text/html": [
              "<div>\n",
              "<style scoped>\n",
              "    .dataframe tbody tr th:only-of-type {\n",
              "        vertical-align: middle;\n",
              "    }\n",
              "\n",
              "    .dataframe tbody tr th {\n",
              "        vertical-align: top;\n",
              "    }\n",
              "\n",
              "    .dataframe thead th {\n",
              "        text-align: right;\n",
              "    }\n",
              "</style>\n",
              "<table border=\"1\" class=\"dataframe\">\n",
              "  <thead>\n",
              "    <tr style=\"text-align: right;\">\n",
              "      <th></th>\n",
              "      <th>Pregnancies</th>\n",
              "      <th>Glucose</th>\n",
              "      <th>BloodPressure</th>\n",
              "      <th>SkinThickness</th>\n",
              "      <th>Insulin</th>\n",
              "      <th>BMI</th>\n",
              "      <th>DiabetesPedigreeFunction</th>\n",
              "      <th>Age</th>\n",
              "    </tr>\n",
              "  </thead>\n",
              "  <tbody>\n",
              "    <tr>\n",
              "      <th>0</th>\n",
              "      <td>6</td>\n",
              "      <td>148</td>\n",
              "      <td>72</td>\n",
              "      <td>35</td>\n",
              "      <td>0</td>\n",
              "      <td>33.6</td>\n",
              "      <td>0.627</td>\n",
              "      <td>50</td>\n",
              "    </tr>\n",
              "    <tr>\n",
              "      <th>1</th>\n",
              "      <td>1</td>\n",
              "      <td>85</td>\n",
              "      <td>66</td>\n",
              "      <td>29</td>\n",
              "      <td>0</td>\n",
              "      <td>26.6</td>\n",
              "      <td>0.351</td>\n",
              "      <td>31</td>\n",
              "    </tr>\n",
              "    <tr>\n",
              "      <th>2</th>\n",
              "      <td>8</td>\n",
              "      <td>183</td>\n",
              "      <td>64</td>\n",
              "      <td>0</td>\n",
              "      <td>0</td>\n",
              "      <td>23.3</td>\n",
              "      <td>0.672</td>\n",
              "      <td>32</td>\n",
              "    </tr>\n",
              "    <tr>\n",
              "      <th>3</th>\n",
              "      <td>1</td>\n",
              "      <td>89</td>\n",
              "      <td>66</td>\n",
              "      <td>23</td>\n",
              "      <td>94</td>\n",
              "      <td>28.1</td>\n",
              "      <td>0.167</td>\n",
              "      <td>21</td>\n",
              "    </tr>\n",
              "    <tr>\n",
              "      <th>4</th>\n",
              "      <td>0</td>\n",
              "      <td>137</td>\n",
              "      <td>40</td>\n",
              "      <td>35</td>\n",
              "      <td>168</td>\n",
              "      <td>43.1</td>\n",
              "      <td>2.288</td>\n",
              "      <td>33</td>\n",
              "    </tr>\n",
              "  </tbody>\n",
              "</table>\n",
              "</div>"
            ],
            "text/plain": [
              "   Pregnancies  Glucose  BloodPressure  ...   BMI  DiabetesPedigreeFunction  Age\n",
              "0            6      148             72  ...  33.6                     0.627   50\n",
              "1            1       85             66  ...  26.6                     0.351   31\n",
              "2            8      183             64  ...  23.3                     0.672   32\n",
              "3            1       89             66  ...  28.1                     0.167   21\n",
              "4            0      137             40  ...  43.1                     2.288   33\n",
              "\n",
              "[5 rows x 8 columns]"
            ]
          },
          "metadata": {
            "tags": []
          },
          "execution_count": 7
        }
      ]
    },
    {
      "cell_type": "markdown",
      "metadata": {
        "id": "gSZVLn6VwTTa"
      },
      "source": [
        "### Split the data into train and test"
      ]
    },
    {
      "cell_type": "code",
      "metadata": {
        "id": "Iz5wmJFqAJCu"
      },
      "source": [
        "X_train,X_test,y_train,y_test=train_test_split(X,y,test_size=0.25,random_state=0)"
      ],
      "execution_count": 8,
      "outputs": []
    },
    {
      "cell_type": "markdown",
      "metadata": {
        "id": "k1Et63Jgl81s"
      },
      "source": [
        "### Instantiate, preprocess, train, and predict (test)"
      ]
    },
    {
      "cell_type": "code",
      "metadata": {
        "id": "gWN0tfshAPKr"
      },
      "source": [
        "\n",
        "LogReg = LogisticRegression()\n",
        "\n",
        "\n",
        "scaler = preprocessing.StandardScaler()\n",
        "X_train = scaler.fit_transform(X_train)\n",
        "X_test = scaler.transform(X_test)\n",
        "\n",
        "LogReg.fit(X_train,y_train)\n",
        "\n",
        "\n",
        "y_pred=LogReg.predict(X_test)"
      ],
      "execution_count": 9,
      "outputs": []
    },
    {
      "cell_type": "code",
      "metadata": {
        "id": "Q0-XyB9JO2BF",
        "outputId": "6bc1d04e-6040-4883-e43b-c88718307153",
        "colab": {
          "base_uri": "https://localhost:8080/",
          "height": 85
        }
      },
      "source": [
        "print('Classes', LogReg.classes_)\n",
        "print('Intercept',LogReg.intercept_)\n",
        "print(\"Coefficients\", LogReg.coef_ )\n",
        "\n",
        "\n"
      ],
      "execution_count": 18,
      "outputs": [
        {
          "output_type": "stream",
          "text": [
            "Classes [0 1]\n",
            "Intercept [-0.8106916]\n",
            "Coefficients [[ 0.29286006  1.03288106 -0.20519002  0.09191431 -0.11308546  0.68771364\n",
            "   0.29190585  0.26366929]]\n"
          ],
          "name": "stdout"
        }
      ]
    },
    {
      "cell_type": "code",
      "metadata": {
        "id": "2fO1hcgaTL7y",
        "outputId": "81165cb8-79b9-4834-948e-ffca39c8f658",
        "colab": {
          "base_uri": "https://localhost:8080/",
          "height": 187
        }
      },
      "source": [
        "print(\"Accuracy\", LogReg.score(X_test, y_test))\n",
        "print(classification_report(y_test, LogReg.predict(X_test)))"
      ],
      "execution_count": 20,
      "outputs": [
        {
          "output_type": "stream",
          "text": [
            "Accuracy 0.8020833333333334\n",
            "              precision    recall  f1-score   support\n",
            "\n",
            "           0       0.82      0.91      0.86       130\n",
            "           1       0.75      0.58      0.65        62\n",
            "\n",
            "    accuracy                           0.80       192\n",
            "   macro avg       0.78      0.74      0.76       192\n",
            "weighted avg       0.80      0.80      0.79       192\n",
            "\n"
          ],
          "name": "stdout"
        }
      ]
    },
    {
      "cell_type": "markdown",
      "metadata": {
        "id": "Bk3QF0kI2vDS"
      },
      "source": [
        "### Confusion Matrix\n",
        "\n",
        "<img src = \"https://miro.medium.com/max/712/1*Z54JgbS4DUwWSknhDCvNTQ.png\">"
      ]
    },
    {
      "cell_type": "code",
      "metadata": {
        "id": "Mua66SkoAeCG",
        "outputId": "5600d85e-bc53-4ec3-ebaf-716c858ef0a7",
        "colab": {
          "base_uri": "https://localhost:8080/",
          "height": 51
        }
      },
      "source": [
        "\n",
        "\n",
        "conf_mat = confusion_matrix(y_test, y_pred)\n",
        "conf_mat"
      ],
      "execution_count": 21,
      "outputs": [
        {
          "output_type": "execute_result",
          "data": {
            "text/plain": [
              "array([[118,  12],\n",
              "       [ 26,  36]])"
            ]
          },
          "metadata": {
            "tags": []
          },
          "execution_count": 21
        }
      ]
    },
    {
      "cell_type": "code",
      "metadata": {
        "id": "RZmPEtpNArGG",
        "outputId": "a3d36159-1f64-45b6-d915-3cc8a0fe09da",
        "colab": {
          "base_uri": "https://localhost:8080/",
          "height": 342
        }
      },
      "source": [
        "categories = [0,1] \n",
        "fig, ax = plt.subplots()\n",
        "plt.xticks([0,1], categories)\n",
        "plt.yticks([0,1], categories)\n",
        "# create heatmap\n",
        "sns.heatmap(pd.DataFrame(conf_mat), annot=True, cmap=\"YlGnBu\" ,fmt='g')\n",
        "ax.xaxis.set_label_position(\"top\")\n",
        "plt.tight_layout()\n",
        "plt.title('Confusion matrix', y=1.1)\n",
        "plt.ylabel('Actual label')\n",
        "plt.xlabel('Predicted label')"
      ],
      "execution_count": 22,
      "outputs": [
        {
          "output_type": "execute_result",
          "data": {
            "text/plain": [
              "Text(0.5, 257.44, 'Predicted label')"
            ]
          },
          "metadata": {
            "tags": []
          },
          "execution_count": 22
        },
        {
          "output_type": "display_data",
          "data": {
            "image/png": "[encoded data removed]",
            "text/plain": [
              "<Figure size 432x288 with 2 Axes>"
            ]
          },
          "metadata": {
            "tags": [],
            "needs_background": "light"
          }
        }
      ]
    },
    {
      "cell_type": "markdown",
      "metadata": {
        "id": "4mC1-_rB0wfw"
      },
      "source": [
        "### Definitions \n",
        "\n",
        "<img src=\"https://i.ytimg.com/vi/BI_OWaOu4Qk/maxresdefault.jpg\">\n",
        "\n",
        "Precision is the proportion of the predicted positives that are true (actual)  positives. It is also called Positive Predictive Rate <img src=\"https://wikimedia.org/api/rest_v1/media/math/render/svg/d854b1544fc77735d575ce0d30e34d7f1eacf707\">\n",
        "\n",
        "Recall is the proportion of the true (actual) positives that are predicted as positives. It is also called True Positive Rate <img src=\"https://wikimedia.org/api/rest_v1/media/math/render/svg/f02ea353bf60bfdd9557d2c98fe18c34cd8db835\">\n",
        "\n",
        "True Negative Rate \n",
        "<img src=\"https://wikimedia.org/api/rest_v1/media/math/render/svg/8f2c867f0641e498ec8a59de63697a3a45d66b07\">\n",
        "\n",
        "False Positive Rate \n",
        "<img src=\"https://wikimedia.org/api/rest_v1/media/math/render/svg/422d06161964ca90602ec8712cd211cb0d80da19\">"
      ]
    },
    {
      "cell_type": "markdown",
      "metadata": {
        "id": "CoADvUXbifu5"
      },
      "source": [
        "### Trade-off between false positives and false negatives\n",
        "\n",
        "The output of the sigmoid function is a probabilty (a number between 0 and 1).\n",
        "How do we decide whether y=1 (positive) or y=0 (negative)?\n",
        "We can set the threshold to 0.5 and decide as follows:\n",
        "If P(y) >= 0.5, it is y=1 (positive), otherwise y=0 (negative).\n",
        "If we set the threshsold to 0.7, we may decrease the false positives and increase the false negatives.\n",
        "If we set the threshsold to 0.3, we may decrease the false negatives and increase the false positives.\n",
        "\n",
        "This is a decision-making problem. It is informed by the use case.\n",
        "\n",
        "If it is a sociotechnical use case, it is an ethical question.\n",
        "\n",
        "1. Suppose we are conducting a medical lab test for a disease (e.g., cancer). A false negative means telling a sick person that they are healthy. This could be deadly. If it comes to a trade-off, we want low false negatives and high false positives.\n",
        "\n",
        "2. If a government of a country wants to access the personal data of its citizens because of national security, then a false positive means accessing the personal data of innocent citizens. A privacy advocate or human rights group would have low false positives and high false negatives, if it comes to a trade-off."
      ]
    },
    {
      "cell_type": "markdown",
      "metadata": {
        "id": "qOlLedmD5piY"
      },
      "source": [
        "### Dummy Classifier\n",
        "\n",
        "If there is class imbalance in the data, the accuracy measure may not be the best. Suppose you have a data with 99% negative class (y=0) and 1% positive class (y=1). Then a dummy algorithm that uses the most frequesnt as a predictor will always choose y=0. The accuracy is 99%. However, we are interested to find the positive cases. For example, a disease affects 1% of the population. "
      ]
    },
    {
      "cell_type": "code",
      "metadata": {
        "id": "rF1eGxCI7Gme"
      },
      "source": [
        "# Dummy classifier in SKlearn\n",
        "from sklearn.dummy import DummyClassifier\n",
        "dummy_clf = DummyClassifier(strategy=\"most_frequent\")"
      ],
      "execution_count": 1,
      "outputs": []
    },
    {
      "cell_type": "markdown",
      "metadata": {
        "id": "7Q_e7a5eZm-m"
      },
      "source": [
        "### F1 Score\n",
        "What is the mean (average) of A and B? You may say (A+B)/2. That is called the arithmetic mean. There are also the harmonic mean and the geometric mean  [Pythagorean means](https://en.wikipedia.org/wiki/Pythagorean_means)\n",
        "\n",
        "The F1 score is a measure of accuracy; it is the harmonic mean of the precision and recall <img src=\"https://wikimedia.org/api/rest_v1/media/math/render/svg/9c94f59b68f5ae0dc92185906c7ec4214fd04e1e\">"
      ]
    },
    {
      "cell_type": "code",
      "metadata": {
        "id": "tk2Mb4HNAxMf",
        "outputId": "d62ed8c8-9616-472e-9d63-b33398236364",
        "colab": {
          "base_uri": "https://localhost:8080/",
          "height": 68
        }
      },
      "source": [
        "print(\"Accuracy:\", accuracy_score(y_test, y_pred))\n",
        "print(\"Precision:\", precision_score(y_test, y_pred))\n",
        "print(\"Recall:\", recall_score(y_test, y_pred))"
      ],
      "execution_count": 30,
      "outputs": [
        {
          "output_type": "stream",
          "text": [
            "Accuracy: 0.8020833333333334\n",
            "Precision: 0.75\n",
            "Recall: 0.5806451612903226\n"
          ],
          "name": "stdout"
        }
      ]
    },
    {
      "cell_type": "code",
      "metadata": {
        "id": "wgwPd2ioBKQF",
        "outputId": "3a84c006-8e98-4585-cce5-1084caeb141f",
        "colab": {
          "base_uri": "https://localhost:8080/",
          "height": 295
        }
      },
      "source": [
        "y_pred_proba = LogReg.predict_proba(X_test)[::,1]\n",
        "fpr, tpr, _ = roc_curve(y_test,  y_pred_proba)\n",
        "auc = roc_auc_score(y_test, y_pred_proba)\n",
        "plt.figure()\n",
        "lw = 2\n",
        "plt.plot(fpr, tpr, color='darkorange',\n",
        "        lw=2, label='ROC curve (area = %0.2f)' % auc)\n",
        "plt.plot([0, 1], [0, 1], color='navy', lw=2, linestyle='--')\n",
        "plt.xlim([0.0, 1.0])\n",
        "plt.ylim([0.0, 1.05])\n",
        "plt.xlabel('False Positive Rate')\n",
        "plt.ylabel('True Positive Rate')\n",
        "plt.title('Receiver operating characteristic example')\n",
        "plt.legend(loc=\"lower right\")\n",
        "plt.show()\n"
      ],
      "execution_count": 32,
      "outputs": [
        {
          "output_type": "display_data",
          "data": {
            "image/png": "[encoded data removed]",
            "text/plain": [
              "<Figure size 432x288 with 1 Axes>"
            ]
          },
          "metadata": {
            "tags": [],
            "needs_background": "light"
          }
        }
      ]
    }
  ]
}