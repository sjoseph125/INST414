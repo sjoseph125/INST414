{
 "cells": [
  {
   "cell_type": "markdown",
   "metadata": {
    "colab_type": "text",
    "id": "b9r4WFIc4HJs"
   },
   "source": [
    "### Module scipy.stats\n",
    "\n",
    "Statistical functions (scipy.stats)\n",
    "This module contains a large number of probability distributions as well as a growing library of statistical functions.\n",
    "\n",
    "Each univariate distribution is an instance of a subclass of rv_continuous (rv_discrete for discrete distributions).\n",
    "\n",
    "[scipy.stats](https://docs.scipy.org/doc/scipy/reference/stats.html)\n",
    "\n"
   ]
  },
  {
   "cell_type": "code",
   "execution_count": 29,
   "metadata": {
    "colab": {
     "base_uri": "https://localhost:8080/",
     "height": 34
    },
    "colab_type": "code",
    "id": "sRZ8CSTeM97U",
    "outputId": "3137b05e-af51-47a5-fbef-f0fea24e1ec0"
   },
   "outputs": [
    {
     "data": {
      "text/plain": [
       "0.3989422804014327"
      ]
     },
     "execution_count": 29,
     "metadata": {},
     "output_type": "execute_result"
    }
   ],
   "source": [
    "## Density function\n",
    "\n",
    "from scipy.stats import norm\n",
    "norm.pdf(0) # same as dnorm(0) in R: density"
   ]
  },
  {
   "cell_type": "markdown",
   "metadata": {
    "colab_type": "text",
    "id": "3I7V4oiS7N8Y"
   },
   "source": [
    "Single variable Normal (Gaussian) distribution\n",
    "f(x) is the density function; it is not the probability of x \n",
    "\n",
    "<img src= \"https://i.stack.imgur.com/oXbxu.jpg\">"
   ]
  },
  {
   "cell_type": "code",
   "execution_count": 16,
   "metadata": {
    "colab": {
     "base_uri": "https://localhost:8080/",
     "height": 34
    },
    "colab_type": "code",
    "id": "qO9xPJR_o9Ec",
    "outputId": "f2cdbccd-d38b-4693-f347-6fc626cc3f15"
   },
   "outputs": [
    {
     "data": {
      "text/plain": [
       "0.0"
      ]
     },
     "execution_count": 16,
     "metadata": {},
     "output_type": "execute_result"
    }
   ],
   "source": [
    "norm.ppf(0.5) # quantile (percent point) function same as qnorm(0.5) in R. Find x such that P(X<=x) = 0.5 --> x = 0"
   ]
  },
  {
   "cell_type": "markdown",
   "metadata": {
    "colab_type": "text",
    "id": "p75F0-I--GOT"
   },
   "source": [
    "<img src='https://online.stat.psu.edu/stat500/sites/stat500/files/inline-images/500%20l1%20median%2050th.png' >"
   ]
  },
  {
   "cell_type": "code",
   "execution_count": 17,
   "metadata": {
    "colab": {
     "base_uri": "https://localhost:8080/",
     "height": 34
    },
    "colab_type": "code",
    "id": "h2QMvDOCpMJb",
    "outputId": "ee2df74b-d060-437d-fa9c-19291846ea37"
   },
   "outputs": [
    {
     "data": {
      "text/plain": [
       "0.5"
      ]
     },
     "execution_count": 17,
     "metadata": {},
     "output_type": "execute_result"
    }
   ],
   "source": [
    "## Cumulative distribution function:   cdf(x, loc=0, scale=1)\n",
    "\n",
    "norm.cdf(0) # same as pnorm(0) in R. This means P(X<=0) = 0.5"
   ]
  },
  {
   "cell_type": "code",
   "execution_count": 18,
   "metadata": {
    "colab": {
     "base_uri": "https://localhost:8080/",
     "height": 34
    },
    "colab_type": "code",
    "id": "89T6HUM1pZNn",
    "outputId": "48895b34-b3cf-476f-a970-d53e5f7ee6f9"
   },
   "outputs": [
    {
     "data": {
      "text/plain": [
       "array([-2.10226586, -0.21692383, -0.1645202 ])"
      ]
     },
     "execution_count": 18,
     "metadata": {},
     "output_type": "execute_result"
    }
   ],
   "source": [
    "# Random variates (numbers):  rvs(loc=0, scale=1, size=1, random_state=None), loc is mean and scale is standard deviation\n",
    "\n",
    "norm.rvs(size=3) # same as rnorm(3) in R"
   ]
  },
  {
   "cell_type": "code",
   "execution_count": 19,
   "metadata": {
    "colab": {
     "base_uri": "https://localhost:8080/",
     "height": 34
    },
    "colab_type": "code",
    "id": "N5WE0dcTa00u",
    "outputId": "06c402b5-5987-45cd-cf52-eefaff778feb"
   },
   "outputs": [
    {
     "data": {
      "text/plain": [
       "0.010934004978399577"
      ]
     },
     "execution_count": 19,
     "metadata": {},
     "output_type": "execute_result"
    }
   ],
   "source": [
    "# mean = 100, standard devaition 15\n",
    "\n",
    "norm.pdf(120, loc = 100, scale = 15)"
   ]
  },
  {
   "cell_type": "code",
   "execution_count": 20,
   "metadata": {
    "colab": {
     "base_uri": "https://localhost:8080/",
     "height": 34
    },
    "colab_type": "code",
    "id": "IbBYtLH1XfRN",
    "outputId": "050b31b0-47ec-41c5-d378-f7da1e58fadd"
   },
   "outputs": [
    {
     "data": {
      "text/plain": [
       "array([ 98.10199645, 108.67555972, 102.81692687])"
      ]
     },
     "execution_count": 20,
     "metadata": {},
     "output_type": "execute_result"
    }
   ],
   "source": [
    "norm.rvs(100,15,3)"
   ]
  },
  {
   "cell_type": "code",
   "execution_count": 21,
   "metadata": {
    "colab": {
     "base_uri": "https://localhost:8080/",
     "height": 34
    },
    "colab_type": "code",
    "id": "wfuE90Ceb5JI",
    "outputId": "b9b76225-60c7-4258-f0b0-c19e6a3c9023"
   },
   "outputs": [
    {
     "data": {
      "text/plain": [
       "array([0.39894228, 0.24197072])"
      ]
     },
     "execution_count": 21,
     "metadata": {},
     "output_type": "execute_result"
    }
   ],
   "source": [
    "# Density function: f(0) and f(1)\n",
    "x = [0,1]\n",
    "norm.pdf(x) ## instead of looping over the list: norm.pdf(0), norm.pdf(1)"
   ]
  },
  {
   "cell_type": "code",
   "execution_count": 22,
   "metadata": {
    "colab": {
     "base_uri": "https://localhost:8080/",
     "height": 34
    },
    "colab_type": "code",
    "id": "VTMYd9e2l9B2",
    "outputId": "083d516c-181d-49e7-a6ff-e9f230a8e788"
   },
   "outputs": [
    {
     "data": {
      "text/plain": [
       "array([0.5       , 0.84134475])"
      ]
     },
     "execution_count": 22,
     "metadata": {},
     "output_type": "execute_result"
    }
   ],
   "source": [
    "norm.cdf(x)   # cumulative distribution 1D gaussian; x=[0,1] is considered as x = 0, x=1 --> norm.cdf(0) and norm.cdf(1)"
   ]
  },
  {
   "cell_type": "code",
   "execution_count": 30,
   "metadata": {
    "colab": {
     "base_uri": "https://localhost:8080/",
     "height": 34
    },
    "colab_type": "code",
    "id": "1wIJYRilf5tC",
    "outputId": "974cf8c6-5f4d-486d-bdab-267cd20d59ce"
   },
   "outputs": [
    {
     "data": {
      "text/plain": [
       "array([0.39894228, 0.24197072])"
      ]
     },
     "execution_count": 30,
     "metadata": {},
     "output_type": "execute_result"
    }
   ],
   "source": [
    "# Multivariate is same as single variate norm.pdf if no vector of means and cov are provided\n",
    "from scipy.stats import multivariate_normal\n",
    "multivariate_normal.pdf(x) # x contains two points in a one-dimensional gaussian"
   ]
  },
  {
   "cell_type": "code",
   "execution_count": 24,
   "metadata": {
    "colab": {
     "base_uri": "https://localhost:8080/",
     "height": 34
    },
    "colab_type": "code",
    "id": "GPTX7rOPZpPn",
    "outputId": "ef4f21b4-8b16-4921-9564-9c136821009c"
   },
   "outputs": [
    {
     "data": {
      "text/plain": [
       "-0.38679066913637056"
      ]
     },
     "execution_count": 24,
     "metadata": {},
     "output_type": "execute_result"
    }
   ],
   "source": [
    "# instantiate a normal multivariate and assign to a variable var1\n",
    "var = multivariate_normal()\n",
    "var.rvs()  # generate one random sample from one-dim gaussian distribution"
   ]
  },
  {
   "cell_type": "code",
   "execution_count": 25,
   "metadata": {
    "colab": {
     "base_uri": "https://localhost:8080/",
     "height": 34
    },
    "colab_type": "code",
    "id": "3gPOWecYkY2g",
    "outputId": "b481ae9d-ec29-4a82-dcb9-dc87422ba3b3"
   },
   "outputs": [
    {
     "data": {
      "text/plain": [
       "0.09653235263005393"
      ]
     },
     "execution_count": 25,
     "metadata": {},
     "output_type": "execute_result"
    }
   ],
   "source": [
    "## mean = [0,0] is the mean of a two dimensional variate. x=[0,1] is considered as a point in  2D \n",
    "from scipy.stats import multivariate_normal\n",
    "var1 = multivariate_normal(mean=[0,0], cov=1)\n",
    "var1.pdf(x) # x contains one point in a two-dim gaussian"
   ]
  },
  {
   "cell_type": "markdown",
   "metadata": {
    "colab_type": "text",
    "id": "bftvK1pPjahM"
   },
   "source": [
    "<img src = 'https://upload.wikimedia.org/wikipedia/commons/8/8e/MultivariateNormal.png'>\n",
    "\n",
    "<img src = 'https://upload.wikimedia.org/wikipedia/commons/thumb/5/57/Multivariate_Gaussian.png/600px-Multivariate_Gaussian.png' >"
   ]
  },
  {
   "cell_type": "code",
   "execution_count": 26,
   "metadata": {
    "colab": {
     "base_uri": "https://localhost:8080/",
     "height": 34
    },
    "colab_type": "code",
    "id": "fTgoEkD8lvuH",
    "outputId": "3916b70c-94c9-4e93-bffc-94d4033f5e96"
   },
   "outputs": [
    {
     "data": {
      "text/plain": [
       "array([ 0.52424237, -0.34270321])"
      ]
     },
     "execution_count": 26,
     "metadata": {},
     "output_type": "execute_result"
    }
   ],
   "source": [
    "var1.rvs() # generate one random sample from 2D gaussian"
   ]
  },
  {
   "cell_type": "code",
   "execution_count": 33,
   "metadata": {
    "colab": {
     "base_uri": "https://localhost:8080/",
     "height": 187
    },
    "colab_type": "code",
    "id": "cEM5-MiR8awC",
    "outputId": "53c88925-22bc-4c74-e2f6-5f77a6d94705"
   },
   "outputs": [
    {
     "name": "stdout",
     "output_type": "stream",
     "text": [
      "1\n",
      "0\n",
      "0\n",
      "0\n",
      "0\n",
      "1\n",
      "1\n",
      "0\n",
      "0\n",
      "1\n"
     ]
    }
   ],
   "source": [
    "import matplotlib.pyplot as plt\n",
    "import numpy as np\n",
    "\n",
    "# random numbers from a Bernoulli distribution (binary outcome) e.g., tossing a  coin heads/tails 10 times\n",
    "\n",
    "#0------p-----------1\n",
    " \n",
    "def bern(p):\n",
    "  r = np.random.uniform(0,1)\n",
    "  if r < p:\n",
    "    return 1\n",
    "  else:\n",
    "    return 0\n",
    "\n",
    "size = 10\n",
    "for i in range(size):\n",
    "  coin = bern(0.5)  # fair coin\n",
    "  print(coin)"
   ]
  },
  {
   "cell_type": "markdown",
   "metadata": {
    "colab_type": "text",
    "id": "8ACXKY1Wrvz_"
   },
   "source": [
    "\n",
    "<img src='https://web.mit.edu/urban_or_book/www/book/chapter7/images7/fig7.2.gif'>"
   ]
  },
  {
   "cell_type": "code",
   "execution_count": 34,
   "metadata": {
    "colab": {
     "base_uri": "https://localhost:8080/",
     "height": 34
    },
    "colab_type": "code",
    "id": "l__m4WuZyx0i",
    "outputId": "4d68de1c-0d5d-4975-95c8-659508819ba4"
   },
   "outputs": [
    {
     "name": "stdout",
     "output_type": "stream",
     "text": [
      "[5, 5]\n"
     ]
    }
   ],
   "source": [
    "# Binomial distribution: binomial random variable is the number of heads or positives or successes x in n repeated trials of a binomial experiment\n",
    "# Example: simulation of the number of heads and tails by tossing a fair coin 10 times\n",
    "def bern(p):\n",
    "  r = np.random.uniform(0,1)\n",
    "  if r < p:\n",
    "    return 1\n",
    "  else:\n",
    "    return 0\n",
    "\n",
    "size = 10\n",
    "x = [0,1]\n",
    "y = [0,0]\n",
    "\n",
    "for i in range(size):\n",
    "  index = bern(0.5)\n",
    "  y[index] +=1\n",
    "\n",
    "print(y)\n",
    "\n"
   ]
  },
  {
   "cell_type": "markdown",
   "metadata": {
    "colab_type": "text",
    "id": "_IFHZw_9qbgC"
   },
   "source": [
    "<img src='https://www.onlinemathlearning.com/image-files/binomial-distribution-formula.png'>"
   ]
  },
  {
   "cell_type": "code",
   "execution_count": 35,
   "metadata": {
    "colab": {
     "base_uri": "https://localhost:8080/",
     "height": 282
    },
    "colab_type": "code",
    "id": "jxqwy4NBHppK",
    "outputId": "f248ca7a-5b4d-4066-aa5c-cbc1485dc35b"
   },
   "outputs": [
    {
     "data": {
      "text/plain": [
       "<BarContainer object of 2 artists>"
      ]
     },
     "execution_count": 35,
     "metadata": {},
     "output_type": "execute_result"
    },
    {
     "data": {
      "image/png": "[encoded data removed]",
      "text/plain": [
       "<Figure size 432x288 with 1 Axes>"
      ]
     },
     "metadata": {
      "needs_background": "light"
     },
     "output_type": "display_data"
    }
   ],
   "source": [
    "import matplotlib.pyplot as plt\n",
    "y[0] = y[0]/size\n",
    "y[1] = y[1]/size\n",
    "plt.bar(x,y, 0.2)"
   ]
  },
  {
   "cell_type": "code",
   "execution_count": 37,
   "metadata": {
    "colab": {
     "base_uri": "https://localhost:8080/",
     "height": 187
    },
    "colab_type": "code",
    "id": "4e6LdKdDDljs",
    "outputId": "3ac58fbb-49df-4320-dcce-1c859ca97d78"
   },
   "outputs": [
    {
     "name": "stdout",
     "output_type": "stream",
     "text": [
      "4\n",
      "1\n",
      "3\n",
      "4\n",
      "2\n",
      "1\n",
      "2\n",
      "5\n",
      "1\n",
      "3\n"
     ]
    }
   ],
   "source": [
    "# Categorical variable with more than two outcomes\n",
    "\n",
    "# Example: random outcomes of a die tossed 10 times\n",
    "\n",
    "#0-------p1--p1+p2------p1+p2+p3-------p1+p2+p3+p4----p1+p2+p3+p4+p5------1\n",
    "\n",
    "def categ(p1,p2,p3,p4,p5,p6):\n",
    "  r = np.random.uniform(0,1)\n",
    "  if r < p1:\n",
    "    return 1\n",
    "  elif r < p1 + p2:\n",
    "    return 2\n",
    "  elif r < p1 + p2 + p3:\n",
    "    return 3\n",
    "  elif r < p1 + p2 + p3 + p4:\n",
    "    return 4\n",
    "  elif r < p1 + p2 + p3 + p4 + p5:\n",
    "    return 5\n",
    "  else: return 6\n",
    "\n",
    "size = 10\n",
    "for i in range(size):\n",
    "  dice = categ(1/6,1/6, 1/6, 1/6, 1/6, 1/6)  # fair die\n",
    "  print(dice)\n",
    "    \n"
   ]
  },
  {
   "cell_type": "code",
   "execution_count": 38,
   "metadata": {
    "colab": {
     "base_uri": "https://localhost:8080/",
     "height": 34
    },
    "colab_type": "code",
    "id": "tUCQj0-SGjDe",
    "outputId": "8ab2b178-6f9c-4c21-b5a6-3a59b12cf093"
   },
   "outputs": [
    {
     "name": "stdout",
     "output_type": "stream",
     "text": [
      "[2, 2, 2, 1, 1, 2]\n"
     ]
    }
   ],
   "source": [
    "# Multinomial distribution is the equivalent of the binomial distribution when the categorical variable has more than two outcomes\n",
    "# Example: Simulation of the number  of times each side of a fair die shows up if the die is tossed 10 times\n",
    "\n",
    "\n",
    "y = [0,0,0,0,0,0,0] # initialize count to zero\n",
    "size = 10\n",
    "\n",
    "for i in range(size):\n",
    "  dice = categ(1/6,1/6, 1/6, 1/6, 1/6, 1/6)\n",
    "  y[dice] += 1\n",
    "  \n",
    "print(y[1:])\n",
    "\n",
    "\n",
    "\n",
    "    "
   ]
  },
  {
   "cell_type": "code",
   "execution_count": 39,
   "metadata": {
    "colab": {
     "base_uri": "https://localhost:8080/",
     "height": 282
    },
    "colab_type": "code",
    "id": "UuoOqlEJImCh",
    "outputId": "01af28b6-7e6e-4e1c-f8e9-8e8412c56a56"
   },
   "outputs": [
    {
     "data": {
      "text/plain": [
       "<BarContainer object of 6 artists>"
      ]
     },
     "execution_count": 39,
     "metadata": {},
     "output_type": "execute_result"
    },
    {
     "data": {
      "image/png": "[encoded data removed]",
      "text/plain": [
       "<Figure size 432x288 with 1 Axes>"
      ]
     },
     "metadata": {
      "needs_background": "light"
     },
     "output_type": "display_data"
    }
   ],
   "source": [
    "x = [1,2,3,4,5,6] # points on x-coordinate\n",
    "\n",
    "y[1] = y[1]/size\n",
    "y[2] = y[2]/size\n",
    "y[3] = y[3]/size\n",
    "y[4] = y[4]/size\n",
    "y[5] = y[5]/size\n",
    "y[6] = y[6]/size\n",
    "\n",
    "y[1:]\n",
    "plt.bar(x,y[1:], 0.1)"
   ]
  },
  {
   "cell_type": "markdown",
   "metadata": {
    "colab_type": "text",
    "id": "Vwla05aguX5b"
   },
   "source": [
    "Using Numpy"
   ]
  },
  {
   "cell_type": "code",
   "execution_count": null,
   "metadata": {
    "colab": {
     "base_uri": "https://localhost:8080/",
     "height": 34
    },
    "colab_type": "code",
    "id": "a5BMz_Zruc7u",
    "outputId": "6fc5fbdd-36ba-4ce2-e4ae-60034eb3802c"
   },
   "outputs": [],
   "source": [
    "# Using numpy to simulate random outcomes of a die tossed 10 times\n",
    "die_1 = np.random.choice( a=[1, 2, 3,4,5,6],  size=10,  p=[1/6, 1/6, 1/6, 1/6, 1/6,1/6]  )\n",
    "die_1"
   ]
  },
  {
   "cell_type": "code",
   "execution_count": null,
   "metadata": {
    "colab": {
     "base_uri": "https://localhost:8080/",
     "height": 34
    },
    "colab_type": "code",
    "id": "cDZbmg93xhYu",
    "outputId": "6ded995d-ea98-4785-df2d-c8e52e32a336"
   },
   "outputs": [],
   "source": [
    "# Using numpy generate samples from a multinomial distribution, i.e., \n",
    "# the number  of times each side of a fair die shows up if the die is tossed 10 times\n",
    "np.random.multinomial(10, [1/6, 1/6, 1/6, 1/6, 1/6,1/6])"
   ]
  },
  {
   "cell_type": "markdown",
   "metadata": {
    "colab_type": "text",
    "id": "_2wpF02Dysuy"
   },
   "source": [
    "Probability of multinomial distribution\n",
    "\n",
    "<img src='https://www.statisticshowto.com/wp-content/uploads/2015/05/multinomial-formula-2.png'>"
   ]
  },
  {
   "cell_type": "markdown",
   "metadata": {
    "colab_type": "text",
    "id": "wQ9Eijq_uZTR"
   },
   "source": [
    "### Summary\n",
    "\n",
    "Bernoulli has two outcomes, e.g., Success(1) with probaility p and Failure(0) with probabilty 1- p. \n",
    "\n",
    "Binomial is about the count of number of successes in N trials. It is the sum of the Bernoullis (ones and zeros)\n",
    "\n",
    "Categorical has more than two discrete outcomes with probabilities p1, p2, p3, ....\n",
    "\n",
    "Multinomial is about the count of each category.\n",
    "\n",
    "Bernoulli is a special case of categorical \n",
    "\n",
    "Binomial is a special case of multinomial"
   ]
  },
  {
   "cell_type": "markdown",
   "metadata": {
    "colab_type": "text",
    "id": "oZH5ZY90xNPS"
   },
   "source": [
    "[GitHub ThinkX](https://github.com/AllenDowney/ThinkX)"
   ]
  },
  {
   "cell_type": "code",
   "execution_count": 4,
   "metadata": {
    "colab": {
     "base_uri": "https://localhost:8080/",
     "height": 428
    },
    "colab_type": "code",
    "id": "vqsQ3CJMtESy",
    "outputId": "bd7bbd4a-b784-47ea-dce3-bb7d297c3c3d"
   },
   "outputs": [
    {
     "name": "stdout",
     "output_type": "stream",
     "text": [
      "Requirement already satisfied: thinkx in c:\\users\\pauls\\anaconda3\\lib\\site-packages (1.1.3)\n",
      "Requirement already satisfied: scipy in c:\\users\\pauls\\anaconda3\\lib\\site-packages (from thinkx) (1.4.1)\n",
      "Requirement already satisfied: pandas in c:\\users\\pauls\\anaconda3\\lib\\site-packages (from thinkx) (1.0.3)\n",
      "Requirement already satisfied: markdown in c:\\users\\pauls\\anaconda3\\lib\\site-packages (from thinkx) (3.2.1)\n",
      "Requirement already satisfied: numpy in c:\\users\\pauls\\anaconda3\\lib\\site-packages (from thinkx) (1.18.1)\n",
      "Requirement already satisfied: matplotlib in c:\\users\\pauls\\anaconda3\\lib\\site-packages (from thinkx) (3.2.1)\n",
      "Requirement already satisfied: python-dateutil>=2.6.1 in c:\\users\\pauls\\anaconda3\\lib\\site-packages (from pandas->thinkx) (2.8.1)\n",
      "Requirement already satisfied: pytz>=2017.2 in c:\\users\\pauls\\anaconda3\\lib\\site-packages (from pandas->thinkx) (2019.3)\n",
      "Requirement already satisfied: setuptools>=36 in c:\\users\\pauls\\anaconda3\\lib\\site-packages (from markdown->thinkx) (46.1.3.post20200325)\n",
      "Requirement already satisfied: pyparsing!=2.0.4,!=2.1.2,!=2.1.6,>=2.0.1 in c:\\users\\pauls\\anaconda3\\lib\\site-packages (from matplotlib->thinkx) (2.4.7)\n",
      "Requirement already satisfied: cycler>=0.10 in c:\\users\\pauls\\anaconda3\\lib\\site-packages (from matplotlib->thinkx) (0.10.0)\n",
      "Requirement already satisfied: kiwisolver>=1.0.1 in c:\\users\\pauls\\anaconda3\\lib\\site-packages (from matplotlib->thinkx) (1.2.0)\n",
      "Requirement already satisfied: six>=1.5 in c:\\users\\pauls\\anaconda3\\lib\\site-packages (from python-dateutil>=2.6.1->pandas->thinkx) (1.14.0)\n"
     ]
    }
   ],
   "source": [
    "import random\n",
    "!pip install thinkx\n"
   ]
  },
  {
   "cell_type": "code",
   "execution_count": 19,
   "metadata": {
    "colab": {},
    "colab_type": "code",
    "id": "k4k1Uf4jvVyg"
   },
   "outputs": [],
   "source": [
    "import thinkstats2\n",
    "import thinkplot"
   ]
  },
  {
   "cell_type": "markdown",
   "metadata": {
    "colab_type": "text",
    "id": "Zn-sCsXQwKqg"
   },
   "source": [
    "**Hypothesis testing**\n",
    "\n",
    "Reference: Chapter 9 of [ThinkStats2](http://greenteapress.com/thinkstats2/thinkstats2.pdf)\n",
    "\n",
    "The following is a version of thinkstats2.HypothesisTest with just the essential methods:"
   ]
  },
  {
   "cell_type": "code",
   "execution_count": 5,
   "metadata": {
    "colab": {},
    "colab_type": "code",
    "id": "sEcC0epmvjTl"
   },
   "outputs": [],
   "source": [
    "class HypothesisTest(object):\n",
    "\n",
    "    def __init__(self, data):\n",
    "        #print(data)\n",
    "        self.data = data\n",
    "        self.MakeModel()\n",
    "        self.actual = self.TestStatistic(data)\n",
    "\n",
    "    def PValue(self, iters=1000):\n",
    "        self.test_stats = [self.TestStatistic(self.RunModel()) \n",
    "                           for _ in range(iters)]\n",
    "\n",
    "        count = sum(1 for x in self.test_stats if x >= self.actual)\n",
    "        return count / iters\n",
    "\n",
    "    def TestStatistic(self, data):\n",
    "        raise UnimplementedMethodException()\n",
    "\n",
    "    def MakeModel(self):\n",
    "        pass\n",
    "\n",
    "    def RunModel(self):\n",
    "        raise UnimplementedMethodException()"
   ]
  },
  {
   "cell_type": "markdown",
   "metadata": {
    "colab_type": "text",
    "id": "MIam5RhJwDoy"
   },
   "source": [
    "And here's an example that uses it to compute the p-value of an experiment where we toss a coin 250 times and get 140 heads.\n",
    "\n",
    "\n",
    "Sample: \n",
    "         \n",
    "         Heads    Tails    Absolute difference         \n",
    "         140      110          30 \n",
    "Actual difference: self.actual = 30\n",
    "\n",
    "Model (Null Hypothesis): A fair coin has absolute difference of almost zero. \n",
    "\n",
    "Simulate 1000 times. Each time toss the coin 250 times and calculate the absolute difference \n",
    "\n",
    "      Heads    Tails    Absolute difference         \n",
    "         130      120          10 \n",
    "         127      123          4\n",
    "         145      105          40 -----> 40 = x >= self.actual = 30\n",
    "         135      115          20\n",
    "         ...      ...          ...\n",
    "         ...      ...          ...\n",
    "How many times (out of 1000 simulations) do we get absolute differences greater (more extreme) or equal to the sample absolute difference of 30?  \n",
    "\n",
    "It turns out 72 times out of 1000.         "
   ]
  },
  {
   "cell_type": "code",
   "execution_count": 6,
   "metadata": {
    "colab": {},
    "colab_type": "code",
    "id": "Bg7JmqJOvpJa"
   },
   "outputs": [],
   "source": [
    "class CoinTest(HypothesisTest):\n",
    "\n",
    "    def TestStatistic(self, data):\n",
    "        heads, tails = data\n",
    "        test_stat = abs(heads - tails)\n",
    "        return test_stat\n",
    "\n",
    "    def RunModel(self):\n",
    "        heads, tails = self.data\n",
    "        n = heads + tails\n",
    "        sample = [random.choice('HT') for _ in range(n)]\n",
    "        return data"
   ]
  },
  {
   "cell_type": "markdown",
   "metadata": {
    "colab_type": "text",
    "id": "2jAZ_Kenv8tm"
   },
   "source": [
    "The p-value turns out to be about 7%, which is considered on the border of statistical significance."
   ]
  },
  {
   "cell_type": "code",
   "execution_count": 7,
   "metadata": {
    "colab": {
     "base_uri": "https://localhost:8080/",
     "height": 34
    },
    "colab_type": "code",
    "id": "YWPK4wy0v0lh",
    "outputId": "52bcea2e-e622-4372-a0dc-1ff4b99d082a"
   },
   "outputs": [
    {
     "ename": "NameError",
     "evalue": "name 'data' is not defined",
     "output_type": "error",
     "traceback": [
      "\u001b[1;31m---------------------------------------------------------------------------\u001b[0m",
      "\u001b[1;31mNameError\u001b[0m                                 Traceback (most recent call last)",
      "\u001b[1;32m<ipython-input-7-7301f0d531ec>\u001b[0m in \u001b[0;36m<module>\u001b[1;34m\u001b[0m\n\u001b[0;32m      1\u001b[0m \u001b[0mct\u001b[0m \u001b[1;33m=\u001b[0m \u001b[0mCoinTest\u001b[0m\u001b[1;33m(\u001b[0m\u001b[1;33m(\u001b[0m\u001b[1;36m140\u001b[0m\u001b[1;33m,\u001b[0m \u001b[1;36m110\u001b[0m\u001b[1;33m)\u001b[0m\u001b[1;33m)\u001b[0m\u001b[1;33m\u001b[0m\u001b[1;33m\u001b[0m\u001b[0m\n\u001b[1;32m----> 2\u001b[1;33m \u001b[0mpvalue\u001b[0m \u001b[1;33m=\u001b[0m \u001b[0mct\u001b[0m\u001b[1;33m.\u001b[0m\u001b[0mPValue\u001b[0m\u001b[1;33m(\u001b[0m\u001b[1;33m)\u001b[0m\u001b[1;33m\u001b[0m\u001b[1;33m\u001b[0m\u001b[0m\n\u001b[0m\u001b[0;32m      3\u001b[0m \u001b[0mpvalue\u001b[0m\u001b[1;33m\u001b[0m\u001b[1;33m\u001b[0m\u001b[0m\n",
      "\u001b[1;32m<ipython-input-5-5ed8a45f4757>\u001b[0m in \u001b[0;36mPValue\u001b[1;34m(self, iters)\u001b[0m\n\u001b[0;32m      9\u001b[0m     \u001b[1;32mdef\u001b[0m \u001b[0mPValue\u001b[0m\u001b[1;33m(\u001b[0m\u001b[0mself\u001b[0m\u001b[1;33m,\u001b[0m \u001b[0miters\u001b[0m\u001b[1;33m=\u001b[0m\u001b[1;36m1000\u001b[0m\u001b[1;33m)\u001b[0m\u001b[1;33m:\u001b[0m\u001b[1;33m\u001b[0m\u001b[1;33m\u001b[0m\u001b[0m\n\u001b[0;32m     10\u001b[0m         self.test_stats = [self.TestStatistic(self.RunModel()) \n\u001b[1;32m---> 11\u001b[1;33m                            for _ in range(iters)]\n\u001b[0m\u001b[0;32m     12\u001b[0m \u001b[1;33m\u001b[0m\u001b[0m\n\u001b[0;32m     13\u001b[0m         \u001b[0mcount\u001b[0m \u001b[1;33m=\u001b[0m \u001b[0msum\u001b[0m\u001b[1;33m(\u001b[0m\u001b[1;36m1\u001b[0m \u001b[1;32mfor\u001b[0m \u001b[0mx\u001b[0m \u001b[1;32min\u001b[0m \u001b[0mself\u001b[0m\u001b[1;33m.\u001b[0m\u001b[0mtest_stats\u001b[0m \u001b[1;32mif\u001b[0m \u001b[0mx\u001b[0m \u001b[1;33m>=\u001b[0m \u001b[0mself\u001b[0m\u001b[1;33m.\u001b[0m\u001b[0mactual\u001b[0m\u001b[1;33m)\u001b[0m\u001b[1;33m\u001b[0m\u001b[1;33m\u001b[0m\u001b[0m\n",
      "\u001b[1;32m<ipython-input-5-5ed8a45f4757>\u001b[0m in \u001b[0;36m<listcomp>\u001b[1;34m(.0)\u001b[0m\n\u001b[0;32m      9\u001b[0m     \u001b[1;32mdef\u001b[0m \u001b[0mPValue\u001b[0m\u001b[1;33m(\u001b[0m\u001b[0mself\u001b[0m\u001b[1;33m,\u001b[0m \u001b[0miters\u001b[0m\u001b[1;33m=\u001b[0m\u001b[1;36m1000\u001b[0m\u001b[1;33m)\u001b[0m\u001b[1;33m:\u001b[0m\u001b[1;33m\u001b[0m\u001b[1;33m\u001b[0m\u001b[0m\n\u001b[0;32m     10\u001b[0m         self.test_stats = [self.TestStatistic(self.RunModel()) \n\u001b[1;32m---> 11\u001b[1;33m                            for _ in range(iters)]\n\u001b[0m\u001b[0;32m     12\u001b[0m \u001b[1;33m\u001b[0m\u001b[0m\n\u001b[0;32m     13\u001b[0m         \u001b[0mcount\u001b[0m \u001b[1;33m=\u001b[0m \u001b[0msum\u001b[0m\u001b[1;33m(\u001b[0m\u001b[1;36m1\u001b[0m \u001b[1;32mfor\u001b[0m \u001b[0mx\u001b[0m \u001b[1;32min\u001b[0m \u001b[0mself\u001b[0m\u001b[1;33m.\u001b[0m\u001b[0mtest_stats\u001b[0m \u001b[1;32mif\u001b[0m \u001b[0mx\u001b[0m \u001b[1;33m>=\u001b[0m \u001b[0mself\u001b[0m\u001b[1;33m.\u001b[0m\u001b[0mactual\u001b[0m\u001b[1;33m)\u001b[0m\u001b[1;33m\u001b[0m\u001b[1;33m\u001b[0m\u001b[0m\n",
      "\u001b[1;32m<ipython-input-6-bfc9763d4123>\u001b[0m in \u001b[0;36mRunModel\u001b[1;34m(self)\u001b[0m\n\u001b[0;32m     10\u001b[0m         \u001b[0mn\u001b[0m \u001b[1;33m=\u001b[0m \u001b[0mheads\u001b[0m \u001b[1;33m+\u001b[0m \u001b[0mtails\u001b[0m\u001b[1;33m\u001b[0m\u001b[1;33m\u001b[0m\u001b[0m\n\u001b[0;32m     11\u001b[0m         \u001b[0msample\u001b[0m \u001b[1;33m=\u001b[0m \u001b[1;33m[\u001b[0m\u001b[0mrandom\u001b[0m\u001b[1;33m.\u001b[0m\u001b[0mchoice\u001b[0m\u001b[1;33m(\u001b[0m\u001b[1;34m'HT'\u001b[0m\u001b[1;33m)\u001b[0m \u001b[1;32mfor\u001b[0m \u001b[0m_\u001b[0m \u001b[1;32min\u001b[0m \u001b[0mrange\u001b[0m\u001b[1;33m(\u001b[0m\u001b[0mn\u001b[0m\u001b[1;33m)\u001b[0m\u001b[1;33m]\u001b[0m\u001b[1;33m\u001b[0m\u001b[1;33m\u001b[0m\u001b[0m\n\u001b[1;32m---> 12\u001b[1;33m         \u001b[1;32mreturn\u001b[0m \u001b[0mdata\u001b[0m\u001b[1;33m\u001b[0m\u001b[1;33m\u001b[0m\u001b[0m\n\u001b[0m",
      "\u001b[1;31mNameError\u001b[0m: name 'data' is not defined"
     ]
    }
   ],
   "source": [
    "ct = CoinTest((140, 110))\n",
    "pvalue = ct.PValue()\n",
    "pvalue"
   ]
  },
  {
   "cell_type": "markdown",
   "metadata": {
    "colab_type": "text",
    "id": "mzKZ8FB50QBr"
   },
   "source": [
    "### Entropy (Physics)\n",
    "Entropy is often interpreted as the degree of disorder or randomness in the system.\n",
    "\n",
    "How many ways can I get 4 heads (\"order\") if I toss a fair coin 4 times?\n",
    " HHHH --> only one way. Probabilty = 1/16\n",
    "\n",
    "How many ways can I get 2 heads and 2 tails (\"disorder\", \"messy\") if I toss to a fair coin 4 times?\n",
    " HHTT, HTHT, TTHH, THTH, HTTH, THHT --> 6 ways. Probability = 6/16\n",
    "\n",
    " There are more ways to have \"disorder\" than \"order\". The increase of entropy in the universe is statistical,i.e., disorder is more probable than order. It explains the arrow of time (past, present, future). Why do we grow old but not get younger? Why do we remember the past but not the future?\n",
    "\n",
    " Life struggles against entropy to maintain existence but increases the overall entropy of the universe by consuming and wasting energy.\n",
    " \n",
    "\n",
    "\n",
    "\n",
    "\n",
    "<img src='https://image.slidesharecdn.com/time-pop-11-120918154634-phpapp02/95/the-origin-of-the-universe-and-the-arrow-of-time-20-728.jpg'>"
   ]
  },
  {
   "cell_type": "markdown",
   "metadata": {
    "colab_type": "text",
    "id": "fLb0zebN7ogK"
   },
   "source": [
    "Is the meaning of life to speed up the entropy (\"disorder\") of the universe?\n",
    "\n",
    "<img src='https://image.slidesharecdn.com/time-pop-11-120918154634-phpapp02/95/the-origin-of-the-universe-and-the-arrow-of-time-16-728.jpg?cb=1347984480'>"
   ]
  },
  {
   "cell_type": "markdown",
   "metadata": {
    "colab_type": "text",
    "id": "MwHAbbdp3emG"
   },
   "source": [
    "### Information Entropy\n",
    "The information content of an event E is defined as ${\\displaystyle I(E)=-\\log _{2}(p(E))}$ or ${\\displaystyle I(E)=\\log _{2}(1/p(E))}$ \n",
    "where $p(E)$ is the probability of the event. The more surprising an event is (low probability), the more info content."
   ]
  },
  {
   "cell_type": "markdown",
   "metadata": {
    "colab_type": "text",
    "id": "-gQhkLy99y8w"
   },
   "source": [
    "Claude Shannon (1916 – 2001), mathematician, electrical engineer, cryptographer\n",
    "\n",
    "<img src='https://i.ytimg.com/vi/z2Whj_nL-x8/hqdefault.jpg'>"
   ]
  },
  {
   "cell_type": "markdown",
   "metadata": {
    "colab_type": "text",
    "id": "-OA7Y9cL9BF5"
   },
   "source": [
    "John Wheeler (1911 – 2008) , theoretical physicist\n",
    "\n",
    "<img src='https://i.ytimg.com/vi/6qMi0K6hlYA/hqdefault.jpg'>"
   ]
  },
  {
   "cell_type": "code",
   "execution_count": null,
   "metadata": {
    "colab": {
     "base_uri": "https://localhost:8080/",
     "height": 34
    },
    "colab_type": "code",
    "id": "FJTDCmYD3biB",
    "outputId": "323c15e2-aeab-48a5-d6d8-1e90b3db1bcb"
   },
   "outputs": [],
   "source": [
    "# Fair coin\n",
    "from math import log2\n",
    "p = 0.5\n",
    "# info content of heads is one bit\n",
    "I = -log2(p)\n",
    "I"
   ]
  },
  {
   "cell_type": "markdown",
   "metadata": {
    "colab_type": "text",
    "id": "loYOEwPuzXne"
   },
   "source": [
    "Let Heads  = 1 and Tails = 0. Then each side can be represented by one bit.\n",
    "\n",
    "` 1 ` \n",
    "\n",
    "` 0 `\n",
    "\n",
    "\n",
    "\n",
    "\n"
   ]
  },
  {
   "cell_type": "code",
   "execution_count": null,
   "metadata": {
    "colab": {
     "base_uri": "https://localhost:8080/",
     "height": 34
    },
    "colab_type": "code",
    "id": "mNu7Kb-e93-7",
    "outputId": "624b90ed-2db0-4f0f-861f-ea0b44feadbe"
   },
   "outputs": [],
   "source": [
    "# Fair die\n",
    "p = 1/6\n",
    "# info content of rolling 5 is 2.858 bits\n",
    "I = -log2(p)\n",
    "I"
   ]
  },
  {
   "cell_type": "markdown",
   "metadata": {
    "colab_type": "text",
    "id": "w36kWb-U1Qsn"
   },
   "source": [
    "\n",
    "Each side of the die can be represented by 3 bits:\n",
    "\n",
    "` 0 0 1  `   ----> 1     \n",
    "` 0 1 0  `   -----> 2  \n",
    "` 0 1 1  `   ------>3    \n",
    "` 1 0 0  `  ------>4    \n",
    "` 1 0 1  `    ---->5   \n",
    "` 1 1 0  `    ----->6\n",
    "\n",
    "  Shannon's formula says we can do better, in principle. Each side of the die can be represented by 2.58 bits. Obviously, we haven't used `000` and `111` in the 3 bit representation. "
   ]
  },
  {
   "cell_type": "markdown",
   "metadata": {
    "colab_type": "text",
    "id": "g7iQnLrF-iFR"
   },
   "source": [
    "Information theory defines the entropy $H$ of a random variable as the average info content of the variable's possible outcomes. \n",
    "$H(X)=E(I(X))=E(-\\log(P(X))$, \n",
    "where $\\operatorname {E}$ is the expected value or average of a variable.\n",
    "For a discrete random variable:\n",
    "${\\displaystyle \\mathrm {H} (X)=-\\sum _{i=1}^{n}{\\mathrm {P} (x_{i})\\log _{2}\\mathrm {P} (x_{i})}}$\n",
    "\n",
    "\n",
    "\n"
   ]
  },
  {
   "cell_type": "code",
   "execution_count": null,
   "metadata": {
    "colab": {
     "base_uri": "https://localhost:8080/",
     "height": 34
    },
    "colab_type": "code",
    "id": "fXL_LlpgEpK3",
    "outputId": "5bee9c30-27e6-4265-f4ad-812212d6af0f"
   },
   "outputs": [],
   "source": [
    "# For a fair die\n",
    "p=1/6\n",
    "H = -sum([p * log2(p) for _ in range(6)])\n",
    "H"
   ]
  },
  {
   "cell_type": "code",
   "execution_count": null,
   "metadata": {
    "colab": {
     "base_uri": "https://localhost:8080/",
     "height": 34
    },
    "colab_type": "code",
    "id": "V4NZu2q5gkOn",
    "outputId": "bd3072e1-5043-4b25-dc6f-439b7250c943"
   },
   "outputs": [],
   "source": [
    "# For a fair English alphabet\n",
    "p=1/26\n",
    "H = -sum([p * log2(p) for _ in range(26)])\n",
    "H"
   ]
  },
  {
   "cell_type": "markdown",
   "metadata": {
    "colab_type": "text",
    "id": "ZiqCE17vUquT"
   },
   "source": [
    "### Intuition: \n",
    "The quantity of information is the number of bits required to send a random event from a probability distribution. It is also considered to measure \"Surprise\".  An event with high probability has less surprise, less entropy, less info, e.g., the Sun rose from the east this morning.\n",
    "An event with low probability surprises us; it has more info, more entropy, e.g., Breaking News: UMD decided to ban all homework. "
   ]
  },
  {
   "cell_type": "markdown",
   "metadata": {
    "colab_type": "text",
    "id": "_7tZMEOSGepo"
   },
   "source": [
    "### Using the library scipy.stats"
   ]
  },
  {
   "cell_type": "code",
   "execution_count": null,
   "metadata": {
    "colab": {
     "base_uri": "https://localhost:8080/",
     "height": 34
    },
    "colab_type": "code",
    "id": "wTQqohs_B-_x",
    "outputId": "120864a3-038d-4bf7-c8bd-9f45ba77f7f2"
   },
   "outputs": [],
   "source": [
    "# Fair die\n",
    "\n",
    "from scipy.stats import entropy\n",
    "\n",
    "p = [1/6, 1/6, 1/6, 1/6, 1/6, 1/6]\n",
    "# Entropy\n",
    "H = entropy(p, base=2)\n",
    "H"
   ]
  },
  {
   "cell_type": "markdown",
   "metadata": {
    "colab_type": "text",
    "id": "fLHyHzHVITAB"
   },
   "source": [
    "### Relative entropy or Kullback-Leibler divergence\n",
    "Average number of extra bits to represent an event from distribution q instead of distribution p."
   ]
  },
  {
   "cell_type": "code",
   "execution_count": null,
   "metadata": {
    "colab": {
     "base_uri": "https://localhost:8080/",
     "height": 51
    },
    "colab_type": "code",
    "id": "tC4zeU3NIYHW",
    "outputId": "516c55c1-4489-45bd-cc28-a3d103079875"
   },
   "outputs": [],
   "source": [
    "print(entropy([1/2, 1/2], qk=[9/10, 1/10]))\n",
    "entropy([3/4, 1/4], qk=[1/2, 1/2], base=2)"
   ]
  },
  {
   "cell_type": "markdown",
   "metadata": {
    "colab_type": "text",
    "id": "gUxr3G-tc_S4"
   },
   "source": [
    "### Cross-Entropy \n",
    "Average number of total bits to represent an event from distribution q instead of distribution P.\n",
    "\n",
    "It is used as a loss function in  Machine Learning, e.g., Logistic Regression"
   ]
  },
  {
   "cell_type": "code",
   "execution_count": null,
   "metadata": {
    "colab": {
     "base_uri": "https://localhost:8080/",
     "height": 34
    },
    "colab_type": "code",
    "id": "n1_q7RAPdzTp",
    "outputId": "d35336b6-ee63-4516-f829-a2b3003f9550"
   },
   "outputs": [],
   "source": [
    "from math import log2\n",
    "\n",
    "def CrossEntropy(p, q):\n",
    "\treturn -sum([p[i]*log2(q[i]) for i in range(len(p))])\n",
    " \n",
    "p = [1/2, 1/2]\n",
    "q = [9/10, 1/10]\n",
    " \n",
    "CrossEntropy(p, q)"
   ]
  },
  {
   "cell_type": "markdown",
   "metadata": {
    "colab_type": "text",
    "id": "ZEk20ERIwLZT"
   },
   "source": [
    "## Bootstrapping\n",
    "We have a sample data and want to infer about the parameter of a population.\n",
    "This method resamples the sample data many times to simulate the sampling distribution. Resampling means sampling from the sample data with replacement.\n",
    "\n",
    "Bootstrapping is a non-parametric method (no assumptions on distribution)"
   ]
  },
  {
   "cell_type": "markdown",
   "metadata": {
    "colab_type": "text",
    "id": "ttHzsdbSYfQP"
   },
   "source": [
    "\n",
    "Bradley Efron published \"Bootstrap methods: another look at the jackknife\" (1979).\n",
    "He received the International Prize in Statistics at the 2019 World Statistics Congress\n",
    "\n",
    "<img src='https://newsroom.taylorandfrancisgroup.com/wp-content/uploads/2018/11/stat-award.png'>"
   ]
  },
  {
   "cell_type": "code",
   "execution_count": null,
   "metadata": {
    "colab": {
     "base_uri": "https://localhost:8080/",
     "height": 34
    },
    "colab_type": "code",
    "id": "RYfr8GF2zYth",
    "outputId": "a5669f19-470f-49ec-e67e-fce0983c9b43"
   },
   "outputs": [],
   "source": [
    "original_sample = np.random.random(100) # The sample is generated from uniform distribution \n",
    "original_sample.mean()"
   ]
  },
  {
   "cell_type": "code",
   "execution_count": null,
   "metadata": {
    "colab": {
     "base_uri": "https://localhost:8080/",
     "height": 34
    },
    "colab_type": "code",
    "id": "hLOeMoy94D7-",
    "outputId": "dd428e2a-37dc-4f1a-b632-e47b243f3d65"
   },
   "outputs": [],
   "source": [
    "means_boot_samples = []\n",
    "for i in range(1000):\n",
    "                boot_sample = np.random.choice(original_sample, 100)\n",
    "                means_boot_samples.append(boot_sample.mean())\n",
    "        \n",
    "np.mean(means_boot_samples)\n",
    "\n",
    "\n"
   ]
  },
  {
   "cell_type": "code",
   "execution_count": null,
   "metadata": {
    "colab": {
     "base_uri": "https://localhost:8080/",
     "height": 34
    },
    "colab_type": "code",
    "id": "J-VLQH7R4QH9",
    "outputId": "5ec17f53-8094-471c-92a9-bd91b2008d0c"
   },
   "outputs": [],
   "source": [
    "conf_int = np.percentile(means_boot_samples, [2.5, 97.5]) # The middle 95% interval\n",
    "conf_int\n",
    "\n"
   ]
  },
  {
   "cell_type": "code",
   "execution_count": null,
   "metadata": {
    "colab": {
     "base_uri": "https://localhost:8080/",
     "height": 319
    },
    "colab_type": "code",
    "id": "dRhciAi04SUr",
    "outputId": "5bcb1876-0301-4181-fe96-3bc96580f18c"
   },
   "outputs": [],
   "source": [
    "import seaborn as sns\n",
    "sns.kdeplot(means_boot_samples)\n",
    "for endpoint in conf_int:\n",
    "    plt.axvline(endpoint, color='red')\n",
    "\n"
   ]
  },
  {
   "cell_type": "code",
   "execution_count": null,
   "metadata": {
    "colab": {
     "base_uri": "https://localhost:8080/",
     "height": 34
    },
    "colab_type": "code",
    "id": "kXH5ZVrj4WRg",
    "outputId": "ded4d97a-4934-4208-e28a-038744534dce"
   },
   "outputs": [],
   "source": [
    "from sklearn.utils import resample\n",
    "means_boot_samples = []\n",
    "for i in range(1000):\n",
    "                boot_sample = resample(original_sample) # does bootstrap; replace = True\n",
    "                means_boot_samples.append(boot_sample.mean())\n",
    "        \n",
    "np.mean(means_boot_samples)"
   ]
  }
 ],
 "metadata": {
  "colab": {
   "name": "ProbabilityDistributions.ipynb",
   "provenance": []
  },
  "kernelspec": {
   "display_name": "Python 3",
   "language": "python",
   "name": "python3"
  },
  "language_info": {
   "codemirror_mode": {
    "name": "ipython",
    "version": 3
   },
   "file_extension": ".py",
   "mimetype": "text/x-python",
   "name": "python",
   "nbconvert_exporter": "python",
   "pygments_lexer": "ipython3",
   "version": "3.7.6"
  }
 },
 "nbformat": 4,
 "nbformat_minor": 4
}
