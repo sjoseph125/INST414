{
 "cells": [
  {
   "cell_type": "code",
   "execution_count": 1,
   "metadata": {
    "colab": {},
    "colab_type": "code",
    "id": "q1yX3waIr1Zz"
   },
   "outputs": [],
   "source": [
    "# Import the python package for handling data frames     Grade: 0.5\n",
    "import pandas as pd"
   ]
  },
  {
   "cell_type": "code",
   "execution_count": 18,
   "metadata": {
    "colab": {},
    "colab_type": "code",
    "id": "L1yafJ3tsCBA"
   },
   "outputs": [],
   "source": [
    "# Read the CSV file into a data frame variable df_1 and display the first rows.  Grade: 1\n",
    "df_1 = pd.read_csv('homework_2_data.csv')"
   ]
  },
  {
   "cell_type": "code",
   "execution_count": 40,
   "metadata": {
    "colab": {},
    "colab_type": "code",
    "id": "TG3jWHTMsKND"
   },
   "outputs": [
    {
     "name": "stdout",
     "output_type": "stream",
     "text": [
      "<class 'pandas.core.frame.DataFrame'>\n",
      "RangeIndex: 1460 entries, 0 to 1459\n",
      "Data columns (total 7 columns):\n",
      " #   Column  Non-Null Count  Dtype  \n",
      "---  ------  --------------  -----  \n",
      " 0   Y       1460 non-null   int64  \n",
      " 1   X1      1460 non-null   int64  \n",
      " 2   X2      1460 non-null   int64  \n",
      " 3   X3      1460 non-null   int64  \n",
      " 4   X4      1460 non-null   int64  \n",
      " 5   X5      1201 non-null   float64\n",
      " 6   X6      1460 non-null   object \n",
      "dtypes: float64(1), int64(5), object(1)\n",
      "memory usage: 80.0+ KB\n"
     ]
    }
   ],
   "source": [
    "# What are the data types of the variables? use the method info and the attribute dtypes  Grade: 1\n",
    "# data_set.info\n",
    "df_1.info()"
   ]
  },
  {
   "cell_type": "code",
   "execution_count": 4,
   "metadata": {
    "colab": {},
    "colab_type": "code",
    "id": "hmzhFrnwset-"
   },
   "outputs": [
    {
     "name": "stdout",
     "output_type": "stream",
     "text": [
      "count: \n",
      " Y     1460\n",
      "X1    1460\n",
      "X2    1460\n",
      "X3    1460\n",
      "X4    1460\n",
      "X5    1201\n",
      "X6    1460\n",
      "dtype: int64 \n",
      "\n",
      "mean: \n",
      " Y     180921.195890\n",
      "X1         6.099315\n",
      "X2      1515.463699\n",
      "X3         1.767123\n",
      "X4      1057.429452\n",
      "X5        70.049958\n",
      "dtype: float64 \n",
      "\n",
      "std: \n",
      " Y     79442.502883\n",
      "X1        1.382997\n",
      "X2      525.480383\n",
      "X3        0.747315\n",
      "X4      438.705324\n",
      "X5       24.284752\n",
      "dtype: float64\n"
     ]
    }
   ],
   "source": [
    "# Use a method that gives you the count, mean, std etc of every variable. Grade: 0.5\n",
    "\n",
    "print('count:','\\n', df_1.count(),'\\n' ) \n",
    "print('mean:','\\n' , df_1.mean(),'\\n' )\n",
    "print('std:','\\n' ,df_1.std())\n"
   ]
  },
  {
   "cell_type": "code",
   "execution_count": 5,
   "metadata": {
    "colab": {},
    "colab_type": "code",
    "id": "D2Wv1BJpsnnO"
   },
   "outputs": [
    {
     "data": {
      "text/plain": [
       "X6\n",
       "COD      143973.255814\n",
       "CWD      210600.000000\n",
       "Con      269600.000000\n",
       "ConLD    138780.888889\n",
       "ConLI    200390.000000\n",
       "ConLw    143700.000000\n",
       "New      274945.418033\n",
       "Oth      119850.000000\n",
       "WD       173401.836622\n",
       "Name: Y, dtype: float64"
      ]
     },
     "execution_count": 5,
     "metadata": {},
     "output_type": "execute_result"
    }
   ],
   "source": [
    "# X6 is a categorical variable. What is the mean value of Y for each category of X6?  Grade: 1.5\n",
    "grouped = df_1.groupby('X6')\n",
    "grouped['Y'].mean()"
   ]
  },
  {
   "cell_type": "code",
   "execution_count": 6,
   "metadata": {
    "colab": {},
    "colab_type": "code",
    "id": "Yg5v9i4ns0sL"
   },
   "outputs": [
    {
     "data": {
      "text/plain": [
       "Y       0\n",
       "X1      0\n",
       "X2      0\n",
       "X3      0\n",
       "X4      0\n",
       "X5    259\n",
       "X6      0\n",
       "dtype: int64"
      ]
     },
     "execution_count": 6,
     "metadata": {},
     "output_type": "execute_result"
    }
   ],
   "source": [
    "# How many Null values does each column has?  Grade: 0.5\n",
    "df_1.isna().sum()"
   ]
  },
  {
   "cell_type": "code",
   "execution_count": 41,
   "metadata": {
    "colab": {},
    "colab_type": "code",
    "id": "YzR23O7ds8In"
   },
   "outputs": [
    {
     "data": {
      "text/plain": [
       "Y     0\n",
       "X1    0\n",
       "X2    0\n",
       "X3    0\n",
       "X4    0\n",
       "X5    0\n",
       "X6    0\n",
       "dtype: int64"
      ]
     },
     "execution_count": 41,
     "metadata": {},
     "output_type": "execute_result"
    }
   ],
   "source": [
    "# Replace the null values of df_1 with the mean of the columns and assign to df_3. Show that df_3 has no null values? Grade: 1.5\n",
    "df_3 = df_1\n",
    "df_3['X5'].fillna(df_3['X5'].mean(), inplace=True)\n",
    "df_3.isna().sum()"
   ]
  },
  {
   "cell_type": "code",
   "execution_count": 16,
   "metadata": {
    "colab": {},
    "colab_type": "code",
    "id": "75MPQLe9tEVb"
   },
   "outputs": [
    {
     "data": {
      "text/html": [
       "<div>\n",
       "<style scoped>\n",
       "    .dataframe tbody tr th:only-of-type {\n",
       "        vertical-align: middle;\n",
       "    }\n",
       "\n",
       "    .dataframe tbody tr th {\n",
       "        vertical-align: top;\n",
       "    }\n",
       "\n",
       "    .dataframe thead th {\n",
       "        text-align: right;\n",
       "    }\n",
       "</style>\n",
       "<table border=\"1\" class=\"dataframe\">\n",
       "  <thead>\n",
       "    <tr style=\"text-align: right;\">\n",
       "      <th></th>\n",
       "      <th>Y</th>\n",
       "      <th>X1</th>\n",
       "      <th>X2</th>\n",
       "      <th>X3</th>\n",
       "      <th>X4</th>\n",
       "      <th>X5</th>\n",
       "      <th>X6_COD</th>\n",
       "      <th>X6_CWD</th>\n",
       "      <th>X6_Con</th>\n",
       "      <th>X6_ConLD</th>\n",
       "      <th>X6_ConLI</th>\n",
       "      <th>X6_ConLw</th>\n",
       "      <th>X6_New</th>\n",
       "      <th>X6_Oth</th>\n",
       "      <th>X6_WD</th>\n",
       "    </tr>\n",
       "  </thead>\n",
       "  <tbody>\n",
       "    <tr>\n",
       "      <th>0</th>\n",
       "      <td>208500</td>\n",
       "      <td>7</td>\n",
       "      <td>1710</td>\n",
       "      <td>2</td>\n",
       "      <td>856</td>\n",
       "      <td>65.0</td>\n",
       "      <td>0</td>\n",
       "      <td>0</td>\n",
       "      <td>0</td>\n",
       "      <td>0</td>\n",
       "      <td>0</td>\n",
       "      <td>0</td>\n",
       "      <td>0</td>\n",
       "      <td>0</td>\n",
       "      <td>1</td>\n",
       "    </tr>\n",
       "    <tr>\n",
       "      <th>1</th>\n",
       "      <td>181500</td>\n",
       "      <td>6</td>\n",
       "      <td>1262</td>\n",
       "      <td>2</td>\n",
       "      <td>1262</td>\n",
       "      <td>80.0</td>\n",
       "      <td>0</td>\n",
       "      <td>0</td>\n",
       "      <td>0</td>\n",
       "      <td>0</td>\n",
       "      <td>0</td>\n",
       "      <td>0</td>\n",
       "      <td>0</td>\n",
       "      <td>0</td>\n",
       "      <td>1</td>\n",
       "    </tr>\n",
       "    <tr>\n",
       "      <th>2</th>\n",
       "      <td>223500</td>\n",
       "      <td>7</td>\n",
       "      <td>1786</td>\n",
       "      <td>2</td>\n",
       "      <td>920</td>\n",
       "      <td>68.0</td>\n",
       "      <td>0</td>\n",
       "      <td>0</td>\n",
       "      <td>0</td>\n",
       "      <td>0</td>\n",
       "      <td>0</td>\n",
       "      <td>0</td>\n",
       "      <td>0</td>\n",
       "      <td>0</td>\n",
       "      <td>1</td>\n",
       "    </tr>\n",
       "    <tr>\n",
       "      <th>3</th>\n",
       "      <td>140000</td>\n",
       "      <td>7</td>\n",
       "      <td>1717</td>\n",
       "      <td>3</td>\n",
       "      <td>756</td>\n",
       "      <td>60.0</td>\n",
       "      <td>0</td>\n",
       "      <td>0</td>\n",
       "      <td>0</td>\n",
       "      <td>0</td>\n",
       "      <td>0</td>\n",
       "      <td>0</td>\n",
       "      <td>0</td>\n",
       "      <td>0</td>\n",
       "      <td>1</td>\n",
       "    </tr>\n",
       "    <tr>\n",
       "      <th>4</th>\n",
       "      <td>250000</td>\n",
       "      <td>8</td>\n",
       "      <td>2198</td>\n",
       "      <td>3</td>\n",
       "      <td>1145</td>\n",
       "      <td>84.0</td>\n",
       "      <td>0</td>\n",
       "      <td>0</td>\n",
       "      <td>0</td>\n",
       "      <td>0</td>\n",
       "      <td>0</td>\n",
       "      <td>0</td>\n",
       "      <td>0</td>\n",
       "      <td>0</td>\n",
       "      <td>1</td>\n",
       "    </tr>\n",
       "  </tbody>\n",
       "</table>\n",
       "</div>"
      ],
      "text/plain": [
       "        Y  X1    X2  X3    X4    X5  X6_COD  X6_CWD  X6_Con  X6_ConLD  \\\n",
       "0  208500   7  1710   2   856  65.0       0       0       0         0   \n",
       "1  181500   6  1262   2  1262  80.0       0       0       0         0   \n",
       "2  223500   7  1786   2   920  68.0       0       0       0         0   \n",
       "3  140000   7  1717   3   756  60.0       0       0       0         0   \n",
       "4  250000   8  2198   3  1145  84.0       0       0       0         0   \n",
       "\n",
       "   X6_ConLI  X6_ConLw  X6_New  X6_Oth  X6_WD  \n",
       "0         0         0       0       0      1  \n",
       "1         0         0       0       0      1  \n",
       "2         0         0       0       0      1  \n",
       "3         0         0       0       0      1  \n",
       "4         0         0       0       0      1  "
      ]
     },
     "execution_count": 16,
     "metadata": {},
     "output_type": "execute_result"
    }
   ],
   "source": [
    "# Change the categorical variables of df_1 into dummy variables and assign to df_2. Display the first rows of df_2  Grade: 1\n",
    "df_2 = pd.get_dummies(df_1)\n",
    "df_2.head()"
   ]
  },
  {
   "cell_type": "code",
   "execution_count": 26,
   "metadata": {
    "colab": {},
    "colab_type": "code",
    "id": "X-ux7GIPtN0g"
   },
   "outputs": [
    {
     "data": {
      "text/plain": [
       "<matplotlib.axes._subplots.AxesSubplot at 0x1ce5901f9c8>"
      ]
     },
     "execution_count": 26,
     "metadata": {},
     "output_type": "execute_result"
    },
    {
     "data": {
      "image/png": "[encoded data removed]",
      "text/plain": [
       "<Figure size 432x288 with 1 Axes>"
      ]
     },
     "metadata": {
      "needs_background": "light"
     },
     "output_type": "display_data"
    }
   ],
   "source": [
    "# Consider X1 as a categorical variable. Plot the relationship of X1 and Y. Hint: use Boxplot.   Grade: 1.5\n",
    "df_1.boxplot(column=['Y'], by='X1')"
   ]
  },
  {
   "cell_type": "code",
   "execution_count": 27,
   "metadata": {
    "colab": {},
    "colab_type": "code",
    "id": "x2KxwkfftRc1"
   },
   "outputs": [
    {
     "data": {
      "text/plain": [
       "<matplotlib.axes._subplots.AxesSubplot at 0x1ce5904c108>"
      ]
     },
     "execution_count": 27,
     "metadata": {},
     "output_type": "execute_result"
    },
    {
     "data": {
      "image/png": "[encoded data removed]",
      "text/plain": [
       "<Figure size 432x288 with 1 Axes>"
      ]
     },
     "metadata": {
      "needs_background": "light"
     },
     "output_type": "display_data"
    }
   ],
   "source": [
    "# Plot the relatioship between X4 and Y. Hint: use scatter plot.   Grade: 1\n",
    "df_1.plot.scatter('X4', 'Y')"
   ]
  },
  {
   "cell_type": "code",
   "execution_count": null,
   "metadata": {},
   "outputs": [],
   "source": []
  }
 ],
 "metadata": {
  "colab": {
   "name": "Homework_2.ipynb",
   "provenance": []
  },
  "kernelspec": {
   "display_name": "Python 3",
   "language": "python",
   "name": "python3"
  },
  "language_info": {
   "codemirror_mode": {
    "name": "ipython",
    "version": 3
   },
   "file_extension": ".py",
   "mimetype": "text/x-python",
   "name": "python",
   "nbconvert_exporter": "python",
   "pygments_lexer": "ipython3",
   "version": "3.7.6"
  }
 },
 "nbformat": 4,
 "nbformat_minor": 4
}
