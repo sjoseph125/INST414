{
 "cells": [
  {
   "cell_type": "markdown",
   "metadata": {
    "colab_type": "text",
    "id": "ZEOKtuQB4YuL"
   },
   "source": [
    "### Homework 3\n",
    "Each questions has a grade of 2 points"
   ]
  },
  {
   "cell_type": "markdown",
   "metadata": {
    "colab_type": "text",
    "id": "uULCT_x6R44P"
   },
   "source": [
    "(1) Two candidates A and B are running for a political office in a town with 10,000 eligible voters. Assuming a null hypothesis model of the candidates having equal chances, generate a sample from the population.  "
   ]
  },
  {
   "cell_type": "code",
   "execution_count": 16,
   "metadata": {
    "colab": {},
    "colab_type": "code",
    "id": "Uw8lcQlmS-SK"
   },
   "outputs": [
    {
     "name": "stdout",
     "output_type": "stream",
     "text": [
      "5003 votes for candidate A\n",
      "4997 votes for candidate B\n"
     ]
    }
   ],
   "source": [
    "# Hint: use the function bern() inside a for-loop. See the lecture notebook\n",
    "import numpy as np\n",
    "\n",
    "\n",
    "def bern(p):\n",
    "    r = np.random.uniform(0,1)\n",
    "    if r <p:\n",
    "        return 1\n",
    "    else:\n",
    "        return 0\n",
    "votes = np.array([])\n",
    "for i in range(10000):\n",
    "    votes = np.append(votes,bern(0.5))\n",
    "print(str(sum(votes==1)) + ' votes for candidate A')\n",
    "print(str(sum(votes==0)) + ' votes for candidate B')"
   ]
  },
  {
   "cell_type": "markdown",
   "metadata": {
    "colab_type": "text",
    "id": "E1H0e0jeUUjQ"
   },
   "source": [
    "(2) A poll conducted by a company found the outcome that 5,100 voters would choose candidate A. Assuming a null hypothesis model of the candidates having equal chances, i.e., no differences, what is the probability of getting results at least as extreme as the outcome from the poll?"
   ]
  },
  {
   "cell_type": "code",
   "execution_count": 99,
   "metadata": {
    "colab": {},
    "colab_type": "code",
    "id": "36bAmoGKXYEW"
   },
   "outputs": [],
   "source": [
    "# Hint: use the CoinTest class in the lecture notebook\n",
    "import random\n",
    "#!pip install thinkx\n",
    "import thinkstats2\n",
    "import thinkplot\n",
    "\n",
    "class VoteCount(thinkstats2.HypothesisTest):\n",
    "\n",
    "    def TestStatistic(self, data):\n",
    "        #print(self.data)\n",
    "        heads, tails = data\n",
    "        test_stat = abs(heads - tails)\n",
    "        return test_stat\n",
    "\n",
    "    def RunModel(self):\n",
    "        heads, tails = self.data\n",
    "        n = heads + tails\n",
    "        sample = [random.choice('HT') for _ in range(n)]\n",
    "        hist = thinkstats2.Hist(sample)\n",
    "        data = hist['H'], hist['T']\n",
    "        return data\n",
    "\n"
   ]
  },
  {
   "cell_type": "code",
   "execution_count": 100,
   "metadata": {},
   "outputs": [
    {
     "name": "stdout",
     "output_type": "stream",
     "text": [
      "There is a 5.1% of getting 5100 votes for candidate A\n"
     ]
    }
   ],
   "source": [
    "v_dist = VoteCount((5100,4900))      \n",
    "p_value = v_dist.PValue()\n",
    "print('There is a ' + str(p_value*100) + '% of getting 5100 votes for candidate A')"
   ]
  },
  {
   "cell_type": "markdown",
   "metadata": {
    "colab_type": "text",
    "id": "xmF7PeFH1l4Q"
   },
   "source": [
    "(3) A die D has four sides with the following probabilities :\n",
    "p(1) = p(2) = 1/8, p(3) = 1/4, p(4)= 1/2.\n",
    "What is the entropy of this distribution?"
   ]
  },
  {
   "cell_type": "code",
   "execution_count": 108,
   "metadata": {
    "colab": {},
    "colab_type": "code",
    "id": "obWQGo7B0pmi"
   },
   "outputs": [
    {
     "data": {
      "text/plain": [
       "1.75"
      ]
     },
     "execution_count": 108,
     "metadata": {},
     "output_type": "execute_result"
    }
   ],
   "source": [
    "from scipy.stats import entropy\n",
    "\n",
    "p=[1/8, 1/8, 1/4, 1/2]\n",
    "H = entropy(p, base=2)\n",
    "H"
   ]
  },
  {
   "cell_type": "markdown",
   "metadata": {
    "colab_type": "text",
    "id": "09xThlnY3TKs"
   },
   "source": [
    "(4) Which probability distribution of the four sides will maximize the entropy? What is the maximum entropy?"
   ]
  },
  {
   "cell_type": "code",
   "execution_count": 141,
   "metadata": {
    "colab": {},
    "colab_type": "code",
    "id": "qq2XzKMS3jEp"
   },
   "outputs": [
    {
     "data": {
      "text/plain": [
       "1.7028195311147831"
      ]
     },
     "execution_count": 141,
     "metadata": {},
     "output_type": "execute_result"
    }
   ],
   "source": [
    "p=[1/16, 3/16, 1/4, 1/2]\n",
    "H = entropy(p, base=2)\n",
    "H"
   ]
  },
  {
   "cell_type": "markdown",
   "metadata": {
    "colab_type": "text",
    "id": "r8LEvYQ57YXX"
   },
   "source": [
    "(5) A coin C1 has the probability distribution p(T) = p(H) = 1/2\n",
    "Another coin C2 has the probability distribution p(T) = 3/4, p(H) = 1/4\n",
    "What is the relative entropy (Kullback–Leibler divergence ) from C2 to C1?\n",
    "What is the relative entropy (Kullback–Leibler divergence ) from C1 to C2?"
   ]
  },
  {
   "cell_type": "markdown",
   "metadata": {
    "colab_type": "text",
    "id": "yOAbz8QTbND6"
   },
   "source": [
    "(6) Generate a sample from a normal distribution with mean = 100 and standard deviation = 15. Bootstrap a sampling distribution from this sample, e.g, resample this sample 1000 times,  and calculate a confidence interval (middle 95%) for the median of the population."
   ]
  },
  {
   "cell_type": "code",
   "execution_count": 134,
   "metadata": {
    "colab": {},
    "colab_type": "code",
    "id": "DZGuMyWHd1Ig"
   },
   "outputs": [
    {
     "data": {
      "text/plain": [
       "99.1012722874775"
      ]
     },
     "execution_count": 134,
     "metadata": {},
     "output_type": "execute_result"
    }
   ],
   "source": [
    "# Hint: random normal function takes (loc = 100, scale =15,size=100) as input\n",
    "sample = np.random.normal(100, 15, 1000)\n",
    "sample.mean()\n",
    "# use np.median()"
   ]
  },
  {
   "cell_type": "code",
   "execution_count": 138,
   "metadata": {},
   "outputs": [],
   "source": [
    "means_boot_samples = []\n",
    "for i in range(1000):\n",
    "                boot_sample = np.random.choice(sample, 1000)\n",
    "                med = np.median(boot_sample)\n",
    "                means_boot_samples.append(med)"
   ]
  },
  {
   "cell_type": "code",
   "execution_count": 139,
   "metadata": {},
   "outputs": [
    {
     "data": {
      "text/plain": [
       "array([ 97.13306623, 100.17402768])"
      ]
     },
     "execution_count": 139,
     "metadata": {},
     "output_type": "execute_result"
    }
   ],
   "source": [
    "conf_int = np.percentile(means_boot_samples, [2.5, 97.5])\n",
    "conf_int"
   ]
  },
  {
   "cell_type": "code",
   "execution_count": null,
   "metadata": {},
   "outputs": [],
   "source": []
  }
 ],
 "metadata": {
  "colab": {
   "name": "INST414_Homework3.ipynb",
   "provenance": []
  },
  "kernelspec": {
   "display_name": "Python 3",
   "language": "python",
   "name": "python3"
  },
  "language_info": {
   "codemirror_mode": {
    "name": "ipython",
    "version": 3
   },
   "file_extension": ".py",
   "mimetype": "text/x-python",
   "name": "python",
   "nbconvert_exporter": "python",
   "pygments_lexer": "ipython3",
   "version": "3.7.6"
  }
 },
 "nbformat": 4,
 "nbformat_minor": 4
}
